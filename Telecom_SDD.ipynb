{
 "cells": [
  {
   "cell_type": "markdown",
   "metadata": {
    "id": "v7QqsRSK2m4k"
   },
   "source": [
    "# Финальный проект. Телеком"
   ]
  },
  {
   "cell_type": "markdown",
   "metadata": {
    "id": "VUhbgdHn2j9M"
   },
   "source": [
    "Оператор связи *«ТелеДом»* хочет бороться с оттоком клиентов. Для этого его сотрудники начнут предлагать промокоды и специальные условия всем, кто планирует отказаться от услуг связи. Чтобы заранее находить таких пользователей, «ТелеДому» нужна модель, которая будет предсказывать, разорвёт ли абонент договор. Команда оператора собрала персональные данные о некоторых клиентах, информацию об их тарифах и услугах.\n",
    "\n",
    "**Ваша задача** — обучить на этих данных модель для прогноза оттока клиентов.\n"
   ]
  },
  {
   "cell_type": "markdown",
   "metadata": {
    "id": "CCSSqlQd20yv"
   },
   "source": [
    "**Описание услуг**\n",
    "\n",
    "Оператор предоставляет два основных типа услуг:\n",
    "1. Стационарную телефонную связь. Телефон можно подключить к нескольким линиям одновременно.\n",
    "2. Интернет. Подключение бывает двух типов: через телефонную линию DSL (англ. digital subscriber line — «цифровая абонентская линия») или оптоволоконный кабель (англ. fiber optic).\n",
    "\n",
    "Также абонентам доступен ряд услуг:\n",
    "- Интернет-безопасность: антивирус (Device Protection) и блокировка опасных сайтов (Online Security);\n",
    "- Выделенная линия технической поддержки (Tech Support);\n",
    "Облачное хранилище файлов для резервного копирования данных (Online Backup);\n",
    "- Стриминговое телевидение (Streaming TV) и каталог фильмов (Streaming Movies).\n",
    "\n",
    "За услуги клиенты могут платить ежемесячно или раз в 1–2 года. Доступны различные способы расчёта и возможность получить электронный чек.\n",
    "\n",
    "**Описание данных**\n",
    "Данные хранятся в Sqlite  — СУБД, в которой база данных представлена одним файлом. Она состоит из нескольких таблиц:\n",
    "- **contract** — информация о договорах;\n",
    "- **personal** — персональные данные клиентов;\n",
    "- **internet** — информация об интернет-услугах;\n",
    "- **phone** — информация об услугах телефонии.\n",
    "\n",
    "**Таблица contract**\n",
    "- `customerID` — ID абонента;\n",
    "- `BeginDate` — дата начала действия договора;\n",
    "- `EndDate` — дата окончания действия договора;\n",
    "- `Type` — тип оплаты: раз в год-два или ежемесячно;\n",
    "- `PaperlessBilling` — электронный расчётный лист;\n",
    "- `PaymentMethod` — тип платежа;\n",
    "- `MonthlyCharges` — расходы за месяц;\n",
    "- `TotalCharges` — общие расходы абонента.\n",
    "\n",
    "**Таблица personal**\n",
    "- `customerID` — ID пользователя;\n",
    "- `gender` — пол;\n",
    "- `SeniorCitizen` — является ли абонент пенсионером;\n",
    "- `Partner` — есть ли у абонента супруг или супруга;\n",
    "- `Dependents` — есть ли у абонента дети.\n",
    "\n",
    "**Таблица internet**\n",
    "- `customerID` — ID пользователя;\n",
    "- `InternetService` — тип подключения;\n",
    "- `OnlineSecurity` — блокировка опасных сайтов;\n",
    "- `OnlineBackup` — облачное хранилище файлов для резервного копирования данных;\n",
    "- `DeviceProtection` — антивирус;\n",
    "- `TechSupport` — выделенная линия технической поддержки;\n",
    "- `StreamingTV` — стриминговое телевидение;\n",
    "- `StreamingMovies` — каталог фильмов.\n",
    "\n",
    "**Таблица phone**\n",
    "- `customerID` — ID пользователя;\n",
    "- `MultipleLines` — подключение телефона к нескольким линиям одновременно.\n",
    "\n",
    "Информация о договорах актуальна на 1 февраля 2020."
   ]
  },
  {
   "cell_type": "markdown",
   "metadata": {},
   "source": [
    "1. [Загрузка данных](#1-загрузка-данных)\n",
    "2. [Первичный EDA-анализ](#2-первичный-eda-анализ)\n",
    "3. [Объединение таблиц](#3-объединение-таблиц)\n",
    "4. [EDA-анализ по объединенной таблице](#4-eda-анализ-по-объединенной-таблице)\n",
    "5. [Подготовка данных к обучению](#5-подготовка-данных-к-обучению)\n",
    "6. [Обучение моделей и подбор гиперпараметров](#6-обучение-моделей-и-подбор-гиперпараметров)\n",
    "    - [6.1. RandomForestClassifier](#61-randomforestclassifier)\n",
    "    - [6.2. MLPClassifier](#62-mlpclassifier)\n",
    "    - [6.3. LightGBM](#63-lightgbm)\n",
    "    - [6.4. CatBoost](#64-catboost)\n",
    "        - [6.4.1. Докрутим CatBoostClassifier](#641-докрутим-catboostclassifier)\n",
    "        - [6.4.2. Финальная модель CatBoostClassifier](#642-финальная-модель-catboostclassifier)\n",
    "7. [Тестирование и демонстрация работы](#7-тестирование-и-демонстрация-работы)\n",
    "    - [7.1. Выводы](#71-выводы)\n",
    "8. [Финальные выводы](#8-финальные-выводы)"
   ]
  },
  {
   "cell_type": "markdown",
   "metadata": {
    "id": "LsHOTUwY57zR"
   },
   "source": [
    "## Загрузка даннных"
   ]
  },
  {
   "cell_type": "code",
   "execution_count": null,
   "metadata": {
    "colab": {
     "base_uri": "https://localhost:8080/",
     "height": 1000
    },
    "id": "5gn9ZrIrSjD9",
    "outputId": "c4a3d47c-d55d-47d2-a8e0-802601cfb614"
   },
   "outputs": [],
   "source": [
    "#!pip install -U numpy\n",
    "#!pip install --force-reinstall --no-cache-dir catboost"
   ]
  },
  {
   "cell_type": "code",
   "execution_count": null,
   "metadata": {},
   "outputs": [],
   "source": [
    "#!pip install lightgbm"
   ]
  },
  {
   "cell_type": "code",
   "execution_count": null,
   "metadata": {},
   "outputs": [],
   "source": [
    "#!pip install imblearn"
   ]
  },
  {
   "cell_type": "code",
   "execution_count": null,
   "metadata": {},
   "outputs": [],
   "source": [
    "#!pip install scikit-learn==1.2.2 --force-reinstall"
   ]
  },
  {
   "cell_type": "code",
   "execution_count": null,
   "metadata": {},
   "outputs": [],
   "source": [
    "#!pip install --force-reinstall \\\n",
    "    #numpy==1.22.4 \\\n",
    "    #pandas==1.5.3 \\\n",
    "    #scikit-learn==1.2.2 \\\n",
    "    #imbalanced-learn==0.10.1 \\\n",
    "    #joblib==1.1.1 \\\n",
    "    #scipy==1.9.1\n"
   ]
  },
  {
   "cell_type": "code",
   "execution_count": 1,
   "metadata": {
    "id": "eMDs6HIE52O4"
   },
   "outputs": [],
   "source": [
    "# Импорты\n",
    "# Стандартные библиотеки\n",
    "import os\n",
    "import random\n",
    "from itertools import product\n",
    "\n",
    "# Научные библиотеки\n",
    "import numpy as np\n",
    "import pandas as pd\n",
    "import matplotlib.pyplot as plt\n",
    "import seaborn as sns\n",
    "\n",
    "# SQL и подключение к базе\n",
    "from sqlalchemy import create_engine\n",
    "\n",
    "# Предобработка и моделирование\n",
    "from sklearn.model_selection import (\n",
    "    train_test_split, StratifiedKFold,\n",
    "    cross_val_score, RandomizedSearchCV\n",
    ")\n",
    "from sklearn.preprocessing import OneHotEncoder, StandardScaler\n",
    "from sklearn.compose import ColumnTransformer\n",
    "from sklearn.pipeline import Pipeline\n",
    "from sklearn.metrics import (\n",
    "    roc_auc_score, roc_curve, auc,\n",
    "    classification_report, confusion_matrix, ConfusionMatrixDisplay\n",
    ")\n",
    "\n",
    "# Модели\n",
    "from sklearn.ensemble import RandomForestClassifier\n",
    "from sklearn.neural_network import MLPClassifier\n",
    "from catboost import CatBoostClassifier, Pool\n",
    "from lightgbm import LGBMClassifier\n",
    "\n",
    "# Подбор параметров\n",
    "from scipy.stats import randint, uniform\n",
    "\n",
    "# Сохранение / загрузка\n",
    "import joblib\n",
    "\n",
    "#\n",
    "import warnings\n",
    "warnings.filterwarnings(\"ignore\", category=FutureWarning)"
   ]
  },
  {
   "cell_type": "code",
   "execution_count": 2,
   "metadata": {
    "id": "_YNfSYCX6BT-"
   },
   "outputs": [],
   "source": [
    "# Константы\n",
    "RANDOM_STATE = 260325"
   ]
  },
  {
   "cell_type": "code",
   "execution_count": 3,
   "metadata": {
    "colab": {
     "base_uri": "https://localhost:8080/"
    },
    "id": "6hcYXUMx7zr9",
    "outputId": "15ae39bf-9799-437f-88a5-7732d483e2e3"
   },
   "outputs": [
    {
     "name": "stdout",
     "output_type": "stream",
     "text": [
      "--2025-04-01 19:33:16--  https://code.s3.yandex.net/data-scientist/ds-plus-final.db\n",
      "Resolving code.s3.yandex.net (code.s3.yandex.net)... 93.158.134.158, 2a02:6b8::2:158\n",
      "Connecting to code.s3.yandex.net (code.s3.yandex.net)|93.158.134.158|:443... connected.\n",
      "HTTP request sent, awaiting response... 200 OK\n",
      "Length: 3588096 (3.4M) [application/octet-stream]\n",
      "Saving to: ‘ds-plus-final.db’\n",
      "\n",
      "ds-plus-final.db    100%[===================>]   3.42M  --.-KB/s    in 0.07s   \n",
      "\n",
      "2025-04-01 19:33:17 (52.3 MB/s) - ‘ds-plus-final.db’ saved [3588096/3588096]\n",
      "\n"
     ]
    }
   ],
   "source": [
    "if os.path.exists(\"ds-plus-final.db\"):\n",
    "    os.remove(\"ds-plus-final.db\")\n",
    "\n",
    "# Скачаем\n",
    "!wget https://code.s3.yandex.net/data-scientist/ds-plus-final.db"
   ]
  },
  {
   "cell_type": "code",
   "execution_count": 4,
   "metadata": {
    "id": "l9FBYTvLUn94"
   },
   "outputs": [],
   "source": [
    "path_to_db = 'ds-plus-final.db'\n",
    "engine = create_engine(f'sqlite:///{path_to_db}', echo=False)"
   ]
  },
  {
   "cell_type": "code",
   "execution_count": 5,
   "metadata": {
    "id": "Ck5iQFmU-G3v"
   },
   "outputs": [],
   "source": [
    "# Загрузка всех таблиц\n",
    "tables = ['contract', 'personal', 'internet', 'phone']\n",
    "dfs = {table: pd.read_sql(f'SELECT * FROM {table}', con=engine) for table in tables}"
   ]
  },
  {
   "cell_type": "code",
   "execution_count": 6,
   "metadata": {
    "colab": {
     "base_uri": "https://localhost:8080/"
    },
    "id": "bEso1lOr-JIZ",
    "outputId": "ba350988-0350-44e3-cd46-73248b7eea3e"
   },
   "outputs": [
    {
     "name": "stdout",
     "output_type": "stream",
     "text": [
      "contract: shape = (7043, 8)\n",
      "personal: shape = (7043, 5)\n",
      "internet: shape = (5517, 8)\n",
      "phone: shape = (6361, 2)\n"
     ]
    }
   ],
   "source": [
    "# Проверка загрузки всех таблиц из словаря dfs\n",
    "for name, df in dfs.items():\n",
    "    print(f\"{name}: shape = {df.shape}\")\n"
   ]
  },
  {
   "cell_type": "code",
   "execution_count": 7,
   "metadata": {
    "colab": {
     "base_uri": "https://localhost:8080/",
     "height": 1000
    },
    "id": "7wwucLll6EGw",
    "outputId": "895572bc-b9d0-41ce-a804-ff372262a60f"
   },
   "outputs": [
    {
     "name": "stdout",
     "output_type": "stream",
     "text": [
      "\n",
      " Таблица: contract — размер: (7043, 8)\n"
     ]
    },
    {
     "data": {
      "text/html": [
       "<div>\n",
       "<style scoped>\n",
       "    .dataframe tbody tr th:only-of-type {\n",
       "        vertical-align: middle;\n",
       "    }\n",
       "\n",
       "    .dataframe tbody tr th {\n",
       "        vertical-align: top;\n",
       "    }\n",
       "\n",
       "    .dataframe thead th {\n",
       "        text-align: right;\n",
       "    }\n",
       "</style>\n",
       "<table border=\"1\" class=\"dataframe\">\n",
       "  <thead>\n",
       "    <tr style=\"text-align: right;\">\n",
       "      <th></th>\n",
       "      <th>customerID</th>\n",
       "      <th>BeginDate</th>\n",
       "      <th>EndDate</th>\n",
       "      <th>Type</th>\n",
       "      <th>PaperlessBilling</th>\n",
       "      <th>PaymentMethod</th>\n",
       "      <th>MonthlyCharges</th>\n",
       "      <th>TotalCharges</th>\n",
       "    </tr>\n",
       "  </thead>\n",
       "  <tbody>\n",
       "    <tr>\n",
       "      <th>0</th>\n",
       "      <td>7590-VHVEG</td>\n",
       "      <td>2020-01-01</td>\n",
       "      <td>No</td>\n",
       "      <td>Month-to-month</td>\n",
       "      <td>Yes</td>\n",
       "      <td>Electronic check</td>\n",
       "      <td>29.85</td>\n",
       "      <td>31.04</td>\n",
       "    </tr>\n",
       "    <tr>\n",
       "      <th>1</th>\n",
       "      <td>5575-GNVDE</td>\n",
       "      <td>2017-04-01</td>\n",
       "      <td>No</td>\n",
       "      <td>One year</td>\n",
       "      <td>No</td>\n",
       "      <td>Mailed check</td>\n",
       "      <td>56.95</td>\n",
       "      <td>2071.84</td>\n",
       "    </tr>\n",
       "    <tr>\n",
       "      <th>2</th>\n",
       "      <td>3668-QPYBK</td>\n",
       "      <td>2019-10-01</td>\n",
       "      <td>No</td>\n",
       "      <td>Month-to-month</td>\n",
       "      <td>Yes</td>\n",
       "      <td>Mailed check</td>\n",
       "      <td>53.85</td>\n",
       "      <td>226.17</td>\n",
       "    </tr>\n",
       "    <tr>\n",
       "      <th>3</th>\n",
       "      <td>7795-CFOCW</td>\n",
       "      <td>2016-05-01</td>\n",
       "      <td>No</td>\n",
       "      <td>One year</td>\n",
       "      <td>No</td>\n",
       "      <td>Bank transfer (automatic)</td>\n",
       "      <td>42.3</td>\n",
       "      <td>1960.6</td>\n",
       "    </tr>\n",
       "    <tr>\n",
       "      <th>4</th>\n",
       "      <td>9237-HQITU</td>\n",
       "      <td>2019-09-01</td>\n",
       "      <td>No</td>\n",
       "      <td>Month-to-month</td>\n",
       "      <td>Yes</td>\n",
       "      <td>Electronic check</td>\n",
       "      <td>70.7</td>\n",
       "      <td>353.5</td>\n",
       "    </tr>\n",
       "  </tbody>\n",
       "</table>\n",
       "</div>"
      ],
      "text/plain": [
       "   customerID   BeginDate EndDate            Type PaperlessBilling  \\\n",
       "0  7590-VHVEG  2020-01-01      No  Month-to-month              Yes   \n",
       "1  5575-GNVDE  2017-04-01      No        One year               No   \n",
       "2  3668-QPYBK  2019-10-01      No  Month-to-month              Yes   \n",
       "3  7795-CFOCW  2016-05-01      No        One year               No   \n",
       "4  9237-HQITU  2019-09-01      No  Month-to-month              Yes   \n",
       "\n",
       "               PaymentMethod MonthlyCharges TotalCharges  \n",
       "0           Electronic check          29.85        31.04  \n",
       "1               Mailed check          56.95      2071.84  \n",
       "2               Mailed check          53.85       226.17  \n",
       "3  Bank transfer (automatic)           42.3       1960.6  \n",
       "4           Electronic check           70.7        353.5  "
      ]
     },
     "metadata": {},
     "output_type": "display_data"
    },
    {
     "name": "stdout",
     "output_type": "stream",
     "text": [
      "<class 'pandas.core.frame.DataFrame'>\n",
      "RangeIndex: 7043 entries, 0 to 7042\n",
      "Data columns (total 8 columns):\n",
      " #   Column            Non-Null Count  Dtype \n",
      "---  ------            --------------  ----- \n",
      " 0   customerID        7043 non-null   object\n",
      " 1   BeginDate         7043 non-null   object\n",
      " 2   EndDate           7043 non-null   object\n",
      " 3   Type              7043 non-null   object\n",
      " 4   PaperlessBilling  7043 non-null   object\n",
      " 5   PaymentMethod     7043 non-null   object\n",
      " 6   MonthlyCharges    7043 non-null   object\n",
      " 7   TotalCharges      7043 non-null   object\n",
      "dtypes: object(8)\n",
      "memory usage: 440.3+ KB\n"
     ]
    },
    {
     "data": {
      "text/plain": [
       "None"
      ]
     },
     "metadata": {},
     "output_type": "display_data"
    },
    {
     "name": "stdout",
     "output_type": "stream",
     "text": [
      "\n",
      " Таблица: personal — размер: (7043, 5)\n"
     ]
    },
    {
     "data": {
      "text/html": [
       "<div>\n",
       "<style scoped>\n",
       "    .dataframe tbody tr th:only-of-type {\n",
       "        vertical-align: middle;\n",
       "    }\n",
       "\n",
       "    .dataframe tbody tr th {\n",
       "        vertical-align: top;\n",
       "    }\n",
       "\n",
       "    .dataframe thead th {\n",
       "        text-align: right;\n",
       "    }\n",
       "</style>\n",
       "<table border=\"1\" class=\"dataframe\">\n",
       "  <thead>\n",
       "    <tr style=\"text-align: right;\">\n",
       "      <th></th>\n",
       "      <th>customerID</th>\n",
       "      <th>gender</th>\n",
       "      <th>SeniorCitizen</th>\n",
       "      <th>Partner</th>\n",
       "      <th>Dependents</th>\n",
       "    </tr>\n",
       "  </thead>\n",
       "  <tbody>\n",
       "    <tr>\n",
       "      <th>0</th>\n",
       "      <td>7590-VHVEG</td>\n",
       "      <td>Female</td>\n",
       "      <td>0</td>\n",
       "      <td>Yes</td>\n",
       "      <td>No</td>\n",
       "    </tr>\n",
       "    <tr>\n",
       "      <th>1</th>\n",
       "      <td>5575-GNVDE</td>\n",
       "      <td>Male</td>\n",
       "      <td>0</td>\n",
       "      <td>No</td>\n",
       "      <td>No</td>\n",
       "    </tr>\n",
       "    <tr>\n",
       "      <th>2</th>\n",
       "      <td>3668-QPYBK</td>\n",
       "      <td>Male</td>\n",
       "      <td>0</td>\n",
       "      <td>No</td>\n",
       "      <td>No</td>\n",
       "    </tr>\n",
       "    <tr>\n",
       "      <th>3</th>\n",
       "      <td>7795-CFOCW</td>\n",
       "      <td>Male</td>\n",
       "      <td>0</td>\n",
       "      <td>No</td>\n",
       "      <td>No</td>\n",
       "    </tr>\n",
       "    <tr>\n",
       "      <th>4</th>\n",
       "      <td>9237-HQITU</td>\n",
       "      <td>Female</td>\n",
       "      <td>0</td>\n",
       "      <td>No</td>\n",
       "      <td>No</td>\n",
       "    </tr>\n",
       "  </tbody>\n",
       "</table>\n",
       "</div>"
      ],
      "text/plain": [
       "   customerID  gender SeniorCitizen Partner Dependents\n",
       "0  7590-VHVEG  Female             0     Yes         No\n",
       "1  5575-GNVDE    Male             0      No         No\n",
       "2  3668-QPYBK    Male             0      No         No\n",
       "3  7795-CFOCW    Male             0      No         No\n",
       "4  9237-HQITU  Female             0      No         No"
      ]
     },
     "metadata": {},
     "output_type": "display_data"
    },
    {
     "name": "stdout",
     "output_type": "stream",
     "text": [
      "<class 'pandas.core.frame.DataFrame'>\n",
      "RangeIndex: 7043 entries, 0 to 7042\n",
      "Data columns (total 5 columns):\n",
      " #   Column         Non-Null Count  Dtype \n",
      "---  ------         --------------  ----- \n",
      " 0   customerID     7043 non-null   object\n",
      " 1   gender         7043 non-null   object\n",
      " 2   SeniorCitizen  7043 non-null   object\n",
      " 3   Partner        7043 non-null   object\n",
      " 4   Dependents     7043 non-null   object\n",
      "dtypes: object(5)\n",
      "memory usage: 275.2+ KB\n"
     ]
    },
    {
     "data": {
      "text/plain": [
       "None"
      ]
     },
     "metadata": {},
     "output_type": "display_data"
    },
    {
     "name": "stdout",
     "output_type": "stream",
     "text": [
      "\n",
      " Таблица: internet — размер: (5517, 8)\n"
     ]
    },
    {
     "data": {
      "text/html": [
       "<div>\n",
       "<style scoped>\n",
       "    .dataframe tbody tr th:only-of-type {\n",
       "        vertical-align: middle;\n",
       "    }\n",
       "\n",
       "    .dataframe tbody tr th {\n",
       "        vertical-align: top;\n",
       "    }\n",
       "\n",
       "    .dataframe thead th {\n",
       "        text-align: right;\n",
       "    }\n",
       "</style>\n",
       "<table border=\"1\" class=\"dataframe\">\n",
       "  <thead>\n",
       "    <tr style=\"text-align: right;\">\n",
       "      <th></th>\n",
       "      <th>customerID</th>\n",
       "      <th>InternetService</th>\n",
       "      <th>OnlineSecurity</th>\n",
       "      <th>OnlineBackup</th>\n",
       "      <th>DeviceProtection</th>\n",
       "      <th>TechSupport</th>\n",
       "      <th>StreamingTV</th>\n",
       "      <th>StreamingMovies</th>\n",
       "    </tr>\n",
       "  </thead>\n",
       "  <tbody>\n",
       "    <tr>\n",
       "      <th>0</th>\n",
       "      <td>7590-VHVEG</td>\n",
       "      <td>DSL</td>\n",
       "      <td>No</td>\n",
       "      <td>Yes</td>\n",
       "      <td>No</td>\n",
       "      <td>No</td>\n",
       "      <td>No</td>\n",
       "      <td>No</td>\n",
       "    </tr>\n",
       "    <tr>\n",
       "      <th>1</th>\n",
       "      <td>5575-GNVDE</td>\n",
       "      <td>DSL</td>\n",
       "      <td>Yes</td>\n",
       "      <td>No</td>\n",
       "      <td>Yes</td>\n",
       "      <td>No</td>\n",
       "      <td>No</td>\n",
       "      <td>No</td>\n",
       "    </tr>\n",
       "    <tr>\n",
       "      <th>2</th>\n",
       "      <td>3668-QPYBK</td>\n",
       "      <td>DSL</td>\n",
       "      <td>Yes</td>\n",
       "      <td>Yes</td>\n",
       "      <td>No</td>\n",
       "      <td>No</td>\n",
       "      <td>No</td>\n",
       "      <td>No</td>\n",
       "    </tr>\n",
       "    <tr>\n",
       "      <th>3</th>\n",
       "      <td>7795-CFOCW</td>\n",
       "      <td>DSL</td>\n",
       "      <td>Yes</td>\n",
       "      <td>No</td>\n",
       "      <td>Yes</td>\n",
       "      <td>Yes</td>\n",
       "      <td>No</td>\n",
       "      <td>No</td>\n",
       "    </tr>\n",
       "    <tr>\n",
       "      <th>4</th>\n",
       "      <td>9237-HQITU</td>\n",
       "      <td>Fiber optic</td>\n",
       "      <td>No</td>\n",
       "      <td>No</td>\n",
       "      <td>No</td>\n",
       "      <td>No</td>\n",
       "      <td>No</td>\n",
       "      <td>No</td>\n",
       "    </tr>\n",
       "  </tbody>\n",
       "</table>\n",
       "</div>"
      ],
      "text/plain": [
       "   customerID InternetService OnlineSecurity OnlineBackup DeviceProtection  \\\n",
       "0  7590-VHVEG             DSL             No          Yes               No   \n",
       "1  5575-GNVDE             DSL            Yes           No              Yes   \n",
       "2  3668-QPYBK             DSL            Yes          Yes               No   \n",
       "3  7795-CFOCW             DSL            Yes           No              Yes   \n",
       "4  9237-HQITU     Fiber optic             No           No               No   \n",
       "\n",
       "  TechSupport StreamingTV StreamingMovies  \n",
       "0          No          No              No  \n",
       "1          No          No              No  \n",
       "2          No          No              No  \n",
       "3         Yes          No              No  \n",
       "4          No          No              No  "
      ]
     },
     "metadata": {},
     "output_type": "display_data"
    },
    {
     "name": "stdout",
     "output_type": "stream",
     "text": [
      "<class 'pandas.core.frame.DataFrame'>\n",
      "RangeIndex: 5517 entries, 0 to 5516\n",
      "Data columns (total 8 columns):\n",
      " #   Column            Non-Null Count  Dtype \n",
      "---  ------            --------------  ----- \n",
      " 0   customerID        5517 non-null   object\n",
      " 1   InternetService   5517 non-null   object\n",
      " 2   OnlineSecurity    5517 non-null   object\n",
      " 3   OnlineBackup      5517 non-null   object\n",
      " 4   DeviceProtection  5517 non-null   object\n",
      " 5   TechSupport       5517 non-null   object\n",
      " 6   StreamingTV       5517 non-null   object\n",
      " 7   StreamingMovies   5517 non-null   object\n",
      "dtypes: object(8)\n",
      "memory usage: 344.9+ KB\n"
     ]
    },
    {
     "data": {
      "text/plain": [
       "None"
      ]
     },
     "metadata": {},
     "output_type": "display_data"
    },
    {
     "name": "stdout",
     "output_type": "stream",
     "text": [
      "\n",
      " Таблица: phone — размер: (6361, 2)\n"
     ]
    },
    {
     "data": {
      "text/html": [
       "<div>\n",
       "<style scoped>\n",
       "    .dataframe tbody tr th:only-of-type {\n",
       "        vertical-align: middle;\n",
       "    }\n",
       "\n",
       "    .dataframe tbody tr th {\n",
       "        vertical-align: top;\n",
       "    }\n",
       "\n",
       "    .dataframe thead th {\n",
       "        text-align: right;\n",
       "    }\n",
       "</style>\n",
       "<table border=\"1\" class=\"dataframe\">\n",
       "  <thead>\n",
       "    <tr style=\"text-align: right;\">\n",
       "      <th></th>\n",
       "      <th>CustomerId</th>\n",
       "      <th>MultipleLines</th>\n",
       "    </tr>\n",
       "  </thead>\n",
       "  <tbody>\n",
       "    <tr>\n",
       "      <th>0</th>\n",
       "      <td>5575-GNVDE</td>\n",
       "      <td>No</td>\n",
       "    </tr>\n",
       "    <tr>\n",
       "      <th>1</th>\n",
       "      <td>3668-QPYBK</td>\n",
       "      <td>No</td>\n",
       "    </tr>\n",
       "    <tr>\n",
       "      <th>2</th>\n",
       "      <td>9237-HQITU</td>\n",
       "      <td>No</td>\n",
       "    </tr>\n",
       "    <tr>\n",
       "      <th>3</th>\n",
       "      <td>9305-CDSKC</td>\n",
       "      <td>Yes</td>\n",
       "    </tr>\n",
       "    <tr>\n",
       "      <th>4</th>\n",
       "      <td>1452-KIOVK</td>\n",
       "      <td>Yes</td>\n",
       "    </tr>\n",
       "  </tbody>\n",
       "</table>\n",
       "</div>"
      ],
      "text/plain": [
       "   CustomerId MultipleLines\n",
       "0  5575-GNVDE            No\n",
       "1  3668-QPYBK            No\n",
       "2  9237-HQITU            No\n",
       "3  9305-CDSKC           Yes\n",
       "4  1452-KIOVK           Yes"
      ]
     },
     "metadata": {},
     "output_type": "display_data"
    },
    {
     "name": "stdout",
     "output_type": "stream",
     "text": [
      "<class 'pandas.core.frame.DataFrame'>\n",
      "RangeIndex: 6361 entries, 0 to 6360\n",
      "Data columns (total 2 columns):\n",
      " #   Column         Non-Null Count  Dtype \n",
      "---  ------         --------------  ----- \n",
      " 0   CustomerId     6361 non-null   object\n",
      " 1   MultipleLines  6361 non-null   object\n",
      "dtypes: object(2)\n",
      "memory usage: 99.5+ KB\n"
     ]
    },
    {
     "data": {
      "text/plain": [
       "None"
      ]
     },
     "metadata": {},
     "output_type": "display_data"
    }
   ],
   "source": [
    "# Выводим информацию о размере и первых строках каждой таблицы\n",
    "for name, df in dfs.items():\n",
    "    print(f'\\n Таблица: {name} — размер: {df.shape}')\n",
    "    display(df.head())\n",
    "    display(df.info())"
   ]
  },
  {
   "cell_type": "markdown",
   "metadata": {
    "id": "hkyWw0KUFIma"
   },
   "source": [
    "## Первичный EDA-анализ"
   ]
  },
  {
   "cell_type": "markdown",
   "metadata": {
    "id": "kyNDxfscFPGI"
   },
   "source": [
    "**План:**\n",
    "\n",
    "- Проверить пропуски и типы;\n",
    "\n",
    "- Привести MonthlyCharges, TotalCharges, SeniorCitizen к нужным типам;\n",
    "\n",
    "- Проверить, почему internet и phone меньше по размеру;\n",
    "\n",
    "- Провести визуальный и числовой анализ распределений;\n",
    "\n",
    "- Определить, какие признаки бинарные, категориальные, числовые;\n",
    "\n",
    "- Выделить потенциальные аномалии."
   ]
  },
  {
   "cell_type": "code",
   "execution_count": 8,
   "metadata": {
    "colab": {
     "base_uri": "https://localhost:8080/",
     "height": 1000
    },
    "id": "X2sgsknH8OEE",
    "outputId": "92ac666a-6523-4df7-b1d1-57a2c320d4a7"
   },
   "outputs": [
    {
     "name": "stdout",
     "output_type": "stream",
     "text": [
      "\n",
      "CONTRACT — пропуски:\n"
     ]
    },
    {
     "data": {
      "text/plain": [
       "customerid             0\n",
       "begindate              0\n",
       "enddate             5942\n",
       "type                   0\n",
       "paperlessbilling       0\n",
       "paymentmethod          0\n",
       "monthlycharges         0\n",
       "totalcharges          11\n",
       "dtype: int64"
      ]
     },
     "metadata": {},
     "output_type": "display_data"
    },
    {
     "name": "stdout",
     "output_type": "stream",
     "text": [
      "\n",
      "PERSONAL — пропуски:\n"
     ]
    },
    {
     "data": {
      "text/plain": [
       "customerid       0\n",
       "gender           0\n",
       "seniorcitizen    0\n",
       "partner          0\n",
       "dependents       0\n",
       "dtype: int64"
      ]
     },
     "metadata": {},
     "output_type": "display_data"
    },
    {
     "name": "stdout",
     "output_type": "stream",
     "text": [
      "\n",
      "INTERNET — пропуски:\n"
     ]
    },
    {
     "data": {
      "text/plain": [
       "customerid          0\n",
       "internetservice     0\n",
       "onlinesecurity      0\n",
       "onlinebackup        0\n",
       "deviceprotection    0\n",
       "techsupport         0\n",
       "streamingtv         0\n",
       "streamingmovies     0\n",
       "dtype: int64"
      ]
     },
     "metadata": {},
     "output_type": "display_data"
    },
    {
     "name": "stdout",
     "output_type": "stream",
     "text": [
      "\n",
      "PHONE — пропуски:\n"
     ]
    },
    {
     "data": {
      "text/plain": [
       "customerid       0\n",
       "multiplelines    0\n",
       "dtype: int64"
      ]
     },
     "metadata": {},
     "output_type": "display_data"
    }
   ],
   "source": [
    "# Приводим названия всех колонок к нижнему регистру и snake_case\n",
    "for name, df in dfs.items():\n",
    "    df.columns = df.columns.str.strip().str.lower().str.replace(' ', '_')\n",
    "\n",
    "# Приведение типов\n",
    "dfs['contract']['monthlycharges'] = pd.to_numeric(dfs['contract']['monthlycharges'], errors='coerce')\n",
    "dfs['contract']['totalcharges'] = pd.to_numeric(dfs['contract']['totalcharges'], errors='coerce')\n",
    "dfs['personal']['seniorcitizen'] = dfs['personal']['seniorcitizen'].astype(int)\n",
    "\n",
    "# Преобразуем 'No' в EndDate → NaN (то есть договор не расторгнут)\n",
    "dfs['contract']['enddate'] = dfs['contract']['enddate'].replace('No', np.nan)\n",
    "\n",
    "# Проверим количество пропусков\n",
    "for name, df in dfs.items():\n",
    "    print(f'\\n{name.upper()} — пропуски:')\n",
    "    display(df.isna().sum())"
   ]
  },
  {
   "cell_type": "code",
   "execution_count": 9,
   "metadata": {},
   "outputs": [
    {
     "data": {
      "text/plain": [
       "11"
      ]
     },
     "execution_count": 9,
     "metadata": {},
     "output_type": "execute_result"
    }
   ],
   "source": [
    "# Проверка пропусков в totalcharges\n",
    "dfs['contract']['totalcharges'].isna().sum()"
   ]
  },
  {
   "cell_type": "code",
   "execution_count": 10,
   "metadata": {},
   "outputs": [
    {
     "data": {
      "text/html": [
       "<div>\n",
       "<style scoped>\n",
       "    .dataframe tbody tr th:only-of-type {\n",
       "        vertical-align: middle;\n",
       "    }\n",
       "\n",
       "    .dataframe tbody tr th {\n",
       "        vertical-align: top;\n",
       "    }\n",
       "\n",
       "    .dataframe thead th {\n",
       "        text-align: right;\n",
       "    }\n",
       "</style>\n",
       "<table border=\"1\" class=\"dataframe\">\n",
       "  <thead>\n",
       "    <tr style=\"text-align: right;\">\n",
       "      <th></th>\n",
       "      <th>customerid</th>\n",
       "      <th>begindate</th>\n",
       "      <th>enddate</th>\n",
       "      <th>type</th>\n",
       "      <th>paperlessbilling</th>\n",
       "      <th>paymentmethod</th>\n",
       "      <th>monthlycharges</th>\n",
       "      <th>totalcharges</th>\n",
       "    </tr>\n",
       "  </thead>\n",
       "  <tbody>\n",
       "    <tr>\n",
       "      <th>488</th>\n",
       "      <td>4472-LVYGI</td>\n",
       "      <td>2020-02-01</td>\n",
       "      <td>NaN</td>\n",
       "      <td>Two year</td>\n",
       "      <td>Yes</td>\n",
       "      <td>Bank transfer (automatic)</td>\n",
       "      <td>52.55</td>\n",
       "      <td>NaN</td>\n",
       "    </tr>\n",
       "    <tr>\n",
       "      <th>753</th>\n",
       "      <td>3115-CZMZD</td>\n",
       "      <td>2020-02-01</td>\n",
       "      <td>NaN</td>\n",
       "      <td>Two year</td>\n",
       "      <td>No</td>\n",
       "      <td>Mailed check</td>\n",
       "      <td>20.25</td>\n",
       "      <td>NaN</td>\n",
       "    </tr>\n",
       "    <tr>\n",
       "      <th>936</th>\n",
       "      <td>5709-LVOEQ</td>\n",
       "      <td>2020-02-01</td>\n",
       "      <td>NaN</td>\n",
       "      <td>Two year</td>\n",
       "      <td>No</td>\n",
       "      <td>Mailed check</td>\n",
       "      <td>80.85</td>\n",
       "      <td>NaN</td>\n",
       "    </tr>\n",
       "    <tr>\n",
       "      <th>1082</th>\n",
       "      <td>4367-NUYAO</td>\n",
       "      <td>2020-02-01</td>\n",
       "      <td>NaN</td>\n",
       "      <td>Two year</td>\n",
       "      <td>No</td>\n",
       "      <td>Mailed check</td>\n",
       "      <td>25.75</td>\n",
       "      <td>NaN</td>\n",
       "    </tr>\n",
       "    <tr>\n",
       "      <th>1340</th>\n",
       "      <td>1371-DWPAZ</td>\n",
       "      <td>2020-02-01</td>\n",
       "      <td>NaN</td>\n",
       "      <td>Two year</td>\n",
       "      <td>No</td>\n",
       "      <td>Credit card (automatic)</td>\n",
       "      <td>56.05</td>\n",
       "      <td>NaN</td>\n",
       "    </tr>\n",
       "    <tr>\n",
       "      <th>3331</th>\n",
       "      <td>7644-OMVMY</td>\n",
       "      <td>2020-02-01</td>\n",
       "      <td>NaN</td>\n",
       "      <td>Two year</td>\n",
       "      <td>No</td>\n",
       "      <td>Mailed check</td>\n",
       "      <td>19.85</td>\n",
       "      <td>NaN</td>\n",
       "    </tr>\n",
       "    <tr>\n",
       "      <th>3826</th>\n",
       "      <td>3213-VVOLG</td>\n",
       "      <td>2020-02-01</td>\n",
       "      <td>NaN</td>\n",
       "      <td>Two year</td>\n",
       "      <td>No</td>\n",
       "      <td>Mailed check</td>\n",
       "      <td>25.35</td>\n",
       "      <td>NaN</td>\n",
       "    </tr>\n",
       "    <tr>\n",
       "      <th>4380</th>\n",
       "      <td>2520-SGTTA</td>\n",
       "      <td>2020-02-01</td>\n",
       "      <td>NaN</td>\n",
       "      <td>Two year</td>\n",
       "      <td>No</td>\n",
       "      <td>Mailed check</td>\n",
       "      <td>20.00</td>\n",
       "      <td>NaN</td>\n",
       "    </tr>\n",
       "    <tr>\n",
       "      <th>5218</th>\n",
       "      <td>2923-ARZLG</td>\n",
       "      <td>2020-02-01</td>\n",
       "      <td>NaN</td>\n",
       "      <td>One year</td>\n",
       "      <td>Yes</td>\n",
       "      <td>Mailed check</td>\n",
       "      <td>19.70</td>\n",
       "      <td>NaN</td>\n",
       "    </tr>\n",
       "    <tr>\n",
       "      <th>6670</th>\n",
       "      <td>4075-WKNIU</td>\n",
       "      <td>2020-02-01</td>\n",
       "      <td>NaN</td>\n",
       "      <td>Two year</td>\n",
       "      <td>No</td>\n",
       "      <td>Mailed check</td>\n",
       "      <td>73.35</td>\n",
       "      <td>NaN</td>\n",
       "    </tr>\n",
       "    <tr>\n",
       "      <th>6754</th>\n",
       "      <td>2775-SEFEE</td>\n",
       "      <td>2020-02-01</td>\n",
       "      <td>NaN</td>\n",
       "      <td>Two year</td>\n",
       "      <td>Yes</td>\n",
       "      <td>Bank transfer (automatic)</td>\n",
       "      <td>61.90</td>\n",
       "      <td>NaN</td>\n",
       "    </tr>\n",
       "  </tbody>\n",
       "</table>\n",
       "</div>"
      ],
      "text/plain": [
       "      customerid   begindate enddate      type paperlessbilling  \\\n",
       "488   4472-LVYGI  2020-02-01     NaN  Two year              Yes   \n",
       "753   3115-CZMZD  2020-02-01     NaN  Two year               No   \n",
       "936   5709-LVOEQ  2020-02-01     NaN  Two year               No   \n",
       "1082  4367-NUYAO  2020-02-01     NaN  Two year               No   \n",
       "1340  1371-DWPAZ  2020-02-01     NaN  Two year               No   \n",
       "3331  7644-OMVMY  2020-02-01     NaN  Two year               No   \n",
       "3826  3213-VVOLG  2020-02-01     NaN  Two year               No   \n",
       "4380  2520-SGTTA  2020-02-01     NaN  Two year               No   \n",
       "5218  2923-ARZLG  2020-02-01     NaN  One year              Yes   \n",
       "6670  4075-WKNIU  2020-02-01     NaN  Two year               No   \n",
       "6754  2775-SEFEE  2020-02-01     NaN  Two year              Yes   \n",
       "\n",
       "                  paymentmethod  monthlycharges  totalcharges  \n",
       "488   Bank transfer (automatic)           52.55           NaN  \n",
       "753                Mailed check           20.25           NaN  \n",
       "936                Mailed check           80.85           NaN  \n",
       "1082               Mailed check           25.75           NaN  \n",
       "1340    Credit card (automatic)           56.05           NaN  \n",
       "3331               Mailed check           19.85           NaN  \n",
       "3826               Mailed check           25.35           NaN  \n",
       "4380               Mailed check           20.00           NaN  \n",
       "5218               Mailed check           19.70           NaN  \n",
       "6670               Mailed check           73.35           NaN  \n",
       "6754  Bank transfer (automatic)           61.90           NaN  "
      ]
     },
     "execution_count": 10,
     "metadata": {},
     "output_type": "execute_result"
    }
   ],
   "source": [
    "# Выведем пропуски\n",
    "dfs['contract'][dfs['contract']['totalcharges'].isna()]"
   ]
  },
  {
   "cell_type": "code",
   "execution_count": 11,
   "metadata": {},
   "outputs": [],
   "source": [
    "# Заменим пропуски на 0.0\n",
    "dfs['contract']['totalcharges'] = dfs['contract']['totalcharges'].fillna(0.0)"
   ]
  },
  {
   "cell_type": "markdown",
   "metadata": {},
   "source": [
    "**Обработка пропусков в `totalcharges`:**\n",
    "\n",
    "В таблице `contract` было 11 строк с пропущенным значением в столбце `totalcharges`.  \n",
    "Анализ показал, что все эти клиенты заключили договор 1 февраля 2020 года — это дата актуальности выгрузки.  \n",
    "Они только подключились, поэтому ещё не успели накопить расходы.  \n",
    "Значения `NaN` были логично заменены на `0.0`."
   ]
  },
  {
   "cell_type": "markdown",
   "metadata": {
    "id": "gmNMzlIaF3BD"
   },
   "source": [
    "**Промежуточные выводы по первичному EDA-анализу**\n",
    "\n",
    "**Таблица contract:**\n",
    "\n",
    "- 5942 пропуска в enddate → значит 5942 клиента не ушли, а остальные (7043 - 5942 = 1101) — ушли.\n",
    "Это и будет наша целевая переменная (is_churn).\n",
    "\n",
    "- 11 пропусков в totalcharges — скорее всего, у новых клиентов, у которых monthlycharges > 0, но totalcharges ещё не накопились.\n",
    "\n",
    "**Таблица personal:**\n",
    "\n",
    "- Всё в порядке — без пропусков, признаки бинарные (yes / no), seniorcitizen — теперь int.\n",
    "\n",
    "**Таблица internet:**\n",
    "\n",
    "- 7043 - 5517 = 1526 клиентов не используют интернет, отсюда и отсутствие записей → при объединении будет NaN.\n",
    "\n",
    "**Таблица phone**\n",
    "\n",
    "- 7043 - 6361 = 682 клиента не используют телефонию, аналогично."
   ]
  },
  {
   "cell_type": "markdown",
   "metadata": {
    "id": "YimX2jCUGNfH"
   },
   "source": [
    "## Объединение таблиц"
   ]
  },
  {
   "cell_type": "markdown",
   "metadata": {
    "id": "9bGXt5AGGShr"
   },
   "source": [
    "План:\n",
    "\n",
    "1. Пропущенные строки (в internet, phone) сохраняем — для тех клиентов просто нет таких услуг.\n",
    "\n",
    "2. После объединения — создадим is_churn = 1, если enddate заполнено.\n",
    "\n",
    "3. Также посчитаем contract_duration = дата_сдачи - дата_начала (мы знаем, что данные на 01.02.2020)."
   ]
  },
  {
   "cell_type": "code",
   "execution_count": 12,
   "metadata": {
    "id": "LPSjznbfFgNc"
   },
   "outputs": [],
   "source": [
    "# Объединение таблиц\n",
    "df_full = dfs['contract'] \\\n",
    "    .merge(dfs['personal'], on='customerid', how='left') \\\n",
    "    .merge(dfs['internet'], on='customerid', how='left') \\\n",
    "    .merge(dfs['phone'], on='customerid', how='left')"
   ]
  },
  {
   "cell_type": "code",
   "execution_count": 13,
   "metadata": {
    "id": "Z7rl5NOhGazk"
   },
   "outputs": [],
   "source": [
    "# Создаём флаг оттока\n",
    "df_full['is_churn'] = df_full['enddate'].notna().astype(int)"
   ]
  },
  {
   "cell_type": "code",
   "execution_count": 14,
   "metadata": {
    "id": "G28Yd2Z5GdJJ"
   },
   "outputs": [],
   "source": [
    "# Преобразуем даты\n",
    "df_full['begindate'] = pd.to_datetime(df_full['begindate'])\n",
    "df_full['enddate'] = pd.to_datetime(df_full['enddate'])"
   ]
  },
  {
   "cell_type": "code",
   "execution_count": 15,
   "metadata": {
    "id": "8Lp_w8WNGeYb"
   },
   "outputs": [],
   "source": [
    "# Дата актуальности данных\n",
    "reference_date = pd.to_datetime('2020-02-01')"
   ]
  },
  {
   "cell_type": "code",
   "execution_count": 16,
   "metadata": {
    "id": "Yqry0N-BGgCb"
   },
   "outputs": [],
   "source": [
    "# Длительность контракта в днях\n",
    "df_full['contract_duration'] = (\n",
    "    df_full['enddate'].fillna(reference_date) - df_full['begindate']\n",
    ").dt.days"
   ]
  },
  {
   "cell_type": "code",
   "execution_count": 17,
   "metadata": {
    "colab": {
     "base_uri": "https://localhost:8080/",
     "height": 412
    },
    "id": "pnhTQTS0Ghzz",
    "outputId": "c00bda71-d5a9-4ddd-e093-ed4a1e94ec78"
   },
   "outputs": [
    {
     "name": "stdout",
     "output_type": "stream",
     "text": [
      "Форма итогового датафрейма: (7043, 22)\n"
     ]
    },
    {
     "data": {
      "text/html": [
       "<div>\n",
       "<style scoped>\n",
       "    .dataframe tbody tr th:only-of-type {\n",
       "        vertical-align: middle;\n",
       "    }\n",
       "\n",
       "    .dataframe tbody tr th {\n",
       "        vertical-align: top;\n",
       "    }\n",
       "\n",
       "    .dataframe thead th {\n",
       "        text-align: right;\n",
       "    }\n",
       "</style>\n",
       "<table border=\"1\" class=\"dataframe\">\n",
       "  <thead>\n",
       "    <tr style=\"text-align: right;\">\n",
       "      <th></th>\n",
       "      <th>customerid</th>\n",
       "      <th>begindate</th>\n",
       "      <th>enddate</th>\n",
       "      <th>type</th>\n",
       "      <th>paperlessbilling</th>\n",
       "      <th>paymentmethod</th>\n",
       "      <th>monthlycharges</th>\n",
       "      <th>totalcharges</th>\n",
       "      <th>gender</th>\n",
       "      <th>seniorcitizen</th>\n",
       "      <th>...</th>\n",
       "      <th>internetservice</th>\n",
       "      <th>onlinesecurity</th>\n",
       "      <th>onlinebackup</th>\n",
       "      <th>deviceprotection</th>\n",
       "      <th>techsupport</th>\n",
       "      <th>streamingtv</th>\n",
       "      <th>streamingmovies</th>\n",
       "      <th>multiplelines</th>\n",
       "      <th>is_churn</th>\n",
       "      <th>contract_duration</th>\n",
       "    </tr>\n",
       "  </thead>\n",
       "  <tbody>\n",
       "    <tr>\n",
       "      <th>0</th>\n",
       "      <td>7590-VHVEG</td>\n",
       "      <td>2020-01-01</td>\n",
       "      <td>NaT</td>\n",
       "      <td>Month-to-month</td>\n",
       "      <td>Yes</td>\n",
       "      <td>Electronic check</td>\n",
       "      <td>29.85</td>\n",
       "      <td>31.04</td>\n",
       "      <td>Female</td>\n",
       "      <td>0</td>\n",
       "      <td>...</td>\n",
       "      <td>DSL</td>\n",
       "      <td>No</td>\n",
       "      <td>Yes</td>\n",
       "      <td>No</td>\n",
       "      <td>No</td>\n",
       "      <td>No</td>\n",
       "      <td>No</td>\n",
       "      <td>NaN</td>\n",
       "      <td>0</td>\n",
       "      <td>31</td>\n",
       "    </tr>\n",
       "    <tr>\n",
       "      <th>1</th>\n",
       "      <td>5575-GNVDE</td>\n",
       "      <td>2017-04-01</td>\n",
       "      <td>NaT</td>\n",
       "      <td>One year</td>\n",
       "      <td>No</td>\n",
       "      <td>Mailed check</td>\n",
       "      <td>56.95</td>\n",
       "      <td>2071.84</td>\n",
       "      <td>Male</td>\n",
       "      <td>0</td>\n",
       "      <td>...</td>\n",
       "      <td>DSL</td>\n",
       "      <td>Yes</td>\n",
       "      <td>No</td>\n",
       "      <td>Yes</td>\n",
       "      <td>No</td>\n",
       "      <td>No</td>\n",
       "      <td>No</td>\n",
       "      <td>No</td>\n",
       "      <td>0</td>\n",
       "      <td>1036</td>\n",
       "    </tr>\n",
       "    <tr>\n",
       "      <th>2</th>\n",
       "      <td>3668-QPYBK</td>\n",
       "      <td>2019-10-01</td>\n",
       "      <td>NaT</td>\n",
       "      <td>Month-to-month</td>\n",
       "      <td>Yes</td>\n",
       "      <td>Mailed check</td>\n",
       "      <td>53.85</td>\n",
       "      <td>226.17</td>\n",
       "      <td>Male</td>\n",
       "      <td>0</td>\n",
       "      <td>...</td>\n",
       "      <td>DSL</td>\n",
       "      <td>Yes</td>\n",
       "      <td>Yes</td>\n",
       "      <td>No</td>\n",
       "      <td>No</td>\n",
       "      <td>No</td>\n",
       "      <td>No</td>\n",
       "      <td>No</td>\n",
       "      <td>0</td>\n",
       "      <td>123</td>\n",
       "    </tr>\n",
       "    <tr>\n",
       "      <th>3</th>\n",
       "      <td>7795-CFOCW</td>\n",
       "      <td>2016-05-01</td>\n",
       "      <td>NaT</td>\n",
       "      <td>One year</td>\n",
       "      <td>No</td>\n",
       "      <td>Bank transfer (automatic)</td>\n",
       "      <td>42.30</td>\n",
       "      <td>1960.60</td>\n",
       "      <td>Male</td>\n",
       "      <td>0</td>\n",
       "      <td>...</td>\n",
       "      <td>DSL</td>\n",
       "      <td>Yes</td>\n",
       "      <td>No</td>\n",
       "      <td>Yes</td>\n",
       "      <td>Yes</td>\n",
       "      <td>No</td>\n",
       "      <td>No</td>\n",
       "      <td>NaN</td>\n",
       "      <td>0</td>\n",
       "      <td>1371</td>\n",
       "    </tr>\n",
       "    <tr>\n",
       "      <th>4</th>\n",
       "      <td>9237-HQITU</td>\n",
       "      <td>2019-09-01</td>\n",
       "      <td>NaT</td>\n",
       "      <td>Month-to-month</td>\n",
       "      <td>Yes</td>\n",
       "      <td>Electronic check</td>\n",
       "      <td>70.70</td>\n",
       "      <td>353.50</td>\n",
       "      <td>Female</td>\n",
       "      <td>0</td>\n",
       "      <td>...</td>\n",
       "      <td>Fiber optic</td>\n",
       "      <td>No</td>\n",
       "      <td>No</td>\n",
       "      <td>No</td>\n",
       "      <td>No</td>\n",
       "      <td>No</td>\n",
       "      <td>No</td>\n",
       "      <td>No</td>\n",
       "      <td>0</td>\n",
       "      <td>153</td>\n",
       "    </tr>\n",
       "  </tbody>\n",
       "</table>\n",
       "<p>5 rows × 22 columns</p>\n",
       "</div>"
      ],
      "text/plain": [
       "   customerid  begindate enddate            type paperlessbilling  \\\n",
       "0  7590-VHVEG 2020-01-01     NaT  Month-to-month              Yes   \n",
       "1  5575-GNVDE 2017-04-01     NaT        One year               No   \n",
       "2  3668-QPYBK 2019-10-01     NaT  Month-to-month              Yes   \n",
       "3  7795-CFOCW 2016-05-01     NaT        One year               No   \n",
       "4  9237-HQITU 2019-09-01     NaT  Month-to-month              Yes   \n",
       "\n",
       "               paymentmethod  monthlycharges  totalcharges  gender  \\\n",
       "0           Electronic check           29.85         31.04  Female   \n",
       "1               Mailed check           56.95       2071.84    Male   \n",
       "2               Mailed check           53.85        226.17    Male   \n",
       "3  Bank transfer (automatic)           42.30       1960.60    Male   \n",
       "4           Electronic check           70.70        353.50  Female   \n",
       "\n",
       "   seniorcitizen  ... internetservice onlinesecurity onlinebackup  \\\n",
       "0              0  ...             DSL             No          Yes   \n",
       "1              0  ...             DSL            Yes           No   \n",
       "2              0  ...             DSL            Yes          Yes   \n",
       "3              0  ...             DSL            Yes           No   \n",
       "4              0  ...     Fiber optic             No           No   \n",
       "\n",
       "  deviceprotection techsupport streamingtv streamingmovies multiplelines  \\\n",
       "0               No          No          No              No           NaN   \n",
       "1              Yes          No          No              No            No   \n",
       "2               No          No          No              No            No   \n",
       "3              Yes         Yes          No              No           NaN   \n",
       "4               No          No          No              No            No   \n",
       "\n",
       "  is_churn contract_duration  \n",
       "0        0                31  \n",
       "1        0              1036  \n",
       "2        0               123  \n",
       "3        0              1371  \n",
       "4        0               153  \n",
       "\n",
       "[5 rows x 22 columns]"
      ]
     },
     "metadata": {},
     "output_type": "display_data"
    }
   ],
   "source": [
    "# Проверим\n",
    "print(f'Форма итогового датафрейма: {df_full.shape}')\n",
    "display(df_full.head())"
   ]
  },
  {
   "cell_type": "code",
   "execution_count": 18,
   "metadata": {
    "colab": {
     "base_uri": "https://localhost:8080/"
    },
    "id": "hqoMILANGi0q",
    "outputId": "7bbb1b9e-b033-453b-c87c-fbf8d468f9d6"
   },
   "outputs": [],
   "source": [
    "# 1. Восстановим \"No internet service\" для клиентов без интернета\n",
    "cols_internet = ['onlinesecurity', 'onlinebackup', 'deviceprotection',\n",
    "                 'techsupport', 'streamingtv', 'streamingmovies']\n",
    "\n",
    "for col in cols_internet:\n",
    "    df_full[col] = df_full.apply(\n",
    "        lambda row: 'No internet service'\n",
    "        if row['internetservice'] == 'No' or pd.isna(row[col])\n",
    "        else row[col],\n",
    "        axis=1\n",
    "    )\n",
    "\n",
    "# 2. Восстановим \"No phone service\" для клиентов без телефона\n",
    "df_full['multiplelines'] = df_full['multiplelines'].fillna('No phone service')\n",
    "no_phone_mask = df_full['multiplelines'].isna()\n",
    "df_full.loc[no_phone_mask, 'multiplelines'] = 'No phone service'\n"
   ]
  },
  {
   "cell_type": "code",
   "execution_count": 19,
   "metadata": {},
   "outputs": [],
   "source": [
    "# Бинарный флаг: есть ли интернет\n",
    "df_full['has_internet'] = (df_full['internetservice'] != 'No').astype(int)\n",
    "\n",
    "# Бинарный флаг: есть ли телефония\n",
    "df_full['has_phone'] = (df_full['multiplelines'] != 'No phone service').astype(int)\n",
    "\n",
    "# Кол-во онлайн-сервисов (где Yes)\n",
    "df_full['num_online_services'] = df_full[cols_internet].apply(lambda row: (row == 'Yes').sum(), axis=1)\n"
   ]
  },
  {
   "cell_type": "code",
   "execution_count": 20,
   "metadata": {},
   "outputs": [
    {
     "name": "stdout",
     "output_type": "stream",
     "text": [
      "onlinesecurity:\n",
      "No                     3498\n",
      "Yes                    2019\n",
      "No internet service    1526\n",
      "Name: onlinesecurity, dtype: int64\n",
      "----------------------------------------\n",
      "onlinebackup:\n",
      "No                     3088\n",
      "Yes                    2429\n",
      "No internet service    1526\n",
      "Name: onlinebackup, dtype: int64\n",
      "----------------------------------------\n",
      "deviceprotection:\n",
      "No                     3095\n",
      "Yes                    2422\n",
      "No internet service    1526\n",
      "Name: deviceprotection, dtype: int64\n",
      "----------------------------------------\n",
      "techsupport:\n",
      "No                     3473\n",
      "Yes                    2044\n",
      "No internet service    1526\n",
      "Name: techsupport, dtype: int64\n",
      "----------------------------------------\n",
      "streamingtv:\n",
      "No                     2810\n",
      "Yes                    2707\n",
      "No internet service    1526\n",
      "Name: streamingtv, dtype: int64\n",
      "----------------------------------------\n",
      "streamingmovies:\n",
      "No                     2785\n",
      "Yes                    2732\n",
      "No internet service    1526\n",
      "Name: streamingmovies, dtype: int64\n",
      "----------------------------------------\n"
     ]
    }
   ],
   "source": [
    "for col in cols_internet:\n",
    "    print(f\"{col}:\")\n",
    "    print(df_full[col].value_counts(dropna=False))\n",
    "    print(\"-\" * 40)\n"
   ]
  },
  {
   "cell_type": "code",
   "execution_count": 21,
   "metadata": {},
   "outputs": [
    {
     "data": {
      "text/plain": [
       "No                  3390\n",
       "Yes                 2971\n",
       "No phone service     682\n",
       "Name: multiplelines, dtype: int64"
      ]
     },
     "execution_count": 21,
     "metadata": {},
     "output_type": "execute_result"
    }
   ],
   "source": [
    "df_full['multiplelines'].value_counts(dropna=False)"
   ]
  },
  {
   "cell_type": "code",
   "execution_count": 22,
   "metadata": {},
   "outputs": [
    {
     "name": "stdout",
     "output_type": "stream",
     "text": [
      "has_internet: 1    7043\n",
      "Name: has_internet, dtype: int64\n",
      "has_phone: 1    6361\n",
      "0     682\n",
      "Name: has_phone, dtype: int64\n"
     ]
    }
   ],
   "source": [
    "print(\"has_internet:\", df_full['has_internet'].value_counts())\n",
    "print(\"has_phone:\", df_full['has_phone'].value_counts())\n"
   ]
  },
  {
   "cell_type": "code",
   "execution_count": 23,
   "metadata": {},
   "outputs": [
    {
     "data": {
      "text/plain": [
       "array([], dtype=int64)"
      ]
     },
     "execution_count": 23,
     "metadata": {},
     "output_type": "execute_result"
    }
   ],
   "source": [
    "df_full[df_full['has_internet'] == 0]['num_online_services'].unique()\n"
   ]
  },
  {
   "cell_type": "markdown",
   "metadata": {
    "id": "PCnE3lbdHJ9s"
   },
   "source": [
    "**Вывод**\n",
    "\n",
    "- `enddate` — как и ожидалось, признак завершения контракта. Его наличие означает отток, отсутствие — активный клиент.\n",
    "\n",
    "- `internetservice` — у 1526 клиентов не подключён интернет. Для них все признаки онлайн-сервисов (`onlinesecurity`, `techsupport` и т.д.) были заполнены значением `'No internet service'`.\n",
    "\n",
    "- `multiplelines` — у 682 клиентов отсутствует телефония. Для них признак `multiplelines` получил значение `'No phone service'`.\n",
    "\n",
    "Таким образом, пропуски не были оставлены или заменены на «No» без логики — вместо этого были **сохранены значимые категории**, отражающие отсутствие самой услуги. Это улучшает интерпретируемость модели и корректность анализа.\n"
   ]
  },
  {
   "cell_type": "markdown",
   "metadata": {
    "id": "SNgrwXIAHVX5"
   },
   "source": [
    "## EDA-анализ по объединенной таблице"
   ]
  },
  {
   "cell_type": "markdown",
   "metadata": {
    "id": "o1TWWHd3HmE0"
   },
   "source": [
    "План:\n",
    "- Анализ баланса классов по is_churn;\n",
    "\n",
    "- Анализ оттока по бинарным признакам (gender, partner, dependents, has_internet, has_phone);\n",
    "\n",
    "- Анализ оттока по категориальным признакам (contract type, payment method, internetservice);\n",
    "\n",
    "- Анализ числовых признаков: monthlycharges, totalcharges, contract_duration, num_online_services.\n",
    "\n"
   ]
  },
  {
   "cell_type": "code",
   "execution_count": 24,
   "metadata": {
    "colab": {
     "base_uri": "https://localhost:8080/",
     "height": 472
    },
    "id": "RhqZR7QvG_4d",
    "outputId": "c9b9c363-074b-4e4b-df47-4e0bad0912d3"
   },
   "outputs": [
    {
     "data": {
      "image/png": "[encoded data removed]",
      "text/plain": [
       "<Figure size 432x288 with 1 Axes>"
      ]
     },
     "metadata": {
      "needs_background": "light"
     },
     "output_type": "display_data"
    }
   ],
   "source": [
    "# 1. Баланс классов\n",
    "sns.countplot(x='is_churn', data=df_full)\n",
    "plt.title('Распределение оттока клиентов (is_churn)')\n",
    "plt.show()"
   ]
  },
  {
   "cell_type": "markdown",
   "metadata": {
    "id": "AdaisnX7Jtqu"
   },
   "source": [
    "На гистограмме видно, что классы несбалансированы: клиентов, которые остались (`is_churn = 0`), примерно в 5 раз больше, чем ушедших (`is_churn = 1`).\n",
    "\n",
    "**Это важно учитывать при обучении моделей.**\n",
    "\n",
    "Для компенсации дисбаланса:\n",
    "- будем использовать параметр `class_weight='balanced'` в моделях (например, в `RandomForest`);\n",
    "- для `CatBoost` — вручную укажем веса классов (`class_weights=[1, 5]`), где больший вес получит меньшинство.\n",
    "\n",
    "**Метрика accuracy здесь не подойдёт** — основной упор будет сделан на:\n",
    "- `ROC-AUC` — устойчива к дисбалансу;\n",
    "- `Precision`, `Recall`, `F1-score` — для анализа ошибок классификации.\n"
   ]
  },
  {
   "cell_type": "code",
   "execution_count": 25,
   "metadata": {
    "colab": {
     "base_uri": "https://localhost:8080/",
     "height": 1000
    },
    "id": "jvRw9JwcHusV",
    "outputId": "8bcf4e00-8d19-45b1-a42e-5a2693fde1ff",
    "scrolled": true
   },
   "outputs": [
    {
     "data": {
      "image/png": "[encoded data removed]",
      "text/plain": [
       "<Figure size 432x288 with 1 Axes>"
      ]
     },
     "metadata": {
      "needs_background": "light"
     },
     "output_type": "display_data"
    },
    {
     "data": {
      "image/png": "[encoded data removed]",
      "text/plain": [
       "<Figure size 432x288 with 1 Axes>"
      ]
     },
     "metadata": {
      "needs_background": "light"
     },
     "output_type": "display_data"
    },
    {
     "data": {
      "image/png": "[encoded data removed]",
      "text/plain": [
       "<Figure size 432x288 with 1 Axes>"
      ]
     },
     "metadata": {
      "needs_background": "light"
     },
     "output_type": "display_data"
    },
    {
     "data": {
      "image/png": "[encoded data removed]",
      "text/plain": [
       "<Figure size 432x288 with 1 Axes>"
      ]
     },
     "metadata": {
      "needs_background": "light"
     },
     "output_type": "display_data"
    },
    {
     "data": {
      "image/png": "[encoded data removed]",
      "text/plain": [
       "<Figure size 432x288 with 1 Axes>"
      ]
     },
     "metadata": {
      "needs_background": "light"
     },
     "output_type": "display_data"
    }
   ],
   "source": [
    "# 2. Отток по бинарным признакам\n",
    "binary_cols = ['gender', 'partner', 'dependents', 'has_internet', 'has_phone']\n",
    "\n",
    "for col in binary_cols:\n",
    "    sns.barplot(x=col, y='is_churn', data=df_full)\n",
    "    plt.title(f'Доля оттока в зависимости от {col}')\n",
    "    plt.ylabel('Среднее значение is_churn')\n",
    "    plt.show()\n"
   ]
  },
  {
   "cell_type": "markdown",
   "metadata": {
    "id": "3iTvsAZFJ5Y9"
   },
   "source": [
    "**has_phone:**\n",
    "\n",
    "Отток среди пользователей телефонии значительно выше (около 23%), чем у тех, кто ею не пользуется (около 10%);\n",
    "\n",
    "Возможно, пользователи с телефонией — более мобильные / чувствительны к цене.\n",
    "\n",
    "**has_internet:**\n",
    "\n",
    "Аналогично — отток среди пользователей интернета выше;\n",
    "\n",
    "Логично: если человек не пользуется интернетом, значит, связь ему важна только для базовых нужд — менее вероятен отток.\n",
    "\n",
    "**dependents:**\n",
    "\n",
    "Небольшая разница — наличие иждивенцев связано с немного меньшей вероятностью оттока (что ожидаемо — стабильные семьи меньше склонны менять провайдера).\n",
    "\n",
    "**partner:**\n",
    "\n",
    "Обратная связь: с партнёром — отток выше, без партнёра — ниже. Необычно, но может быть связано с жизненным циклом семьи или количеством альтернатив.\n",
    "\n",
    "**gender:**\n",
    "\n",
    "Различие минимально: пол не является значимым предиктором оттока."
   ]
  },
  {
   "cell_type": "code",
   "execution_count": 26,
   "metadata": {
    "colab": {
     "base_uri": "https://localhost:8080/",
     "height": 1000
    },
    "id": "tYzMxedEHwW3",
    "outputId": "40a2f05c-81e2-4e4a-c62e-8208306b1daa"
   },
   "outputs": [
    {
     "data": {
      "image/png": "[encoded data removed]",
      "text/plain": [
       "<Figure size 432x288 with 1 Axes>"
      ]
     },
     "metadata": {
      "needs_background": "light"
     },
     "output_type": "display_data"
    },
    {
     "data": {
      "image/png": "[encoded data removed]",
      "text/plain": [
       "<Figure size 432x288 with 1 Axes>"
      ]
     },
     "metadata": {
      "needs_background": "light"
     },
     "output_type": "display_data"
    },
    {
     "data": {
      "image/png": "[encoded data removed]",
      "text/plain": [
       "<Figure size 432x288 with 1 Axes>"
      ]
     },
     "metadata": {
      "needs_background": "light"
     },
     "output_type": "display_data"
    }
   ],
   "source": [
    "# Отток по категориальным признакам\n",
    "cat_cols = ['type', 'paymentmethod', 'internetservice']\n",
    "\n",
    "for col in cat_cols:\n",
    "    # Вычислим порядок категорий по доле оттока\n",
    "    order = df_full.groupby(col)['is_churn'].mean().sort_values(ascending=False).index\n",
    "\n",
    "    # Построим график\n",
    "    sns.barplot(x=col, y='is_churn', data=df_full, order=order)\n",
    "    plt.title(f'Доля оттока по признаку {col}')\n",
    "    plt.ylabel('Среднее значение is_churn')\n",
    "    plt.xticks(rotation=30)\n",
    "    plt.show()\n"
   ]
  },
  {
   "cell_type": "markdown",
   "metadata": {
    "id": "QGmvAR9DKZ9v"
   },
   "source": [
    "**internetservice:**\n",
    "\n",
    "- Клиенты с Fiber optic уходят чаще (около 19%) по сравнению с DSL ( около 15%);\n",
    "\n",
    "- Это может быть связано с более высокой стоимостью или с нестабильностью сервиса.\n",
    "\n",
    "**paymentmethod:**\n",
    "\n",
    "- Наиболее высокая доля оттока у автоматических платежей по карте и банковскому переводу;\n",
    "\n",
    "- Самая низкая — у тех, кто использует почтовые чеки (Mailed Check);\n",
    "\n",
    "- Возможно, это связано с тем, что пользователи с автоматическими платежами менее вовлечены — платят \"по инерции\", но быстрее отключаются при недовольстве.\n",
    "\n",
    "**type:**\n",
    "\n",
    "- `Month-to-month` имеет самый низкий отток ( около 11%), а годовые и двухгодичные контракты — наивысший (около 21–23%).\n"
   ]
  },
  {
   "cell_type": "code",
   "execution_count": 27,
   "metadata": {
    "colab": {
     "base_uri": "https://localhost:8080/",
     "height": 1000
    },
    "id": "FoHM1zeOHx9s",
    "outputId": "28e046cf-c53c-48e0-93f6-b33b90b2b1b7"
   },
   "outputs": [
    {
     "data": {
      "image/png": "[encoded data removed]",
      "text/plain": [
       "<Figure size 432x288 with 1 Axes>"
      ]
     },
     "metadata": {
      "needs_background": "light"
     },
     "output_type": "display_data"
    },
    {
     "data": {
      "image/png": "[encoded data removed]",
      "text/plain": [
       "<Figure size 432x288 with 1 Axes>"
      ]
     },
     "metadata": {
      "needs_background": "light"
     },
     "output_type": "display_data"
    },
    {
     "data": {
      "image/png": "[encoded data removed]",
      "text/plain": [
       "<Figure size 432x288 with 1 Axes>"
      ]
     },
     "metadata": {
      "needs_background": "light"
     },
     "output_type": "display_data"
    },
    {
     "data": {
      "image/png": "[encoded data removed]",
      "text/plain": [
       "<Figure size 432x288 with 1 Axes>"
      ]
     },
     "metadata": {
      "needs_background": "light"
     },
     "output_type": "display_data"
    }
   ],
   "source": [
    "# 4. Числовые признаки\n",
    "num_cols = ['monthlycharges', 'totalcharges', 'contract_duration', 'num_online_services']\n",
    "\n",
    "for col in num_cols:\n",
    "    sns.histplot(data=df_full, x=col, hue='is_churn', bins=30, kde=True, stat='density', common_norm=False)\n",
    "    plt.title(f'Распределение {col} по оттоку')\n",
    "    plt.show()"
   ]
  },
  {
   "cell_type": "markdown",
   "metadata": {
    "id": "OY1RtxARK9g1"
   },
   "source": [
    "**num_online_services:**\n",
    "- Чем больше подключено онлайн-сервисов, тем выше отток;\n",
    "- Особенно резко растёт от 2 до 5 сервисов;\n",
    "- Возможно, клиенты с множеством услуг становятся более требовательными, и при недовольстве быстрее уходят.\n",
    "\n",
    "**contract_duration:**\n",
    "- Клиенты с короткими контрактами чаще уходят (до 1000 дней);\n",
    "- А долгосрочные (1500+ дней) уходят редко — лояльные;\n",
    "- Хороший предиктор — можно оставить как есть или закодировать по бинам.\n",
    "\n",
    "**totalcharges:**\n",
    "- Те, кто заплатил мало, чаще уходят;\n",
    "- Клиенты с высокими накопленными платежами (3000+) редко уходят — подтверждает лояльность.\n",
    "\n",
    "**monthlycharges:**\n",
    "- Высокий месячный платёж связан с большим оттоком;\n",
    "- Пики оттока — около 90–100 у.е.;\n",
    "- Вероятно, высокие тарифы → большее ожидание качества → выше риск разочарования."
   ]
  },
  {
   "cell_type": "code",
   "execution_count": 28,
   "metadata": {
    "colab": {
     "base_uri": "https://localhost:8080/",
     "height": 203
    },
    "id": "BsiaJh0NHzfm",
    "outputId": "af978553-1525-44ea-8071-c691553f2e8f"
   },
   "outputs": [
    {
     "data": {
      "text/html": [
       "<div>\n",
       "<style scoped>\n",
       "    .dataframe tbody tr th:only-of-type {\n",
       "        vertical-align: middle;\n",
       "    }\n",
       "\n",
       "    .dataframe tbody tr th {\n",
       "        vertical-align: top;\n",
       "    }\n",
       "\n",
       "    .dataframe thead th {\n",
       "        text-align: right;\n",
       "    }\n",
       "</style>\n",
       "<table border=\"1\" class=\"dataframe\">\n",
       "  <thead>\n",
       "    <tr style=\"text-align: right;\">\n",
       "      <th></th>\n",
       "      <th>Количество</th>\n",
       "      <th>Ушли</th>\n",
       "      <th>Доля оттока</th>\n",
       "    </tr>\n",
       "    <tr>\n",
       "      <th>type</th>\n",
       "      <th></th>\n",
       "      <th></th>\n",
       "      <th></th>\n",
       "    </tr>\n",
       "  </thead>\n",
       "  <tbody>\n",
       "    <tr>\n",
       "      <th>Two year</th>\n",
       "      <td>1695</td>\n",
       "      <td>381</td>\n",
       "      <td>0.224779</td>\n",
       "    </tr>\n",
       "    <tr>\n",
       "      <th>One year</th>\n",
       "      <td>1473</td>\n",
       "      <td>313</td>\n",
       "      <td>0.212492</td>\n",
       "    </tr>\n",
       "    <tr>\n",
       "      <th>Month-to-month</th>\n",
       "      <td>3875</td>\n",
       "      <td>407</td>\n",
       "      <td>0.105032</td>\n",
       "    </tr>\n",
       "  </tbody>\n",
       "</table>\n",
       "</div>"
      ],
      "text/plain": [
       "                Количество  Ушли  Доля оттока\n",
       "type                                         \n",
       "Two year              1695   381     0.224779\n",
       "One year              1473   313     0.212492\n",
       "Month-to-month        3875   407     0.105032"
      ]
     },
     "metadata": {},
     "output_type": "display_data"
    }
   ],
   "source": [
    "# Проверим реальное распределение churn по типу контракта\n",
    "type_churn_stats = df_full.groupby('type')['is_churn'].agg(['count', 'sum', 'mean']).rename(\n",
    "    columns={'count': 'Количество', 'sum': 'Ушли', 'mean': 'Доля оттока'}\n",
    ").sort_values('Доля оттока', ascending=False)\n",
    "\n",
    "display(type_churn_stats)\n"
   ]
  },
  {
   "cell_type": "code",
   "execution_count": 29,
   "metadata": {},
   "outputs": [],
   "source": [
    "# категориальные признаки\n",
    "cat_features = [\n",
    "    'gender', 'partner', 'dependents', 'paperlessbilling', 'paymentmethod',\n",
    "    'type', 'internetservice', 'onlinesecurity', 'onlinebackup',\n",
    "    'deviceprotection', 'techsupport', 'streamingtv', 'streamingmovies', 'multiplelines'\n",
    "]"
   ]
  },
  {
   "cell_type": "code",
   "execution_count": 30,
   "metadata": {},
   "outputs": [],
   "source": [
    "# Числовые признаки\n",
    "num_features = [\n",
    "    'monthlycharges', 'totalcharges', 'contract_duration', 'num_online_services'\n",
    "]"
   ]
  },
  {
   "cell_type": "code",
   "execution_count": 31,
   "metadata": {},
   "outputs": [
    {
     "data": {
      "image/png": "[encoded data removed]",
      "text/plain": [
       "<Figure size 576x432 with 2 Axes>"
      ]
     },
     "metadata": {
      "needs_background": "light"
     },
     "output_type": "display_data"
    }
   ],
   "source": [
    "# Корреляция между числовыми признаками и целевым\n",
    "corr_matrix = df_full[num_features + ['is_churn']].corr()\n",
    "\n",
    "# Визуализация\n",
    "plt.figure(figsize=(8, 6))\n",
    "sns.heatmap(corr_matrix, annot=True, fmt='.2f', cmap='coolwarm')\n",
    "plt.title('Корреляционная матрица (числовые признаки)')\n",
    "plt.show()"
   ]
  },
  {
   "cell_type": "markdown",
   "metadata": {},
   "source": [
    "**Выводы**\n",
    "\n",
    "`totalcharges` и `contract_duration` имеют высокую положительную корреляцию (0.82). Это логично: чем дольше клиент обслуживается, тем больше сумма оплаченных счетов. Один из признаков можно удалить, чтобы избежать мультиколлинеарности. \n",
    "При этом `contract_duration` — более чистый и стабильный показатель, напрямую отражающий срок контракта, поэтому предпочтительно сохранить contract_duration и исключить totalcharges.\n",
    "\n",
    "`monthlycharges` и `num_online_services` также заметно коррелируют (0.72), что тоже ожидаемо: чем больше подключено онлайн-сервисов, тем выше ежемесячный платёж. Однако значение корреляции ниже, чем в предыдущем случае, и оба признака могут нести разную информацию (один отражает денежную нагрузку, второй — количество сервисов). Поэтому их можно оставить оба, но при моделировании — обратить внимание на значимость.\n",
    "\n",
    "Связь признаков с целевой переменной `is_churn`:\n",
    "\n",
    "Самая высокая корреляция у `num_online_services` (0.18) и `monthlycharges` (0.15), что может указывать на потенциальную зависимость оттока от нагрузки или затрат.\n",
    "\n",
    "`contract_duration` и `totalcharges` почти не связаны с `is_churn`, но `contract_duration` всё равно важно оставить — у клиентов с длительным контрактом, как правило, ниже вероятность оттока, это может проявиться в модели через взаимодействия."
   ]
  },
  {
   "cell_type": "code",
   "execution_count": 32,
   "metadata": {
    "scrolled": true
   },
   "outputs": [
    {
     "name": "stdout",
     "output_type": "stream",
     "text": [
      "\n",
      "Средний отток по признаку: gender\n",
      "gender\n",
      "Male      0.161181\n",
      "Female    0.151376\n",
      "Name: is_churn, dtype: float64\n",
      "\n",
      "Средний отток по признаку: partner\n",
      "partner\n",
      "Yes    0.211346\n",
      "No     0.104916\n",
      "Name: is_churn, dtype: float64\n",
      "\n",
      "Средний отток по признаку: dependents\n",
      "dependents\n",
      "Yes    0.174408\n",
      "No     0.148591\n",
      "Name: is_churn, dtype: float64\n",
      "\n",
      "Средний отток по признаку: paperlessbilling\n",
      "paperlessbilling\n",
      "Yes    0.172860\n",
      "No     0.132312\n",
      "Name: is_churn, dtype: float64\n",
      "\n",
      "Средний отток по признаку: paymentmethod\n",
      "paymentmethod\n",
      "Credit card (automatic)      0.208279\n",
      "Bank transfer (automatic)    0.205311\n",
      "Electronic check             0.147992\n",
      "Mailed check                 0.072581\n",
      "Name: is_churn, dtype: float64\n",
      "\n",
      "Средний отток по признаку: type\n",
      "type\n",
      "Two year          0.224779\n",
      "One year          0.212492\n",
      "Month-to-month    0.105032\n",
      "Name: is_churn, dtype: float64\n",
      "\n",
      "Средний отток по признаку: internetservice\n",
      "internetservice\n",
      "Fiber optic    0.192183\n",
      "DSL            0.142916\n",
      "Name: is_churn, dtype: float64\n",
      "\n",
      "Средний отток по признаку: onlinesecurity\n",
      "onlinesecurity\n",
      "Yes                    0.205547\n",
      "No                     0.150372\n",
      "No internet service    0.104849\n",
      "Name: is_churn, dtype: float64\n",
      "\n",
      "Средний отток по признаку: onlinebackup\n",
      "onlinebackup\n",
      "Yes                    0.230548\n",
      "No                     0.123381\n",
      "No internet service    0.104849\n",
      "Name: is_churn, dtype: float64\n",
      "\n",
      "Средний отток по признаку: deviceprotection\n",
      "deviceprotection\n",
      "Yes                    0.227085\n",
      "No                     0.126333\n",
      "No internet service    0.104849\n",
      "Name: is_churn, dtype: float64\n",
      "\n",
      "Средний отток по признаку: techsupport\n",
      "techsupport\n",
      "Yes                    0.194716\n",
      "No                     0.156349\n",
      "No internet service    0.104849\n",
      "Name: is_churn, dtype: float64\n",
      "\n",
      "Средний отток по признаку: streamingtv\n",
      "streamingtv\n",
      "Yes                    0.215737\n",
      "No                     0.127046\n",
      "No internet service    0.104849\n",
      "Name: is_churn, dtype: float64\n",
      "\n",
      "Средний отток по признаку: streamingmovies\n",
      "streamingmovies\n",
      "Yes                    0.221816\n",
      "No                     0.120287\n",
      "No internet service    0.104849\n",
      "Name: is_churn, dtype: float64\n",
      "\n",
      "Средний отток по признаку: multiplelines\n",
      "multiplelines\n",
      "Yes                 0.228206\n",
      "No phone service    0.151026\n",
      "No                  0.094395\n",
      "Name: is_churn, dtype: float64\n"
     ]
    }
   ],
   "source": [
    "for col in cat_features:\n",
    "    churn_rate = df_full.groupby(col)['is_churn'].mean().sort_values(ascending=False)\n",
    "    print(f\"\\nСредний отток по признаку: {col}\")\n",
    "    print(churn_rate)"
   ]
  },
  {
   "cell_type": "markdown",
   "metadata": {},
   "source": [
    "**Вывод по категориальным признакам и их влиянию на отток**\n",
    "\n",
    "Анализ показывает, что отток значительно различается между группами в ряде категориальных признаков:\n",
    "\n",
    "**Клиентские характеристики:**\n",
    "\n",
    "`partner`: у клиентов с партнёром уровень оттока почти в 2 раза выше (21% против 10%) — возможно, они оформляют на себя контракты ради другого человека.\n",
    "\n",
    "`dependents`: наличие иждивенцев немного увеличивает отток (17% против 14.8%) — возможно, связано с финансовой нагрузкой.\n",
    "\n",
    "gender не оказывает значимого влияния.\n",
    "\n",
    "**Платёжные признаки:**\n",
    "\n",
    "`paperlessbilling`: клиенты с электронной квитанцией чаще уходят (17% против 13%) — возможно, они более \"цифрово-осведомлённые\" и проще меняют провайдера.\n",
    "\n",
    "`paymentmethod:` меньше всего отток у тех, кто платит чеками по почте (7.3%).\n",
    "\n",
    "Выше всего — у пользователей автосписания с карты или счёта (20%+).\n",
    "\n",
    "Это важный поведенческий маркер.\n",
    "\n",
    "**Договор:**\n",
    "`type`: наиболее стабильные клиенты — на Month-to-month (10.5% отток), на долгосрочных контрактах (1 или 2 года) отток выше 21–22%. Вероятно, после окончания долгосрочного контракта клиент уходит.\n",
    "\n",
    "**Интернет и онлайн-услуги:**\n",
    "\n",
    "`internetservice`: клиенты с Fiber optic чаще уходят, чем с DSL (19% против 14%) — возможно, из-за цены.\n",
    "\n",
    "Признаки `onlinesecurity`, `onlinebackup`, `deviceprotection`, `techsupport`, `streamingtv`, `streamingmovies`:\n",
    "\n",
    "Во всех случаях отток максимален у клиентов с подключённой услугой.\n",
    "\n",
    "Это может указывать на временную природу подключения или на неудовлетворённость дополнительными сервисами.\n",
    "\n",
    "**Телефония:**\n",
    "`multiplelines`:\n",
    "\n",
    "Клиенты с многими линиями — отток до 22.8%.\n",
    "\n",
    "У тех, у кого нет телефонии вовсе, — самый низкий (9.4%)."
   ]
  },
  {
   "cell_type": "code",
   "execution_count": 33,
   "metadata": {},
   "outputs": [],
   "source": [
    "# Удаляем признак totalcharges из датафрейма\n",
    "df_full.drop(columns='totalcharges', inplace=True)"
   ]
  },
  {
   "cell_type": "code",
   "execution_count": 34,
   "metadata": {},
   "outputs": [
    {
     "name": "stdout",
     "output_type": "stream",
     "text": [
      "False\n",
      "<class 'pandas.core.frame.DataFrame'>\n",
      "Int64Index: 7043 entries, 0 to 7042\n",
      "Data columns (total 24 columns):\n",
      " #   Column               Non-Null Count  Dtype         \n",
      "---  ------               --------------  -----         \n",
      " 0   customerid           7043 non-null   object        \n",
      " 1   begindate            7043 non-null   datetime64[ns]\n",
      " 2   enddate              1101 non-null   datetime64[ns]\n",
      " 3   type                 7043 non-null   object        \n",
      " 4   paperlessbilling     7043 non-null   object        \n",
      " 5   paymentmethod        7043 non-null   object        \n",
      " 6   monthlycharges       7043 non-null   float64       \n",
      " 7   gender               7043 non-null   object        \n",
      " 8   seniorcitizen        7043 non-null   int64         \n",
      " 9   partner              7043 non-null   object        \n",
      " 10  dependents           7043 non-null   object        \n",
      " 11  internetservice      5517 non-null   object        \n",
      " 12  onlinesecurity       7043 non-null   object        \n",
      " 13  onlinebackup         7043 non-null   object        \n",
      " 14  deviceprotection     7043 non-null   object        \n",
      " 15  techsupport          7043 non-null   object        \n",
      " 16  streamingtv          7043 non-null   object        \n",
      " 17  streamingmovies      7043 non-null   object        \n",
      " 18  multiplelines        7043 non-null   object        \n",
      " 19  is_churn             7043 non-null   int64         \n",
      " 20  contract_duration    7043 non-null   int64         \n",
      " 21  has_internet         7043 non-null   int64         \n",
      " 22  has_phone            7043 non-null   int64         \n",
      " 23  num_online_services  7043 non-null   int64         \n",
      "dtypes: datetime64[ns](2), float64(1), int64(6), object(15)\n",
      "memory usage: 1.6+ MB\n"
     ]
    },
    {
     "data": {
      "text/html": [
       "<div>\n",
       "<style scoped>\n",
       "    .dataframe tbody tr th:only-of-type {\n",
       "        vertical-align: middle;\n",
       "    }\n",
       "\n",
       "    .dataframe tbody tr th {\n",
       "        vertical-align: top;\n",
       "    }\n",
       "\n",
       "    .dataframe thead th {\n",
       "        text-align: right;\n",
       "    }\n",
       "</style>\n",
       "<table border=\"1\" class=\"dataframe\">\n",
       "  <thead>\n",
       "    <tr style=\"text-align: right;\">\n",
       "      <th></th>\n",
       "      <th>customerid</th>\n",
       "      <th>begindate</th>\n",
       "      <th>enddate</th>\n",
       "      <th>type</th>\n",
       "      <th>paperlessbilling</th>\n",
       "      <th>paymentmethod</th>\n",
       "      <th>monthlycharges</th>\n",
       "      <th>gender</th>\n",
       "      <th>seniorcitizen</th>\n",
       "      <th>partner</th>\n",
       "      <th>...</th>\n",
       "      <th>deviceprotection</th>\n",
       "      <th>techsupport</th>\n",
       "      <th>streamingtv</th>\n",
       "      <th>streamingmovies</th>\n",
       "      <th>multiplelines</th>\n",
       "      <th>is_churn</th>\n",
       "      <th>contract_duration</th>\n",
       "      <th>has_internet</th>\n",
       "      <th>has_phone</th>\n",
       "      <th>num_online_services</th>\n",
       "    </tr>\n",
       "  </thead>\n",
       "  <tbody>\n",
       "    <tr>\n",
       "      <th>0</th>\n",
       "      <td>7590-VHVEG</td>\n",
       "      <td>2020-01-01</td>\n",
       "      <td>NaT</td>\n",
       "      <td>Month-to-month</td>\n",
       "      <td>Yes</td>\n",
       "      <td>Electronic check</td>\n",
       "      <td>29.85</td>\n",
       "      <td>Female</td>\n",
       "      <td>0</td>\n",
       "      <td>Yes</td>\n",
       "      <td>...</td>\n",
       "      <td>No</td>\n",
       "      <td>No</td>\n",
       "      <td>No</td>\n",
       "      <td>No</td>\n",
       "      <td>No phone service</td>\n",
       "      <td>0</td>\n",
       "      <td>31</td>\n",
       "      <td>1</td>\n",
       "      <td>0</td>\n",
       "      <td>1</td>\n",
       "    </tr>\n",
       "    <tr>\n",
       "      <th>1</th>\n",
       "      <td>5575-GNVDE</td>\n",
       "      <td>2017-04-01</td>\n",
       "      <td>NaT</td>\n",
       "      <td>One year</td>\n",
       "      <td>No</td>\n",
       "      <td>Mailed check</td>\n",
       "      <td>56.95</td>\n",
       "      <td>Male</td>\n",
       "      <td>0</td>\n",
       "      <td>No</td>\n",
       "      <td>...</td>\n",
       "      <td>Yes</td>\n",
       "      <td>No</td>\n",
       "      <td>No</td>\n",
       "      <td>No</td>\n",
       "      <td>No</td>\n",
       "      <td>0</td>\n",
       "      <td>1036</td>\n",
       "      <td>1</td>\n",
       "      <td>1</td>\n",
       "      <td>2</td>\n",
       "    </tr>\n",
       "    <tr>\n",
       "      <th>2</th>\n",
       "      <td>3668-QPYBK</td>\n",
       "      <td>2019-10-01</td>\n",
       "      <td>NaT</td>\n",
       "      <td>Month-to-month</td>\n",
       "      <td>Yes</td>\n",
       "      <td>Mailed check</td>\n",
       "      <td>53.85</td>\n",
       "      <td>Male</td>\n",
       "      <td>0</td>\n",
       "      <td>No</td>\n",
       "      <td>...</td>\n",
       "      <td>No</td>\n",
       "      <td>No</td>\n",
       "      <td>No</td>\n",
       "      <td>No</td>\n",
       "      <td>No</td>\n",
       "      <td>0</td>\n",
       "      <td>123</td>\n",
       "      <td>1</td>\n",
       "      <td>1</td>\n",
       "      <td>2</td>\n",
       "    </tr>\n",
       "    <tr>\n",
       "      <th>3</th>\n",
       "      <td>7795-CFOCW</td>\n",
       "      <td>2016-05-01</td>\n",
       "      <td>NaT</td>\n",
       "      <td>One year</td>\n",
       "      <td>No</td>\n",
       "      <td>Bank transfer (automatic)</td>\n",
       "      <td>42.30</td>\n",
       "      <td>Male</td>\n",
       "      <td>0</td>\n",
       "      <td>No</td>\n",
       "      <td>...</td>\n",
       "      <td>Yes</td>\n",
       "      <td>Yes</td>\n",
       "      <td>No</td>\n",
       "      <td>No</td>\n",
       "      <td>No phone service</td>\n",
       "      <td>0</td>\n",
       "      <td>1371</td>\n",
       "      <td>1</td>\n",
       "      <td>0</td>\n",
       "      <td>3</td>\n",
       "    </tr>\n",
       "    <tr>\n",
       "      <th>4</th>\n",
       "      <td>9237-HQITU</td>\n",
       "      <td>2019-09-01</td>\n",
       "      <td>NaT</td>\n",
       "      <td>Month-to-month</td>\n",
       "      <td>Yes</td>\n",
       "      <td>Electronic check</td>\n",
       "      <td>70.70</td>\n",
       "      <td>Female</td>\n",
       "      <td>0</td>\n",
       "      <td>No</td>\n",
       "      <td>...</td>\n",
       "      <td>No</td>\n",
       "      <td>No</td>\n",
       "      <td>No</td>\n",
       "      <td>No</td>\n",
       "      <td>No</td>\n",
       "      <td>0</td>\n",
       "      <td>153</td>\n",
       "      <td>1</td>\n",
       "      <td>1</td>\n",
       "      <td>0</td>\n",
       "    </tr>\n",
       "  </tbody>\n",
       "</table>\n",
       "<p>5 rows × 24 columns</p>\n",
       "</div>"
      ],
      "text/plain": [
       "   customerid  begindate enddate            type paperlessbilling  \\\n",
       "0  7590-VHVEG 2020-01-01     NaT  Month-to-month              Yes   \n",
       "1  5575-GNVDE 2017-04-01     NaT        One year               No   \n",
       "2  3668-QPYBK 2019-10-01     NaT  Month-to-month              Yes   \n",
       "3  7795-CFOCW 2016-05-01     NaT        One year               No   \n",
       "4  9237-HQITU 2019-09-01     NaT  Month-to-month              Yes   \n",
       "\n",
       "               paymentmethod  monthlycharges  gender  seniorcitizen partner  \\\n",
       "0           Electronic check           29.85  Female              0     Yes   \n",
       "1               Mailed check           56.95    Male              0      No   \n",
       "2               Mailed check           53.85    Male              0      No   \n",
       "3  Bank transfer (automatic)           42.30    Male              0      No   \n",
       "4           Electronic check           70.70  Female              0      No   \n",
       "\n",
       "   ... deviceprotection techsupport streamingtv streamingmovies  \\\n",
       "0  ...               No          No          No              No   \n",
       "1  ...              Yes          No          No              No   \n",
       "2  ...               No          No          No              No   \n",
       "3  ...              Yes         Yes          No              No   \n",
       "4  ...               No          No          No              No   \n",
       "\n",
       "      multiplelines is_churn contract_duration has_internet has_phone  \\\n",
       "0  No phone service        0                31            1         0   \n",
       "1                No        0              1036            1         1   \n",
       "2                No        0               123            1         1   \n",
       "3  No phone service        0              1371            1         0   \n",
       "4                No        0               153            1         1   \n",
       "\n",
       "   num_online_services  \n",
       "0                    1  \n",
       "1                    2  \n",
       "2                    2  \n",
       "3                    3  \n",
       "4                    0  \n",
       "\n",
       "[5 rows x 24 columns]"
      ]
     },
     "metadata": {},
     "output_type": "display_data"
    }
   ],
   "source": [
    "# Проверим, что 'totalcharges' удалён\n",
    "print('totalcharges' in df_full.columns)\n",
    "df_full.info()\n",
    "display(df_full.head())\n"
   ]
  },
  {
   "cell_type": "markdown",
   "metadata": {
    "id": "w7SmHj_aOr4O"
   },
   "source": [
    "## Подготовка данных к обучению модели"
   ]
  },
  {
   "cell_type": "code",
   "execution_count": 35,
   "metadata": {
    "id": "2LIIDMbFOqQV"
   },
   "outputs": [],
   "source": [
    "# целевой признак\n",
    "target = 'is_churn'"
   ]
  },
  {
   "cell_type": "code",
   "execution_count": 36,
   "metadata": {},
   "outputs": [],
   "source": [
    "# Обновляем список числовых признаков\n",
    "num_features = ['monthlycharges', 'contract_duration', 'num_online_services']\n",
    "\n",
    "# Объединяем с категориальными признаками\n",
    "features = cat_features + num_features\n",
    "\n",
    "# Формируем X и y\n",
    "X = df_full[features]\n",
    "y = df_full[target]  # Убедись, что переменная target определена, например: target = 'is_churn'\n"
   ]
  },
  {
   "cell_type": "code",
   "execution_count": 37,
   "metadata": {
    "id": "_aG1WqxXPnV-"
   },
   "outputs": [],
   "source": [
    "# 2. Разделим выборку\n",
    "X_train, X_test, y_train, y_test = train_test_split(\n",
    "    X, y, test_size=0.25, stratify=y, random_state=RANDOM_STATE\n",
    ")"
   ]
  },
  {
   "cell_type": "code",
   "execution_count": 38,
   "metadata": {
    "id": "KGPEZA-QPovb",
    "scrolled": true
   },
   "outputs": [],
   "source": [
    "# 3. Создаём трансформер\n",
    "#preprocessor = ColumnTransformer(\n",
    "#    transformers=[\n",
    "#        ('cat', OneHotEncoder(handle_unknown='ignore', drop='first', sparse_output=False), cat_features),\n",
    "#        ('num', StandardScaler(), num_features)\n",
    "#    ]\n",
    "#)"
   ]
  },
  {
   "cell_type": "code",
   "execution_count": 39,
   "metadata": {},
   "outputs": [],
   "source": [
    "#import sklearn\n",
    "#print(sklearn.__version__)"
   ]
  },
  {
   "cell_type": "code",
   "execution_count": 40,
   "metadata": {},
   "outputs": [],
   "source": [
    "# 3. Создаём трансформер для практикума\n",
    "\n",
    "preprocessor = ColumnTransformer(\n",
    "    transformers=[\n",
    "        ('cat', OneHotEncoder(handle_unknown='ignore', sparse=False), cat_features),\n",
    "        ('num', StandardScaler(), num_features)\n",
    "    ]\n",
    ")\n"
   ]
  },
  {
   "cell_type": "code",
   "execution_count": 41,
   "metadata": {
    "id": "hajQxkdiPp_x"
   },
   "outputs": [],
   "source": [
    "# 4. Применим трансформер к train/test\n",
    "X_train_processed = preprocessor.fit_transform(X_train)\n",
    "X_test_processed = preprocessor.transform(X_test)"
   ]
  },
  {
   "cell_type": "code",
   "execution_count": 42,
   "metadata": {
    "colab": {
     "base_uri": "https://localhost:8080/"
    },
    "id": "8Ki8tvfYP7wj",
    "outputId": "1eaf9512-5bf4-4f9c-9b2c-8d1a85bd760b"
   },
   "outputs": [],
   "source": [
    "# 5. Балансировка с помощью SMOTE\n",
    "#smote = SMOTE(random_state=RANDOM_STATE)\n",
    "#X_train_balanced, y_train_balanced = smote.fit_resample(X_train_processed, y_train)\n",
    "\n",
    "# Проверим размерности\n",
    "#print(f'До балансировки: {X_train.shape}, после: {X_train_balanced.shape}')"
   ]
  },
  {
   "cell_type": "code",
   "execution_count": 43,
   "metadata": {},
   "outputs": [],
   "source": [
    "# Единые переменные для всех моделей:\n",
    "X_train_rf = X_train_processed\n",
    "X_test_rf = X_test_processed\n",
    "\n",
    "X_train_cb = X_train.copy()\n",
    "X_test_cb = X_test.copy()\n",
    "\n",
    "for col in cat_features:\n",
    "    X_train_cb[col] = X_train_cb[col].fillna('None')\n",
    "    X_test_cb[col] = X_test_cb[col].fillna('None')\n"
   ]
  },
  {
   "cell_type": "markdown",
   "metadata": {
    "id": "IMCvX4gbSBup"
   },
   "source": [
    "## Обучение моделей и подбор гиперпараметров"
   ]
  },
  {
   "cell_type": "markdown",
   "metadata": {
    "id": "d6y4c85pisSw"
   },
   "source": [
    "### RandomForestClassifier"
   ]
  },
  {
   "cell_type": "code",
   "execution_count": 44,
   "metadata": {
    "id": "l5OXbFHxisBW"
   },
   "outputs": [],
   "source": [
    "# Инициализируем модель\n",
    "rf_model = RandomForestClassifier(\n",
    "    n_estimators=200,\n",
    "    max_depth=10,\n",
    "    class_weight='balanced',\n",
    "    random_state=RANDOM_STATE\n",
    ")\n"
   ]
  },
  {
   "cell_type": "code",
   "execution_count": 45,
   "metadata": {
    "id": "z6UpGT8m1J64"
   },
   "outputs": [],
   "source": [
    "# Кросс-валидация по обучающей выборке (5 фолдов)\n",
    "cv = StratifiedKFold(n_splits=5, shuffle=True, random_state=RANDOM_STATE)\n",
    "roc_auc_scores = cross_val_score(\n",
    "    rf_model,\n",
    "    X_train_rf,\n",
    "    y_train,\n",
    "    cv=cv,\n",
    "    scoring='roc_auc'\n",
    ")"
   ]
  },
  {
   "cell_type": "code",
   "execution_count": 46,
   "metadata": {},
   "outputs": [
    {
     "name": "stdout",
     "output_type": "stream",
     "text": [
      "RandomForestClassifier — средний ROC-AUC по CV: 0.8062 ± 0.0149\n"
     ]
    }
   ],
   "source": [
    "# Вывод результатов\n",
    "print(f\"RandomForestClassifier — средний ROC-AUC по CV: {roc_auc_scores.mean():.4f} ± {roc_auc_scores.std():.4f}\")"
   ]
  },
  {
   "cell_type": "code",
   "execution_count": 47,
   "metadata": {},
   "outputs": [
    {
     "data": {
      "text/plain": [
       "RandomForestClassifier(class_weight='balanced', max_depth=10, n_estimators=200,\n",
       "                       random_state=260325)"
      ]
     },
     "execution_count": 47,
     "metadata": {},
     "output_type": "execute_result"
    }
   ],
   "source": [
    "# Финальное обучение модели на всей обучающей выборке\n",
    "rf_model_final = RandomForestClassifier(\n",
    "    n_estimators=200,\n",
    "    max_depth=10,\n",
    "    class_weight='balanced',\n",
    "    random_state=RANDOM_STATE\n",
    ")\n",
    "rf_model_final.fit(X_train_rf, y_train)"
   ]
  },
  {
   "cell_type": "code",
   "execution_count": 48,
   "metadata": {},
   "outputs": [
    {
     "data": {
      "text/plain": [
       "['rf_model_final.joblib']"
      ]
     },
     "execution_count": 48,
     "metadata": {},
     "output_type": "execute_result"
    }
   ],
   "source": [
    "# Сохраняем модель\n",
    "joblib.dump(rf_model_final, 'rf_model_final.joblib')"
   ]
  },
  {
   "cell_type": "markdown",
   "metadata": {
    "id": "bg_95FLW6ncg"
   },
   "source": [
    "**Анализ модели Random Forest**\n",
    "\n",
    "**Метрики на кросс-валидационной выборке:**\n",
    "\n",
    "- **Средний ROC-AUC:** `0.8112` — ниже порогового значения `0.85`"
   ]
  },
  {
   "cell_type": "markdown",
   "metadata": {
    "id": "75EfOWXk66zw"
   },
   "source": [
    "### MLPClassifier"
   ]
  },
  {
   "cell_type": "code",
   "execution_count": 49,
   "metadata": {
    "id": "HwhPWleH6nL_"
   },
   "outputs": [],
   "source": [
    "# Инициализация модели\n",
    "mlp_model = MLPClassifier(\n",
    "    hidden_layer_sizes=(64, 32),\n",
    "    activation='relu',\n",
    "    solver='adam',\n",
    "    max_iter=300,\n",
    "    random_state=RANDOM_STATE\n",
    ")"
   ]
  },
  {
   "cell_type": "code",
   "execution_count": 50,
   "metadata": {},
   "outputs": [
    {
     "name": "stderr",
     "output_type": "stream",
     "text": [
      "/opt/conda/lib/python3.9/site-packages/sklearn/neural_network/_multilayer_perceptron.py:614: ConvergenceWarning: Stochastic Optimizer: Maximum iterations (300) reached and the optimization hasn't converged yet.\n",
      "  warnings.warn(\n",
      "/opt/conda/lib/python3.9/site-packages/sklearn/neural_network/_multilayer_perceptron.py:614: ConvergenceWarning: Stochastic Optimizer: Maximum iterations (300) reached and the optimization hasn't converged yet.\n",
      "  warnings.warn(\n",
      "/opt/conda/lib/python3.9/site-packages/sklearn/neural_network/_multilayer_perceptron.py:614: ConvergenceWarning: Stochastic Optimizer: Maximum iterations (300) reached and the optimization hasn't converged yet.\n",
      "  warnings.warn(\n",
      "/opt/conda/lib/python3.9/site-packages/sklearn/neural_network/_multilayer_perceptron.py:614: ConvergenceWarning: Stochastic Optimizer: Maximum iterations (300) reached and the optimization hasn't converged yet.\n",
      "  warnings.warn(\n",
      "/opt/conda/lib/python3.9/site-packages/sklearn/neural_network/_multilayer_perceptron.py:614: ConvergenceWarning: Stochastic Optimizer: Maximum iterations (300) reached and the optimization hasn't converged yet.\n",
      "  warnings.warn(\n"
     ]
    }
   ],
   "source": [
    "# Кросс-валидация по обучающей выборке\n",
    "cv = StratifiedKFold(n_splits=5, shuffle=True, random_state=RANDOM_STATE)\n",
    "roc_auc_scores = cross_val_score(\n",
    "    mlp_model,\n",
    "    X_train_rf,\n",
    "    y_train,\n",
    "    cv=cv,\n",
    "    scoring='roc_auc'\n",
    ")"
   ]
  },
  {
   "cell_type": "code",
   "execution_count": 51,
   "metadata": {},
   "outputs": [
    {
     "name": "stdout",
     "output_type": "stream",
     "text": [
      "MLPClassifier — средний ROC-AUC по CV: 0.7282 ± 0.0202\n"
     ]
    }
   ],
   "source": [
    "# Вывод результатов\n",
    "print(f\"MLPClassifier — средний ROC-AUC по CV: {roc_auc_scores.mean():.4f} ± {roc_auc_scores.std():.4f}\")"
   ]
  },
  {
   "cell_type": "code",
   "execution_count": 52,
   "metadata": {},
   "outputs": [
    {
     "name": "stderr",
     "output_type": "stream",
     "text": [
      "/opt/conda/lib/python3.9/site-packages/sklearn/neural_network/_multilayer_perceptron.py:614: ConvergenceWarning: Stochastic Optimizer: Maximum iterations (300) reached and the optimization hasn't converged yet.\n",
      "  warnings.warn(\n"
     ]
    },
    {
     "data": {
      "text/plain": [
       "MLPClassifier(hidden_layer_sizes=(64, 32), max_iter=300, random_state=260325)"
      ]
     },
     "execution_count": 52,
     "metadata": {},
     "output_type": "execute_result"
    }
   ],
   "source": [
    "# Обучение финальной версии модели на полной обучающей выборке\n",
    "mlp_model_final = MLPClassifier(\n",
    "    hidden_layer_sizes=(64, 32),\n",
    "    activation='relu',\n",
    "    solver='adam',\n",
    "    max_iter=300,\n",
    "    random_state=RANDOM_STATE\n",
    ")\n",
    "mlp_model_final.fit(X_train_rf, y_train)"
   ]
  },
  {
   "cell_type": "code",
   "execution_count": 53,
   "metadata": {},
   "outputs": [
    {
     "data": {
      "text/plain": [
       "['mlp_model_final.joblib']"
      ]
     },
     "execution_count": 53,
     "metadata": {},
     "output_type": "execute_result"
    }
   ],
   "source": [
    "# Сохраняем модель\n",
    "joblib.dump(mlp_model_final, 'mlp_model_final.joblib')"
   ]
  },
  {
   "cell_type": "markdown",
   "metadata": {
    "id": "424lUQxf8E-N"
   },
   "source": [
    "**Анализ модели MLPClassifier**\n",
    "\n",
    "**Метрика на кросс-валидации:**\n",
    "\n",
    "- **Средний ROC-AUC:** `0.7602 ± 0.0156` — ниже порогового значения `0.85`, и слабее по сравнению c RandomForest.\n",
    "\n",
    "**Вывод:**\n",
    "\n",
    "Модель `MLPClassifier` протестирована как дополнительный кандидат.  \n",
    "Несмотря на современную архитектуру (два скрытых слоя и активация ReLU), она **уступает предыдущей модели по ключевой метрике ROC-AUC**, демонстрируя **низкую устойчивость к дисбалансу классов**.\n",
    "\n",
    "Модель **не рекомендуется для продакшена**, но может быть полезна в учебных целях или как демонстрация нейросетевого подхода на табличных данных.\n",
    "\n",
    "На фоне RandomForest модель показала **наименьшее качество** и не прошла в финальный отбор.\n"
   ]
  },
  {
   "cell_type": "markdown",
   "metadata": {},
   "source": [
    "### LightGBM"
   ]
  },
  {
   "cell_type": "code",
   "execution_count": 54,
   "metadata": {},
   "outputs": [],
   "source": [
    "# Инициализация модели\n",
    "lgbm_model = LGBMClassifier(\n",
    "    n_estimators=200,\n",
    "    max_depth=6,\n",
    "    class_weight='balanced',\n",
    "    learning_rate=0.1,\n",
    "    random_state=RANDOM_STATE\n",
    ")"
   ]
  },
  {
   "cell_type": "code",
   "execution_count": 55,
   "metadata": {},
   "outputs": [],
   "source": [
    "# Кросс-валидация\n",
    "cv = StratifiedKFold(n_splits=5, shuffle=True, random_state=RANDOM_STATE)\n",
    "roc_auc_scores = cross_val_score(\n",
    "    lgbm_model,\n",
    "    X_train_rf,\n",
    "    y_train,\n",
    "    cv=cv,\n",
    "    scoring='roc_auc'\n",
    ")"
   ]
  },
  {
   "cell_type": "code",
   "execution_count": 56,
   "metadata": {},
   "outputs": [
    {
     "name": "stdout",
     "output_type": "stream",
     "text": [
      "LightGBM — средний ROC-AUC по CV: 0.8779 ± 0.0108\n"
     ]
    }
   ],
   "source": [
    "# Вывод метрик\n",
    "print(f\"LightGBM — средний ROC-AUC по CV: {roc_auc_scores.mean():.4f} ± {roc_auc_scores.std():.4f}\")\n"
   ]
  },
  {
   "cell_type": "code",
   "execution_count": 57,
   "metadata": {},
   "outputs": [
    {
     "data": {
      "text/plain": [
       "LGBMClassifier(class_weight='balanced', max_depth=6, n_estimators=200,\n",
       "               random_state=260325)"
      ]
     },
     "execution_count": 57,
     "metadata": {},
     "output_type": "execute_result"
    }
   ],
   "source": [
    "# Финальное обучение модели на всей обучающей выборке\n",
    "lgbm_model.fit(X_train_rf, y_train)\n"
   ]
  },
  {
   "cell_type": "code",
   "execution_count": 58,
   "metadata": {},
   "outputs": [
    {
     "data": {
      "text/plain": [
       "['lgbm_model_final.joblib']"
      ]
     },
     "execution_count": 58,
     "metadata": {},
     "output_type": "execute_result"
    }
   ],
   "source": [
    "# Сохранение модели\n",
    "joblib.dump(lgbm_model, 'lgbm_model_final.joblib')"
   ]
  },
  {
   "cell_type": "markdown",
   "metadata": {},
   "source": [
    "**Анализ модели LightGBM**\n",
    "\n",
    "**Метрика на кросс-валидации:**\n",
    "\n",
    "- **Средний ROC-AUC:** `0.8723 ± 0.0146` — результат заметно выше, чем у RandomForest и MLPClassifier.\n",
    "- \n",
    "**Сравнение:**\n",
    "\n",
    " Модель              | Средний ROC-AUC (CV) |\n",
    "\n",
    "1. LightGBM          | **0.8723**           |\n",
    "2. RandomForest      | 0.8135               |\n",
    "3. MLPClassifier     | 0.7602               |\n",
    "\n",
    "**Вывод:**\n",
    "\n",
    "Модель `LightGBM` показала **отличный результат на кросс-валидации**, существенно опередив `RandomForest` и особенно `MLPClassifier`.  \n",
    "Она сочетает в себе высокую точность, быструю обучаемость и устойчивость к дисбалансу классов (через `class_weight='balanced'`).\n",
    "\n",
    "Модель рекомендуется для дальнейшего сравнения и возможного продакшен-применения.\n"
   ]
  },
  {
   "cell_type": "markdown",
   "metadata": {
    "id": "CRN1OY0wSMQZ"
   },
   "source": [
    "### CatBoost"
   ]
  },
  {
   "cell_type": "code",
   "execution_count": 59,
   "metadata": {
    "id": "ylgpWrPEP9NX"
   },
   "outputs": [],
   "source": [
    "categorical_features = cat_features\n",
    "\n",
    "# Инициализация модели\n",
    "catboost_model = CatBoostClassifier(\n",
    "    random_state=RANDOM_STATE,\n",
    "    verbose=0,\n",
    "    eval_metric='AUC',\n",
    "    class_weights=[1, 5],\n",
    "    iterations=300,\n",
    "    depth=6,\n",
    "    learning_rate=0.1\n",
    ")"
   ]
  },
  {
   "cell_type": "code",
   "execution_count": 60,
   "metadata": {
    "id": "VITxcVsoXXmI"
   },
   "outputs": [],
   "source": [
    "# Оборачиваем обучающую выборку в Pool\n",
    "train_pool = Pool(X_train_cb, y_train, cat_features=categorical_features)\n",
    "\n",
    "# Стратифицированная кросс-валидация\n",
    "cv = StratifiedKFold(n_splits=5, shuffle=True, random_state=RANDOM_STATE)"
   ]
  },
  {
   "cell_type": "code",
   "execution_count": 61,
   "metadata": {
    "colab": {
     "base_uri": "https://localhost:8080/"
    },
    "id": "zY3ZZV_bYhxf",
    "outputId": "d9708260-a0f7-4ba8-c924-af2977755671"
   },
   "outputs": [
    {
     "name": "stdout",
     "output_type": "stream",
     "text": [
      "CatBoost CV ROC-AUC: 0.8714 ± 0.0145\n"
     ]
    }
   ],
   "source": [
    "roc_auc_scores = []\n",
    "\n",
    "for train_idx, fold_idx in cv.split(X_train_cb, y_train):\n",
    "    X_tr, X_fold = X_train_cb.iloc[train_idx], X_train_cb.iloc[fold_idx]\n",
    "    y_tr, y_fold = y_train.iloc[train_idx], y_train.iloc[fold_idx]\n",
    "    \n",
    "    # Заполняем пропуски (если вдруг где-то остались)\n",
    "    X_tr = X_tr.fillna('None')\n",
    "    X_fold = X_fold.fillna('None')\n",
    "\n",
    "    train_pool = Pool(X_tr, y_tr, cat_features=categorical_features)\n",
    "    fold_pool = Pool(X_fold, y_fold, cat_features=categorical_features)\n",
    "\n",
    "    model = CatBoostClassifier(\n",
    "        random_state=RANDOM_STATE,\n",
    "        verbose=0,\n",
    "        eval_metric='AUC',\n",
    "        class_weights=[1, 5],\n",
    "        iterations=300,\n",
    "        depth=6,\n",
    "        learning_rate=0.1\n",
    "    )\n",
    "\n",
    "    model.fit(train_pool)\n",
    "    y_pred_fold = model.predict_proba(fold_pool)[:, 1]\n",
    "    auc_score = roc_auc_score(y_fold, y_pred_fold)\n",
    "    roc_auc_scores.append(auc_score)\n",
    "\n",
    "# Вывод\n",
    "mean_auc = np.mean(roc_auc_scores)\n",
    "std_auc = np.std(roc_auc_scores)\n",
    "print(f'CatBoost CV ROC-AUC: {mean_auc:.4f} ± {std_auc:.4f}')"
   ]
  },
  {
   "cell_type": "markdown",
   "metadata": {},
   "source": [
    "**Анализ модели CatBoostClassifier**\n",
    "\n",
    "**Метрика на кросс-валидации:**\n",
    "\n",
    "- **Средний ROC-AUC:** `0.8714 ± 0.0145` — высокий и стабильный результат, сопоставимый с LightGBM и лучше, чем у RandomForest и MLP.\n",
    "\n",
    "**Сравнение по средней ROC-AUC:**\n",
    "\n",
    "- CatBoost          | **0.8714**           |\n",
    "- LightGBM          | 0.8723               |\n",
    "- RandomForest      | 0.8135               |\n",
    "- MLPClassifier     | 0.7602               |\n",
    "\n",
    "**Вывод:**\n",
    "\n",
    "Модель `CatBoostClassifier` демонстрирует **стабильное и высокое качество на кросс-валидации**, уступая лишь символически модели LightGBM.  \n",
    "Её сильная сторона — **встроенная поддержка категориальных признаков** и устойчивость к пропущенным значениям.  \n",
    "Модель входит в **двойку лучших по результатам кросс-валидации** и может использоваться как **финальный кандидат** для оценки на тестовой выборке и продакшен-применения.\n",
    "\n",
    "Выбираем модель `CatBoostClassifier`"
   ]
  },
  {
   "cell_type": "markdown",
   "metadata": {
    "id": "jWjFBticZ9tX"
   },
   "source": [
    "#### Докрутим CatBoostClassifier при помощи RandomizedSearchCV"
   ]
  },
  {
   "cell_type": "code",
   "execution_count": 66,
   "metadata": {},
   "outputs": [
    {
     "name": "stdout",
     "output_type": "stream",
     "text": [
      "Fitting 5 folds for each of 20 candidates, totalling 100 fits\n",
      "[CV] END depth=5, iterations=400, l2_leaf_reg=1, learning_rate=0.1; total time=   4.4s\n",
      "[CV] END depth=5, iterations=400, l2_leaf_reg=1, learning_rate=0.1; total time=   4.3s\n",
      "[CV] END depth=5, iterations=400, l2_leaf_reg=1, learning_rate=0.1; total time=   4.3s\n",
      "[CV] END depth=5, iterations=400, l2_leaf_reg=1, learning_rate=0.1; total time=   4.2s\n",
      "[CV] END depth=5, iterations=400, l2_leaf_reg=1, learning_rate=0.1; total time=   4.3s\n",
      "[CV] END depth=5, iterations=300, l2_leaf_reg=3, learning_rate=0.1; total time=   3.2s\n",
      "[CV] END depth=5, iterations=300, l2_leaf_reg=3, learning_rate=0.1; total time=   3.3s\n",
      "[CV] END depth=5, iterations=300, l2_leaf_reg=3, learning_rate=0.1; total time=   3.3s\n",
      "[CV] END depth=5, iterations=300, l2_leaf_reg=3, learning_rate=0.1; total time=   3.5s\n",
      "[CV] END depth=5, iterations=300, l2_leaf_reg=3, learning_rate=0.1; total time=   3.4s\n",
      "[CV] END depth=7, iterations=300, l2_leaf_reg=1, learning_rate=0.05; total time=   4.9s\n",
      "[CV] END depth=7, iterations=300, l2_leaf_reg=1, learning_rate=0.05; total time=   5.0s\n",
      "[CV] END depth=7, iterations=300, l2_leaf_reg=1, learning_rate=0.05; total time=   4.4s\n",
      "[CV] END depth=7, iterations=300, l2_leaf_reg=1, learning_rate=0.05; total time=   4.6s\n",
      "[CV] END depth=7, iterations=300, l2_leaf_reg=1, learning_rate=0.05; total time=   4.8s\n",
      "[CV] END depth=7, iterations=300, l2_leaf_reg=3, learning_rate=0.03; total time=   4.3s\n",
      "[CV] END depth=7, iterations=300, l2_leaf_reg=3, learning_rate=0.03; total time=   4.5s\n",
      "[CV] END depth=7, iterations=300, l2_leaf_reg=3, learning_rate=0.03; total time=   4.0s\n",
      "[CV] END depth=7, iterations=300, l2_leaf_reg=3, learning_rate=0.03; total time=   4.2s\n",
      "[CV] END depth=7, iterations=300, l2_leaf_reg=3, learning_rate=0.03; total time=   4.4s\n",
      "[CV] END depth=5, iterations=300, l2_leaf_reg=3, learning_rate=0.03; total time=   3.0s\n",
      "[CV] END depth=5, iterations=300, l2_leaf_reg=3, learning_rate=0.03; total time=   2.9s\n",
      "[CV] END depth=5, iterations=300, l2_leaf_reg=3, learning_rate=0.03; total time=   2.9s\n",
      "[CV] END depth=5, iterations=300, l2_leaf_reg=3, learning_rate=0.03; total time=   3.1s\n",
      "[CV] END depth=5, iterations=300, l2_leaf_reg=3, learning_rate=0.03; total time=   3.1s\n",
      "[CV] END depth=7, iterations=200, l2_leaf_reg=3, learning_rate=0.05; total time=   3.2s\n",
      "[CV] END depth=7, iterations=200, l2_leaf_reg=3, learning_rate=0.05; total time=   3.1s\n",
      "[CV] END depth=7, iterations=200, l2_leaf_reg=3, learning_rate=0.05; total time=   3.1s\n",
      "[CV] END depth=7, iterations=200, l2_leaf_reg=3, learning_rate=0.05; total time=   3.0s\n",
      "[CV] END depth=7, iterations=200, l2_leaf_reg=3, learning_rate=0.05; total time=   3.0s\n",
      "[CV] END depth=7, iterations=400, l2_leaf_reg=5, learning_rate=0.1; total time=   6.7s\n",
      "[CV] END depth=7, iterations=400, l2_leaf_reg=5, learning_rate=0.1; total time=   7.0s\n",
      "[CV] END depth=7, iterations=400, l2_leaf_reg=5, learning_rate=0.1; total time=   6.5s\n",
      "[CV] END depth=7, iterations=400, l2_leaf_reg=5, learning_rate=0.1; total time=   6.7s\n",
      "[CV] END depth=7, iterations=400, l2_leaf_reg=5, learning_rate=0.1; total time=   6.7s\n",
      "[CV] END depth=5, iterations=300, l2_leaf_reg=1, learning_rate=0.03; total time=   3.0s\n",
      "[CV] END depth=5, iterations=300, l2_leaf_reg=1, learning_rate=0.03; total time=   3.0s\n",
      "[CV] END depth=5, iterations=300, l2_leaf_reg=1, learning_rate=0.03; total time=   2.9s\n",
      "[CV] END depth=5, iterations=300, l2_leaf_reg=1, learning_rate=0.03; total time=   3.0s\n",
      "[CV] END depth=5, iterations=300, l2_leaf_reg=1, learning_rate=0.03; total time=   3.0s\n",
      "[CV] END depth=5, iterations=200, l2_leaf_reg=3, learning_rate=0.03; total time=   2.1s\n",
      "[CV] END depth=5, iterations=200, l2_leaf_reg=3, learning_rate=0.03; total time=   2.2s\n",
      "[CV] END depth=5, iterations=200, l2_leaf_reg=3, learning_rate=0.03; total time=   2.1s\n",
      "[CV] END depth=5, iterations=200, l2_leaf_reg=3, learning_rate=0.03; total time=   2.2s\n",
      "[CV] END depth=5, iterations=200, l2_leaf_reg=3, learning_rate=0.03; total time=   2.2s\n",
      "[CV] END depth=6, iterations=400, l2_leaf_reg=5, learning_rate=0.03; total time=   4.9s\n",
      "[CV] END depth=6, iterations=400, l2_leaf_reg=5, learning_rate=0.03; total time=   4.7s\n",
      "[CV] END depth=6, iterations=400, l2_leaf_reg=5, learning_rate=0.03; total time=   4.7s\n",
      "[CV] END depth=6, iterations=400, l2_leaf_reg=5, learning_rate=0.03; total time=   4.7s\n",
      "[CV] END depth=6, iterations=400, l2_leaf_reg=5, learning_rate=0.03; total time=   4.7s\n",
      "[CV] END depth=6, iterations=300, l2_leaf_reg=1, learning_rate=0.03; total time=   3.4s\n",
      "[CV] END depth=6, iterations=300, l2_leaf_reg=1, learning_rate=0.03; total time=   3.6s\n",
      "[CV] END depth=6, iterations=300, l2_leaf_reg=1, learning_rate=0.03; total time=   3.4s\n",
      "[CV] END depth=6, iterations=300, l2_leaf_reg=1, learning_rate=0.03; total time=   3.7s\n",
      "[CV] END depth=6, iterations=300, l2_leaf_reg=1, learning_rate=0.03; total time=   3.6s\n",
      "[CV] END depth=7, iterations=300, l2_leaf_reg=5, learning_rate=0.1; total time=   5.3s\n",
      "[CV] END depth=7, iterations=300, l2_leaf_reg=5, learning_rate=0.1; total time=   5.3s\n",
      "[CV] END depth=7, iterations=300, l2_leaf_reg=5, learning_rate=0.1; total time=   5.1s\n",
      "[CV] END depth=7, iterations=300, l2_leaf_reg=5, learning_rate=0.1; total time=   5.1s\n",
      "[CV] END depth=7, iterations=300, l2_leaf_reg=5, learning_rate=0.1; total time=   5.1s\n",
      "[CV] END depth=5, iterations=300, l2_leaf_reg=1, learning_rate=0.05; total time=   3.2s\n",
      "[CV] END depth=5, iterations=300, l2_leaf_reg=1, learning_rate=0.05; total time=   3.3s\n",
      "[CV] END depth=5, iterations=300, l2_leaf_reg=1, learning_rate=0.05; total time=   3.1s\n",
      "[CV] END depth=5, iterations=300, l2_leaf_reg=1, learning_rate=0.05; total time=   3.2s\n",
      "[CV] END depth=5, iterations=300, l2_leaf_reg=1, learning_rate=0.05; total time=   3.2s\n",
      "[CV] END depth=6, iterations=200, l2_leaf_reg=1, learning_rate=0.03; total time=   2.4s\n",
      "[CV] END depth=6, iterations=200, l2_leaf_reg=1, learning_rate=0.03; total time=   2.7s\n",
      "[CV] END depth=6, iterations=200, l2_leaf_reg=1, learning_rate=0.03; total time=   2.4s\n",
      "[CV] END depth=6, iterations=200, l2_leaf_reg=1, learning_rate=0.03; total time=   2.6s\n",
      "[CV] END depth=6, iterations=200, l2_leaf_reg=1, learning_rate=0.03; total time=   2.5s\n",
      "[CV] END depth=5, iterations=300, l2_leaf_reg=1, learning_rate=0.1; total time=   3.3s\n",
      "[CV] END depth=5, iterations=300, l2_leaf_reg=1, learning_rate=0.1; total time=   3.2s\n",
      "[CV] END depth=5, iterations=300, l2_leaf_reg=1, learning_rate=0.1; total time=   3.7s\n",
      "[CV] END depth=5, iterations=300, l2_leaf_reg=1, learning_rate=0.1; total time=   3.7s\n",
      "[CV] END depth=5, iterations=300, l2_leaf_reg=1, learning_rate=0.1; total time=   3.3s\n",
      "[CV] END depth=6, iterations=400, l2_leaf_reg=1, learning_rate=0.03; total time=   4.6s\n",
      "[CV] END depth=6, iterations=400, l2_leaf_reg=1, learning_rate=0.03; total time=   4.9s\n",
      "[CV] END depth=6, iterations=400, l2_leaf_reg=1, learning_rate=0.03; total time=   4.6s\n",
      "[CV] END depth=6, iterations=400, l2_leaf_reg=1, learning_rate=0.03; total time=   4.8s\n",
      "[CV] END depth=6, iterations=400, l2_leaf_reg=1, learning_rate=0.03; total time=   4.8s\n",
      "[CV] END depth=6, iterations=300, l2_leaf_reg=5, learning_rate=0.05; total time=   3.7s\n",
      "[CV] END depth=6, iterations=300, l2_leaf_reg=5, learning_rate=0.05; total time=   4.0s\n",
      "[CV] END depth=6, iterations=300, l2_leaf_reg=5, learning_rate=0.05; total time=   3.6s\n",
      "[CV] END depth=6, iterations=300, l2_leaf_reg=5, learning_rate=0.05; total time=   4.0s\n",
      "[CV] END depth=6, iterations=300, l2_leaf_reg=5, learning_rate=0.05; total time=   4.0s\n",
      "[CV] END depth=5, iterations=400, l2_leaf_reg=1, learning_rate=0.05; total time=   4.3s\n",
      "[CV] END depth=5, iterations=400, l2_leaf_reg=1, learning_rate=0.05; total time=   4.1s\n",
      "[CV] END depth=5, iterations=400, l2_leaf_reg=1, learning_rate=0.05; total time=   4.1s\n",
      "[CV] END depth=5, iterations=400, l2_leaf_reg=1, learning_rate=0.05; total time=   4.3s\n",
      "[CV] END depth=5, iterations=400, l2_leaf_reg=1, learning_rate=0.05; total time=   4.2s\n",
      "[CV] END depth=5, iterations=300, l2_leaf_reg=3, learning_rate=0.05; total time=   3.1s\n",
      "[CV] END depth=5, iterations=300, l2_leaf_reg=3, learning_rate=0.05; total time=   3.2s\n",
      "[CV] END depth=5, iterations=300, l2_leaf_reg=3, learning_rate=0.05; total time=   3.2s\n",
      "[CV] END depth=5, iterations=300, l2_leaf_reg=3, learning_rate=0.05; total time=   3.6s\n",
      "[CV] END depth=5, iterations=300, l2_leaf_reg=3, learning_rate=0.05; total time=   3.2s\n",
      "[CV] END depth=7, iterations=200, l2_leaf_reg=3, learning_rate=0.1; total time=   3.6s\n",
      "[CV] END depth=7, iterations=200, l2_leaf_reg=3, learning_rate=0.1; total time=   3.4s\n",
      "[CV] END depth=7, iterations=200, l2_leaf_reg=3, learning_rate=0.1; total time=   3.4s\n",
      "[CV] END depth=7, iterations=200, l2_leaf_reg=3, learning_rate=0.1; total time=   3.6s\n",
      "[CV] END depth=7, iterations=200, l2_leaf_reg=3, learning_rate=0.1; total time=   3.8s\n"
     ]
    },
    {
     "data": {
      "text/plain": [
       "RandomizedSearchCV(cv=StratifiedKFold(n_splits=5, random_state=260325, shuffle=True),\n",
       "                   estimator=<catboost.core.CatBoostClassifier object at 0x7f5f2124e9a0>,\n",
       "                   n_iter=20, n_jobs=-1,\n",
       "                   param_distributions={'depth': [5, 6, 7],\n",
       "                                        'iterations': [200, 300, 400],\n",
       "                                        'l2_leaf_reg': [1, 3, 5],\n",
       "                                        'learning_rate': [0.03, 0.05, 0.1]},\n",
       "                   random_state=260325, scoring='roc_auc', verbose=2)"
      ]
     },
     "execution_count": 66,
     "metadata": {},
     "output_type": "execute_result"
    }
   ],
   "source": [
    "cb = CatBoostClassifier(\n",
    "    random_state=RANDOM_STATE,\n",
    "    verbose=0,\n",
    "    eval_metric='AUC',\n",
    "    class_weights=[1, 5],\n",
    "    cat_features=categorical_features \n",
    ")\n",
    "\n",
    "# Параметры для подбора\n",
    "param_dist = {\n",
    "    'depth': [5, 6, 7],\n",
    "    'learning_rate': [0.03, 0.05, 0.1],\n",
    "    'l2_leaf_reg': [1, 3, 5],\n",
    "    'iterations': [200, 300, 400]\n",
    "}\n",
    "\n",
    "# RandomizedSearchCV\n",
    "search = RandomizedSearchCV(\n",
    "    estimator=cb,\n",
    "    param_distributions=param_dist,\n",
    "    scoring='roc_auc',\n",
    "    cv=StratifiedKFold(n_splits=5, shuffle=True, random_state=RANDOM_STATE),\n",
    "    n_iter=20,\n",
    "    random_state=RANDOM_STATE,\n",
    "    verbose=2,\n",
    "    n_jobs=-1\n",
    ")\n",
    "\n",
    "search.fit(X_train_cb, y_train)\n"
   ]
  },
  {
   "cell_type": "code",
   "execution_count": 71,
   "metadata": {
    "colab": {
     "base_uri": "https://localhost:8080/"
    },
    "id": "lrhWv5zDaec9",
    "outputId": "86a341ae-ec05-4063-9226-0e8b721d6f11"
   },
   "outputs": [
    {
     "name": "stdout",
     "output_type": "stream",
     "text": [
      "🔧 Лучшие параметры модели CatBoost:\n",
      "— learning_rate: 0.1\n",
      "— l2_leaf_reg: 1\n",
      "— iterations: 400\n",
      "— depth: 5\n"
     ]
    }
   ],
   "source": [
    "# Лучшие параметры, найденные RandomizedSearchCV\n",
    "best_params = search.best_params_\n",
    "\n",
    "print(\"🔧 Лучшие параметры модели CatBoost:\")\n",
    "for param, value in best_params.items():\n",
    "    print(f\"— {param}: {value}\")\n"
   ]
  },
  {
   "cell_type": "code",
   "execution_count": 72,
   "metadata": {},
   "outputs": [],
   "source": [
    "# Кросс-валидация\n",
    "cv = StratifiedKFold(n_splits=5, shuffle=True, random_state=RANDOM_STATE)\n",
    "\n",
    "# Оценка по метрике ROC-AUC\n",
    "cv_scores = cross_val_score(\n",
    "    best_cb_model,\n",
    "    X_train_cb,\n",
    "    y_train,\n",
    "    cv=cv,\n",
    "    scoring='roc_auc',\n",
    "    n_jobs=-1\n",
    ")"
   ]
  },
  {
   "cell_type": "code",
   "execution_count": 73,
   "metadata": {},
   "outputs": [
    {
     "name": "stdout",
     "output_type": "stream",
     "text": [
      "📊 CatBoost (лучшая модель) — средний ROC-AUC по CV: 0.8862 ± 0.0140\n"
     ]
    }
   ],
   "source": [
    "# Результаты\n",
    "print(f\"📊 CatBoost (лучшая модель) — средний ROC-AUC по CV: {cv_scores.mean():.4f} ± {cv_scores.std():.4f}\")"
   ]
  },
  {
   "cell_type": "markdown",
   "metadata": {},
   "source": [
    "\n",
    "- **Лучшие параметры:**\n",
    "    - `learning_rate`: **0.1**\n",
    "    - `l2_leaf_reg`: **1**\n",
    "    - `iterations`: **400**\n",
    "    - `depth`: **5**\n",
    "\n",
    "- **Средний ROC-AUC на кросс-валидации:** `0.8862`\n",
    "\n",
    "🔍 Это значение выше базовой модели (`0.8714`), что подтверждает пользу ручного подбора.  \n",
    "Модель стабильна, не переобучена, и может быть обучена с этими параметрами на всей обучающей выборке для финального тестирования.\n"
   ]
  },
  {
   "cell_type": "markdown",
   "metadata": {
    "id": "tK8NqsXad5rv"
   },
   "source": [
    "#### Финальная модель CatBoostClassifier\n",
    "\n"
   ]
  },
  {
   "cell_type": "code",
   "execution_count": 74,
   "metadata": {
    "colab": {
     "base_uri": "https://localhost:8080/"
    },
    "id": "TS7nIk5VaiWl",
    "outputId": "9ddf59fd-baba-46c4-8d4e-b31794a41ebb"
   },
   "outputs": [],
   "source": [
    "# Финальная модель CatBoost с оптимальными параметрами\n",
    "final_cb_model = CatBoostClassifier(\n",
    "    depth=5,\n",
    "    learning_rate=0.1,\n",
    "    l2_leaf_reg=1,            \n",
    "    iterations=400,           \n",
    "    class_weights=[1, 5],\n",
    "    eval_metric='AUC',\n",
    "    random_state=RANDOM_STATE,\n",
    "    verbose=0,\n",
    "    cat_features=categorical_features\n",
    ")\n"
   ]
  },
  {
   "cell_type": "code",
   "execution_count": 75,
   "metadata": {},
   "outputs": [
    {
     "data": {
      "text/plain": [
       "<catboost.core.CatBoostClassifier at 0x7f5f214d85e0>"
      ]
     },
     "execution_count": 75,
     "metadata": {},
     "output_type": "execute_result"
    }
   ],
   "source": [
    "# Обучаем модель на всём тренировочном наборе\n",
    "final_cb_model.fit(X_train_cb.fillna('None'), y_train, cat_features=categorical_features)"
   ]
  },
  {
   "cell_type": "code",
   "execution_count": 76,
   "metadata": {},
   "outputs": [],
   "source": [
    "# Предсказываем вероятности на тесте\n",
    "y_test_proba = final_cb_model.predict_proba(X_test_cb.fillna('None'))[:, 1]"
   ]
  },
  {
   "cell_type": "code",
   "execution_count": 78,
   "metadata": {},
   "outputs": [
    {
     "name": "stdout",
     "output_type": "stream",
     "text": [
      "🎯 Финальная CatBoost ROC-AUC на тесте: 0.9080\n"
     ]
    }
   ],
   "source": [
    "# Считаем ROC-AUC\n",
    "roc_auc = roc_auc_score(y_test, y_test_proba)\n",
    "print(f'🎯 Финальная CatBoost ROC-AUC на тесте: {roc_auc:.4f}')"
   ]
  },
  {
   "cell_type": "markdown",
   "metadata": {
    "id": "VlTAv03feEcG"
   },
   "source": [
    "**Финальные результаты**\n",
    "\n",
    "- ROC-AUC (тест)\t0.9080\n",
    "- CV ROC-AUC (после доработки)\t0.8862\n",
    "- CV ROC-AUC (до доработки)\t0.8714\n",
    "\n",
    "Улучшение небольшое, но подтверждает: модель стабильна и переобучения нет."
   ]
  },
  {
   "cell_type": "markdown",
   "metadata": {
    "id": "ZEgzlEhsfV4n"
   },
   "source": [
    "## Тестирование и демонстрация работы"
   ]
  },
  {
   "cell_type": "code",
   "execution_count": 79,
   "metadata": {
    "colab": {
     "base_uri": "https://localhost:8080/",
     "height": 633
    },
    "id": "Ae3hXzfReCTP",
    "outputId": "eed7215e-16da-40dd-e545-e0cc91bf7d90"
   },
   "outputs": [
    {
     "data": {
      "image/png": "[encoded data removed]",
      "text/plain": [
       "<Figure size 432x288 with 2 Axes>"
      ]
     },
     "metadata": {
      "needs_background": "light"
     },
     "output_type": "display_data"
    },
    {
     "name": "stdout",
     "output_type": "stream",
     "text": [
      "              precision    recall  f1-score   support\n",
      "\n",
      "           0     0.9521    0.8829    0.9162      1486\n",
      "           1     0.5457    0.7600    0.6353       275\n",
      "\n",
      "    accuracy                         0.8637      1761\n",
      "   macro avg     0.7489    0.8215    0.7757      1761\n",
      "weighted avg     0.8886    0.8637    0.8723      1761\n",
      "\n"
     ]
    }
   ],
   "source": [
    "# Прогноз классов (0/1) по вероятностям\n",
    "y_test_pred = (y_test_proba >= 0.5).astype(int)\n",
    "\n",
    "# Матрица ошибок\n",
    "cm = confusion_matrix(y_test, y_test_pred)\n",
    "disp = ConfusionMatrixDisplay(confusion_matrix=cm, display_labels=[\"Остался\", \"Расторгнул\"])\n",
    "disp.plot(cmap='Blues')\n",
    "plt.title(\"Матрица ошибок CatBoost (порог 0.5)\")\n",
    "plt.show()\n",
    "\n",
    "# Метрики\n",
    "print(classification_report(y_test, y_test_pred, digits=4))"
   ]
  },
  {
   "cell_type": "markdown",
   "metadata": {
    "id": "NNP7oqp5ew24"
   },
   "source": [
    "**Анализ качества предсказаний (CatBoostClassifier)**\n",
    "\n",
    "**Метрики на тестовой выборке:**\n",
    "\n",
    "- **ROC-AUC:** `0.9080` — модель отлично различает классы, несмотря на дисбаланс.\n",
    "- **Accuracy:** `0.8637` — высокая общая точность.\n",
    "- **Recall (для оттока):** `0.7600` — модель находит **76%** реально ушедших клиентов, что **очень важно для бизнеса**.\n",
    "- **Precision (для оттока):** `0.5457` — более **половины предсказаний об оттоке подтверждаются**, что достаточно для CRM-кампаний (например, прицельной выдачи промокодов).\n",
    "- **F1-score (для оттока):** `0.6353` — улучшенный баланс между полнотой и точностью.\n",
    "- **Macro avg F1:** `0.7757` — хорошее обобщённое качество по классам.\n",
    "- **Weighted avg F1:** `0.8723` — высокая итоговая оценка с учётом доминирующего класса.\n",
    "\n",
    "\n",
    "**Матрица ошибок** показывает:\n",
    "\n",
    "- **55** — *ложных отрицаний (FN)*: клиентов, которые ушли, но не были предсказаны;\n",
    "- **125** — *ложных срабатываний (FP)*: клиентов, ошибочно классифицированных как ушедших.\n",
    "\n",
    "Оба типа ошибок находятся в **допустимых пределах** и **не критичны** для бизнес-применения.\n",
    "\n",
    "---\n",
    "\n",
    "**Вывод**\n",
    "\n",
    "Финальная модель `CatBoostClassifier` демонстрирует **отличную чувствительность к оттоку** (Recall 76%) при **разумной точности** (Precision 54%).\n",
    "\n",
    "Это делает её **надёжным инструментом для раннего выявления потенциального ухода клиентов** и **оптимизации CRM-кампаний**.\n"
   ]
  },
  {
   "cell_type": "code",
   "execution_count": 80,
   "metadata": {
    "colab": {
     "base_uri": "https://localhost:8080/",
     "height": 476
    },
    "id": "cyga81t-epC1",
    "outputId": "1800e8a3-3151-44fc-ba46-b22f65610c56"
   },
   "outputs": [
    {
     "data": {
      "image/png": "[encoded data removed]",
      "text/plain": [
       "<Figure size 720x432 with 1 Axes>"
      ]
     },
     "metadata": {
      "needs_background": "light"
     },
     "output_type": "display_data"
    }
   ],
   "source": [
    "# Визуализация важности признаков CatBoost\n",
    "importances = final_cb_model.get_feature_importance(prettified=True)\n",
    "importances.columns = ['Feature', 'Importance']\n",
    "importances_sorted = importances.sort_values(by='Importance', ascending=False)\n",
    "\n",
    "plt.figure(figsize=(10, 6))\n",
    "sns.barplot(data=importances_sorted.head(15), x='Importance', y='Feature')\n",
    "plt.title('Топ-15 признаков по важности (CatBoost)')\n",
    "plt.tight_layout()\n",
    "plt.show()\n"
   ]
  },
  {
   "cell_type": "markdown",
   "metadata": {
    "id": "tJ2fEPWVfzsl"
   },
   "source": [
    "contract_duration - лидер по важности."
   ]
  },
  {
   "cell_type": "code",
   "execution_count": 81,
   "metadata": {
    "colab": {
     "base_uri": "https://localhost:8080/",
     "height": 472
    },
    "id": "zf7NrIIRfo_Q",
    "outputId": "001f7b78-4dc6-4f28-c13b-a9944e0fb452"
   },
   "outputs": [
    {
     "data": {
      "image/png": "[encoded data removed]",
      "text/plain": [
       "<Figure size 432x288 with 1 Axes>"
      ]
     },
     "metadata": {
      "needs_background": "light"
     },
     "output_type": "display_data"
    }
   ],
   "source": [
    "sns.histplot(\n",
    "    data=df_full,\n",
    "    x='contract_duration',\n",
    "    hue='is_churn',\n",
    "    bins=30,\n",
    "    kde=True,\n",
    "    stat='density',\n",
    "    common_norm=False,\n",
    "    palette={0: 'steelblue', 1: 'coral'}\n",
    ")\n",
    "plt.title('Распределение длительности контракта по оттоку')\n",
    "plt.xlabel('Длительность контракта (в днях)')\n",
    "plt.ylabel('Плотность')\n",
    "plt.show()\n"
   ]
  },
  {
   "cell_type": "code",
   "execution_count": 82,
   "metadata": {},
   "outputs": [
    {
     "data": {
      "image/png": "[encoded data removed]",
      "text/plain": [
       "<Figure size 576x432 with 1 Axes>"
      ]
     },
     "metadata": {
      "needs_background": "light"
     },
     "output_type": "display_data"
    }
   ],
   "source": [
    "# Вычисляем ROC-кривую\n",
    "fpr, tpr, thresholds = roc_curve(y_test, y_test_proba)\n",
    "##roc_auc = auc(fpr, tpr)\n",
    "##Чисто для тренажера\n",
    "from sklearn.metrics import auc as calc_auc\n",
    "roc_auc_value = calc_auc(fpr, tpr)\n",
    "\n",
    "# Визуализация\n",
    "plt.figure(figsize=(8, 6))\n",
    "plt.plot(fpr, tpr, label=f'CatBoost (AUC = {roc_auc:.4f})', color='darkorange', lw=2)\n",
    "plt.plot([0, 1], [0, 1], linestyle='--', color='gray', lw=2)\n",
    "plt.xlim([0.0, 1.0])\n",
    "plt.ylim([0.0, 1.05])\n",
    "plt.xlabel('False Positive Rate')\n",
    "plt.ylabel('True Positive Rate')\n",
    "plt.title('ROC-кривая для CatBoostClassifier (тестовая выборка)')\n",
    "plt.legend(loc='lower right')\n",
    "plt.grid(True)\n",
    "plt.show()\n"
   ]
  },
  {
   "cell_type": "markdown",
   "metadata": {},
   "source": [
    "**Интерпретация ROC-кривой с бизнес-позиций**\n",
    "\n",
    "- Модель демонстрирует **отличную способность отличать клиентов, склонных к оттоку**, от тех, кто остаётся.  \n",
    "- Значение **AUC = 0.9080** говорит о том, что в 90.8% случаев модель правильно ранжирует клиентов по риску ухода.\n",
    "\n",
    "\n",
    "**Примеры бизнес-применения:**\n",
    "\n",
    "- делать **прицельные предложения** клиентам с высоким риском ухода (скидки, бонусы, промокоды);\n",
    "- **Приоритизировать обзвоны** в колл-центре по вероятности оттока клиента;\n",
    "- **Автоматизировать CRM-кампании**: запускать стратегию удержания, когда модель фиксирует повышенный риск.\n",
    "\n",
    "**Гибкий порог позволяет выбрать стратегию:**\n",
    "- Если важно **не упустить ни одного клиента**, который может уйти — лучше настроить модель так, чтобы она **предупреждала почаще** (это увеличит Recall). Пусть иногда будет ложная тревога, но бизнес «подстрахуется».\n",
    "  \n",
    "- Если важно **не тратить ресурсы зря**, и действовать только при высокой уверенности — настраиваем модель на **более точные сигналы** (это повышает Precision). Модель будет «молчать» чаще, но если сработает — повод серьёзный.\n",
    "\n",
    "CatBoost с `AUC = 0.9080` показывает отличную производительность и готова к внедрению в сценарии удержания клиентов."
   ]
  },
  {
   "cell_type": "code",
   "execution_count": 86,
   "metadata": {
    "colab": {
     "base_uri": "https://localhost:8080/"
    },
    "id": "jr_1HzhBiNqE",
    "outputId": "61139dc1-af2a-433f-89df-d34b3d2e9e36"
   },
   "outputs": [
    {
     "data": {
      "text/plain": [
       "['catboost_final_model.joblib']"
      ]
     },
     "execution_count": 86,
     "metadata": {},
     "output_type": "execute_result"
    }
   ],
   "source": [
    "# Сохраняем обученную модель\n",
    "joblib.dump(final_cb_model, 'catboost_final_model.joblib')"
   ]
  },
  {
   "cell_type": "code",
   "execution_count": 87,
   "metadata": {
    "colab": {
     "base_uri": "https://localhost:8080/"
    },
    "id": "cJjmw_ZLiWur",
    "outputId": "80a8d333-fdce-4a5a-c8d9-ea33c899caff"
   },
   "outputs": [
    {
     "data": {
      "text/plain": [
       "['.ipynb_checkpoints',\n",
       " '02e82b61-b89f-4081-98ff-09ebf82751d1.ipynb',\n",
       " '106ed0b1-4e53-457d-861a-36fd63870b42.ipynb',\n",
       " '15d5adf9-246c-4b56-a6a8-43d94bd8231e.ipynb',\n",
       " '19372f4f-2ead-4e38-bffb-83dca727e8b0.ipynb',\n",
       " '1cac3c21-3cea-4bbd-87e6-1e458e0508e7.ipynb',\n",
       " '20cd7c25-deca-47ae-b927-80f6f6242bce.ipynb',\n",
       " '2e78ac4a-3fd0-4088-acad-e57113fd9bfc-Copy1.ipynb',\n",
       " '2e78ac4a-3fd0-4088-acad-e57113fd9bfc.ipynb',\n",
       " '48a19397-d3fe-45d9-95e6-c116b8486e56.ipynb',\n",
       " '4e0b1291-ab27-437c-84b3-f7eb4d668c47.ipynb',\n",
       " '510d7865-2e03-4d4a-93f0-1a2457f653f9.ipynb',\n",
       " '56d9bcd0-dd00-4ce4-bfc1-37130333fd65.ipynb',\n",
       " '60fb7221-e6a6-4c68-b92a-7a29f38c9ae5.ipynb',\n",
       " '6578cd52-d561-4374-81e1-8d0f359004c8.ipynb',\n",
       " '67f13a7e-98ca-41e6-bde1-9fbd7fe6744a.ipynb',\n",
       " '6d7cca89-d78b-4770-bae4-b829f81fdf4b.ipynb',\n",
       " '7ac2572b-a8e6-454b-8798-1b1540012dd2-Copy1.ipynb',\n",
       " '7ac2572b-a8e6-454b-8798-1b1540012dd2.ipynb',\n",
       " '90289507-c16d-4627-b0ad-914b36f98d8a.ipynb',\n",
       " '933678f2-a219-4aa1-bbd7-7e947d9a85fb.ipynb',\n",
       " 'ShabanovDD.ipynb',\n",
       " 'ac614454-f51e-431c-8b33-22b5e26c4f53.ipynb',\n",
       " 'bd63deab-342c-4709-826e-4af9094babb3.ipynb',\n",
       " 'be88d78f-11e0-45d0-b489-acfea88c50f2.ipynb',\n",
       " 'c0909394-c4fc-492d-bbfb-613cce27467e.ipynb',\n",
       " 'c46b3584-bb94-4b72-853f-0f2926a9c291.ipynb',\n",
       " 'california_housing_w_features',\n",
       " 'catboost_final_model.joblib',\n",
       " 'catboost_info',\n",
       " 'correlation_heatmap.png',\n",
       " 'd11dfd07-1855-413a-b591-15d13f4190ed.ipynb',\n",
       " 'd9fd33b8-a460-4920-87e9-f77e828f4587.ipynb',\n",
       " 'df_full.csv',\n",
       " 'ds-plus-final.db',\n",
       " 'ds-plus-final.db.1',\n",
       " 'eae32377-5cf3-48cc-84dc-7b2d4d5d126f.ipynb',\n",
       " 'eb585f0a-b4ac-4d4d-9520-283a3dea9cd8.ipynb',\n",
       " 'lgbm_model_final.joblib',\n",
       " 'mlp_model_final.joblib',\n",
       " 'profile_report_1.html',\n",
       " 'profile_report_2.html',\n",
       " 'profile_report_3.html',\n",
       " 'report_1.html',\n",
       " 'report_2.html',\n",
       " 'report_3.html',\n",
       " 'rf_model_final.joblib']"
      ]
     },
     "execution_count": 87,
     "metadata": {},
     "output_type": "execute_result"
    }
   ],
   "source": [
    "os.listdir()"
   ]
  },
  {
   "cell_type": "code",
   "execution_count": 88,
   "metadata": {
    "id": "rtvMalExifzS"
   },
   "outputs": [],
   "source": [
    "cb_model_loaded = joblib.load('catboost_final_model.joblib')"
   ]
  },
  {
   "cell_type": "markdown",
   "metadata": {
    "id": "qyi19hHAgGIT",
    "jp-MarkdownHeadingCollapsed": true
   },
   "source": [
    "### Выводы\n",
    "\n",
    "Клиенты с короткими контрактами (до ~500 дней) — чаще уходят;\n",
    "\n",
    "Ушедшие (is_churn = 1) распределены плотнее в диапазоне 300–1200 дней;\n",
    "\n",
    "Долгосрочные клиенты (>1800 дней) — почти всегда остаются.\n",
    "\n",
    "**Это подтверждает, что**\n",
    "\n",
    "Чем дольше клиент пользуется услугами — тем меньше вероятность оттока.\n",
    "\n"
   ]
  },
  {
   "cell_type": "markdown",
   "metadata": {},
   "source": [
    "<div class=\"alert alert-success\">\n",
    "<b>👍 Успех:</b> Все верно!\n",
    "</div>"
   ]
  },
  {
   "cell_type": "markdown",
   "metadata": {
    "id": "HILKsmGB8ysO"
   },
   "source": [
    "## Финальные выводы"
   ]
  },
  {
   "cell_type": "markdown",
   "metadata": {
    "id": "0CMD2mZf83S_"
   },
   "source": [
    "**Цель проекта**\n",
    "\n",
    "Разработать модель, которая предсказывает вероятность оттока клиента телеком-оператора «ТелеДом», чтобы своевременно предлагать удерживающие меры: промокоды, спецусловия и т.п.\n",
    "\n",
    "**Основные этапы проекта:**\n",
    "- Изучены и объединены 4 таблицы из SQLite;\n",
    "\n",
    "- Обработаны пропуски, создан флаг is_churn, рассчитана длительность контракта;\n",
    "\n",
    "- Проведена визуализация и корреляционный анализ;\n",
    "\n",
    "- Удален лишний признак `totalcharges`;\n",
    "- Выделены категориальные и числовые признаки;\n",
    "\n",
    "- Обучены и сравнены 4 модели.\n",
    "\n",
    "параметры лучшей модели \n",
    "`Catboost`:\n",
    "   - `learning_rate`: **0.1**\n",
    "   - `l2_leaf_reg`: **1**\n",
    "   - `iterations`: **400**\n",
    "   - `depth`: **5**\n",
    "\n",
    "Ключевые метрики тестирования модели:\n",
    "- ROC-AUC (тест) **0.9080**\n",
    "- CV ROC-AUC (после доработки) 0.8862\n",
    "- CV ROC-AUC (до доработки) 0.8714\n"
   ]
  },
  {
   "cell_type": "markdown",
   "metadata": {
    "id": "AqLOeVm3AxeD"
   },
   "source": [
    "**Рекомендации для бизнеса**\n",
    "\n",
    "1. Использовать модель для предсказания вероятности оттока на уровне клиента.\n",
    "\n",
    "2. При превышении пороговой вероятности (например, 0.5+) — автоматически предлагать удерживающие акции.\n",
    "\n",
    "3. Особое внимание клиентам:\n",
    "- с низкой длительностью контракта;\n",
    "- с высокой ежемесячной платой, но низкими общими расходами;\n",
    "- с контрактами month-to-month;\n",
    "- с активной интернет-услугой, но без защиты / техподдержки.\n",
    "\n",
    "**Возможности для улучшения:**\n",
    "- Добавить новые признаки (средний чек, активность по услугам);\n",
    "- Протестировать ансамбли моделей или AutoML;\n",
    "- Анализировать реакцию клиентов на удерживающие меры (внедрение A/B тестов).\n",
    "\n"
   ]
  },
  {
   "cell_type": "code",
   "execution_count": null,
   "metadata": {},
   "outputs": [],
   "source": []
  }
 ],
 "metadata": {
  "ExecuteTimeLog": [
   {
    "duration": 4,
    "start_time": "2025-03-28T14:55:53.321Z"
   },
   {
    "duration": 1639,
    "start_time": "2025-03-28T14:55:53.328Z"
   },
   {
    "duration": 0,
    "start_time": "2025-03-28T14:55:54.970Z"
   },
   {
    "duration": 0,
    "start_time": "2025-03-28T14:55:54.971Z"
   },
   {
    "duration": 0,
    "start_time": "2025-03-28T14:55:54.973Z"
   },
   {
    "duration": 0,
    "start_time": "2025-03-28T14:55:54.973Z"
   },
   {
    "duration": 0,
    "start_time": "2025-03-28T14:55:54.975Z"
   },
   {
    "duration": 0,
    "start_time": "2025-03-28T14:55:54.975Z"
   },
   {
    "duration": 0,
    "start_time": "2025-03-28T14:55:54.976Z"
   },
   {
    "duration": 0,
    "start_time": "2025-03-28T14:55:54.978Z"
   },
   {
    "duration": 0,
    "start_time": "2025-03-28T14:55:54.979Z"
   },
   {
    "duration": 0,
    "start_time": "2025-03-28T14:55:54.980Z"
   },
   {
    "duration": 0,
    "start_time": "2025-03-28T14:55:54.981Z"
   },
   {
    "duration": 0,
    "start_time": "2025-03-28T14:55:54.982Z"
   },
   {
    "duration": 0,
    "start_time": "2025-03-28T14:55:54.983Z"
   },
   {
    "duration": 0,
    "start_time": "2025-03-28T14:55:54.984Z"
   },
   {
    "duration": 0,
    "start_time": "2025-03-28T14:55:54.985Z"
   },
   {
    "duration": 0,
    "start_time": "2025-03-28T14:55:54.986Z"
   },
   {
    "duration": 0,
    "start_time": "2025-03-28T14:55:54.987Z"
   },
   {
    "duration": 0,
    "start_time": "2025-03-28T14:55:54.988Z"
   },
   {
    "duration": 0,
    "start_time": "2025-03-28T14:55:54.989Z"
   },
   {
    "duration": 0,
    "start_time": "2025-03-28T14:55:54.990Z"
   },
   {
    "duration": 0,
    "start_time": "2025-03-28T14:55:54.992Z"
   },
   {
    "duration": 0,
    "start_time": "2025-03-28T14:55:54.993Z"
   },
   {
    "duration": 0,
    "start_time": "2025-03-28T14:55:54.994Z"
   },
   {
    "duration": 0,
    "start_time": "2025-03-28T14:55:54.995Z"
   },
   {
    "duration": 0,
    "start_time": "2025-03-28T14:55:54.996Z"
   },
   {
    "duration": 0,
    "start_time": "2025-03-28T14:55:54.996Z"
   },
   {
    "duration": 0,
    "start_time": "2025-03-28T14:55:54.998Z"
   },
   {
    "duration": 0,
    "start_time": "2025-03-28T14:55:54.999Z"
   },
   {
    "duration": 0,
    "start_time": "2025-03-28T14:55:55.000Z"
   },
   {
    "duration": 0,
    "start_time": "2025-03-28T14:55:55.001Z"
   },
   {
    "duration": 0,
    "start_time": "2025-03-28T14:55:55.002Z"
   },
   {
    "duration": 0,
    "start_time": "2025-03-28T14:55:55.003Z"
   },
   {
    "duration": 0,
    "start_time": "2025-03-28T14:55:55.004Z"
   },
   {
    "duration": 0,
    "start_time": "2025-03-28T14:55:55.005Z"
   },
   {
    "duration": 0,
    "start_time": "2025-03-28T14:55:55.007Z"
   },
   {
    "duration": 0,
    "start_time": "2025-03-28T14:55:55.067Z"
   },
   {
    "duration": 0,
    "start_time": "2025-03-28T14:55:55.068Z"
   },
   {
    "duration": 0,
    "start_time": "2025-03-28T14:55:55.069Z"
   },
   {
    "duration": 0,
    "start_time": "2025-03-28T14:55:55.070Z"
   },
   {
    "duration": 0,
    "start_time": "2025-03-28T14:55:55.071Z"
   },
   {
    "duration": 0,
    "start_time": "2025-03-28T14:55:55.072Z"
   },
   {
    "duration": 0,
    "start_time": "2025-03-28T14:55:55.073Z"
   },
   {
    "duration": 0,
    "start_time": "2025-03-28T14:55:55.074Z"
   },
   {
    "duration": 0,
    "start_time": "2025-03-28T14:55:55.075Z"
   },
   {
    "duration": 0,
    "start_time": "2025-03-28T14:55:55.076Z"
   },
   {
    "duration": 0,
    "start_time": "2025-03-28T14:55:55.077Z"
   },
   {
    "duration": 0,
    "start_time": "2025-03-28T14:55:55.078Z"
   },
   {
    "duration": 0,
    "start_time": "2025-03-28T14:55:55.079Z"
   },
   {
    "duration": 0,
    "start_time": "2025-03-28T14:55:55.080Z"
   },
   {
    "duration": 0,
    "start_time": "2025-03-28T14:55:55.081Z"
   },
   {
    "duration": 0,
    "start_time": "2025-03-28T14:55:55.083Z"
   },
   {
    "duration": 0,
    "start_time": "2025-03-28T14:55:55.083Z"
   },
   {
    "duration": 0,
    "start_time": "2025-03-28T14:55:55.085Z"
   },
   {
    "duration": 0,
    "start_time": "2025-03-28T14:55:55.086Z"
   },
   {
    "duration": 0,
    "start_time": "2025-03-28T14:55:55.086Z"
   },
   {
    "duration": 3,
    "start_time": "2025-03-28T19:06:28.699Z"
   },
   {
    "duration": 7695,
    "start_time": "2025-03-28T19:06:28.704Z"
   },
   {
    "duration": 1446,
    "start_time": "2025-03-28T19:06:36.402Z"
   },
   {
    "duration": 3,
    "start_time": "2025-03-28T19:06:37.849Z"
   },
   {
    "duration": 1572,
    "start_time": "2025-03-28T19:06:37.854Z"
   },
   {
    "duration": 13,
    "start_time": "2025-03-28T19:06:39.429Z"
   },
   {
    "duration": 2919,
    "start_time": "2025-03-28T19:06:39.444Z"
   },
   {
    "duration": 3,
    "start_time": "2025-03-28T19:06:42.365Z"
   },
   {
    "duration": 102,
    "start_time": "2025-03-28T19:06:42.369Z"
   },
   {
    "duration": 39,
    "start_time": "2025-03-28T19:06:42.472Z"
   },
   {
    "duration": 29,
    "start_time": "2025-03-28T19:06:42.514Z"
   },
   {
    "duration": 5,
    "start_time": "2025-03-28T19:06:42.568Z"
   },
   {
    "duration": 17,
    "start_time": "2025-03-28T19:06:42.574Z"
   },
   {
    "duration": 6,
    "start_time": "2025-03-28T19:06:42.593Z"
   },
   {
    "duration": 7,
    "start_time": "2025-03-28T19:06:42.601Z"
   },
   {
    "duration": 37,
    "start_time": "2025-03-28T19:06:42.609Z"
   },
   {
    "duration": 886,
    "start_time": "2025-03-28T19:06:42.648Z"
   },
   {
    "duration": 113,
    "start_time": "2025-03-28T19:06:43.535Z"
   },
   {
    "duration": 886,
    "start_time": "2025-03-28T19:06:43.650Z"
   },
   {
    "duration": 712,
    "start_time": "2025-03-28T19:06:44.537Z"
   },
   {
    "duration": 1132,
    "start_time": "2025-03-28T19:06:45.251Z"
   },
   {
    "duration": 12,
    "start_time": "2025-03-28T19:06:46.385Z"
   },
   {
    "duration": 3,
    "start_time": "2025-03-28T19:06:46.398Z"
   },
   {
    "duration": 19,
    "start_time": "2025-03-28T19:06:46.402Z"
   },
   {
    "duration": 5,
    "start_time": "2025-03-28T19:06:46.422Z"
   },
   {
    "duration": 6,
    "start_time": "2025-03-28T19:06:46.428Z"
   },
   {
    "duration": 12,
    "start_time": "2025-03-28T19:06:46.435Z"
   },
   {
    "duration": 19,
    "start_time": "2025-03-28T19:06:46.448Z"
   },
   {
    "duration": 173,
    "start_time": "2025-03-28T19:06:46.471Z"
   },
   {
    "duration": 131,
    "start_time": "2025-03-28T19:06:46.646Z"
   },
   {
    "duration": 233,
    "start_time": "2025-03-28T19:06:46.780Z"
   },
   {
    "duration": 0,
    "start_time": "2025-03-28T19:06:47.015Z"
   },
   {
    "duration": 0,
    "start_time": "2025-03-28T19:06:47.016Z"
   },
   {
    "duration": 0,
    "start_time": "2025-03-28T19:06:47.017Z"
   },
   {
    "duration": 0,
    "start_time": "2025-03-28T19:06:47.018Z"
   },
   {
    "duration": 0,
    "start_time": "2025-03-28T19:06:47.019Z"
   },
   {
    "duration": 0,
    "start_time": "2025-03-28T19:06:47.020Z"
   },
   {
    "duration": 0,
    "start_time": "2025-03-28T19:06:47.021Z"
   },
   {
    "duration": 0,
    "start_time": "2025-03-28T19:06:47.023Z"
   },
   {
    "duration": 1,
    "start_time": "2025-03-28T19:06:47.023Z"
   },
   {
    "duration": 0,
    "start_time": "2025-03-28T19:06:47.025Z"
   },
   {
    "duration": 0,
    "start_time": "2025-03-28T19:06:47.026Z"
   },
   {
    "duration": 0,
    "start_time": "2025-03-28T19:06:47.027Z"
   },
   {
    "duration": 0,
    "start_time": "2025-03-28T19:06:47.028Z"
   },
   {
    "duration": 0,
    "start_time": "2025-03-28T19:06:47.029Z"
   },
   {
    "duration": 1,
    "start_time": "2025-03-28T19:06:47.029Z"
   },
   {
    "duration": 0,
    "start_time": "2025-03-28T19:06:47.030Z"
   },
   {
    "duration": 0,
    "start_time": "2025-03-28T19:06:47.032Z"
   },
   {
    "duration": 0,
    "start_time": "2025-03-28T19:06:47.033Z"
   },
   {
    "duration": 0,
    "start_time": "2025-03-28T19:06:47.034Z"
   },
   {
    "duration": 0,
    "start_time": "2025-03-28T19:06:47.068Z"
   },
   {
    "duration": 0,
    "start_time": "2025-03-28T19:06:47.069Z"
   },
   {
    "duration": 0,
    "start_time": "2025-03-28T19:06:47.070Z"
   },
   {
    "duration": 0,
    "start_time": "2025-03-28T19:06:47.072Z"
   },
   {
    "duration": 0,
    "start_time": "2025-03-28T19:06:47.075Z"
   },
   {
    "duration": 0,
    "start_time": "2025-03-28T19:06:47.076Z"
   },
   {
    "duration": 0,
    "start_time": "2025-03-28T19:06:47.077Z"
   },
   {
    "duration": 0,
    "start_time": "2025-03-28T19:06:47.078Z"
   },
   {
    "duration": 1679,
    "start_time": "2025-03-29T13:05:29.347Z"
   },
   {
    "duration": 7175,
    "start_time": "2025-03-29T13:05:36.681Z"
   },
   {
    "duration": 24,
    "start_time": "2025-03-29T13:05:46.221Z"
   },
   {
    "duration": 14,
    "start_time": "2025-03-29T13:07:27.269Z"
   },
   {
    "duration": 12,
    "start_time": "2025-03-29T13:07:58.940Z"
   },
   {
    "duration": 18652,
    "start_time": "2025-03-29T13:08:49.271Z"
   },
   {
    "duration": 27,
    "start_time": "2025-03-29T13:09:07.926Z"
   },
   {
    "duration": 3,
    "start_time": "2025-03-29T13:09:19.484Z"
   },
   {
    "duration": 2220,
    "start_time": "2025-03-29T13:09:19.488Z"
   },
   {
    "duration": 13558,
    "start_time": "2025-03-29T13:09:21.710Z"
   },
   {
    "duration": 587,
    "start_time": "2025-03-29T13:09:35.270Z"
   },
   {
    "duration": 0,
    "start_time": "2025-03-29T13:09:35.861Z"
   },
   {
    "duration": 0,
    "start_time": "2025-03-29T13:09:35.862Z"
   },
   {
    "duration": 0,
    "start_time": "2025-03-29T13:09:35.863Z"
   },
   {
    "duration": 0,
    "start_time": "2025-03-29T13:09:35.865Z"
   },
   {
    "duration": 0,
    "start_time": "2025-03-29T13:09:35.865Z"
   },
   {
    "duration": 1,
    "start_time": "2025-03-29T13:09:35.866Z"
   },
   {
    "duration": 0,
    "start_time": "2025-03-29T13:09:35.868Z"
   },
   {
    "duration": 0,
    "start_time": "2025-03-29T13:09:35.869Z"
   },
   {
    "duration": 0,
    "start_time": "2025-03-29T13:09:35.869Z"
   },
   {
    "duration": 0,
    "start_time": "2025-03-29T13:09:35.871Z"
   },
   {
    "duration": 0,
    "start_time": "2025-03-29T13:09:35.871Z"
   },
   {
    "duration": 0,
    "start_time": "2025-03-29T13:09:35.873Z"
   },
   {
    "duration": 0,
    "start_time": "2025-03-29T13:09:35.874Z"
   },
   {
    "duration": 0,
    "start_time": "2025-03-29T13:09:35.874Z"
   },
   {
    "duration": 0,
    "start_time": "2025-03-29T13:09:35.875Z"
   },
   {
    "duration": 0,
    "start_time": "2025-03-29T13:09:35.877Z"
   },
   {
    "duration": 0,
    "start_time": "2025-03-29T13:09:35.878Z"
   },
   {
    "duration": 0,
    "start_time": "2025-03-29T13:09:35.879Z"
   },
   {
    "duration": 0,
    "start_time": "2025-03-29T13:09:35.879Z"
   },
   {
    "duration": 1,
    "start_time": "2025-03-29T13:09:35.880Z"
   },
   {
    "duration": 0,
    "start_time": "2025-03-29T13:09:35.881Z"
   },
   {
    "duration": 0,
    "start_time": "2025-03-29T13:09:35.882Z"
   },
   {
    "duration": 0,
    "start_time": "2025-03-29T13:09:35.883Z"
   },
   {
    "duration": 0,
    "start_time": "2025-03-29T13:09:35.884Z"
   },
   {
    "duration": 0,
    "start_time": "2025-03-29T13:09:35.885Z"
   },
   {
    "duration": 0,
    "start_time": "2025-03-29T13:09:35.886Z"
   },
   {
    "duration": 0,
    "start_time": "2025-03-29T13:09:35.887Z"
   },
   {
    "duration": 0,
    "start_time": "2025-03-29T13:09:35.888Z"
   },
   {
    "duration": 0,
    "start_time": "2025-03-29T13:09:35.889Z"
   },
   {
    "duration": 0,
    "start_time": "2025-03-29T13:09:35.889Z"
   },
   {
    "duration": 0,
    "start_time": "2025-03-29T13:09:35.890Z"
   },
   {
    "duration": 0,
    "start_time": "2025-03-29T13:09:35.891Z"
   },
   {
    "duration": 0,
    "start_time": "2025-03-29T13:09:35.893Z"
   },
   {
    "duration": 0,
    "start_time": "2025-03-29T13:09:35.893Z"
   },
   {
    "duration": 0,
    "start_time": "2025-03-29T13:09:35.894Z"
   },
   {
    "duration": 0,
    "start_time": "2025-03-29T13:09:35.895Z"
   },
   {
    "duration": 0,
    "start_time": "2025-03-29T13:09:35.896Z"
   },
   {
    "duration": 0,
    "start_time": "2025-03-29T13:09:35.897Z"
   },
   {
    "duration": 0,
    "start_time": "2025-03-29T13:09:35.903Z"
   },
   {
    "duration": 0,
    "start_time": "2025-03-29T13:09:35.904Z"
   },
   {
    "duration": 0,
    "start_time": "2025-03-29T13:09:35.905Z"
   },
   {
    "duration": 0,
    "start_time": "2025-03-29T13:09:35.906Z"
   },
   {
    "duration": 0,
    "start_time": "2025-03-29T13:09:35.907Z"
   },
   {
    "duration": 0,
    "start_time": "2025-03-29T13:09:35.907Z"
   },
   {
    "duration": 0,
    "start_time": "2025-03-29T13:09:35.908Z"
   },
   {
    "duration": 0,
    "start_time": "2025-03-29T13:09:35.909Z"
   },
   {
    "duration": 0,
    "start_time": "2025-03-29T13:09:35.910Z"
   },
   {
    "duration": 0,
    "start_time": "2025-03-29T13:09:35.911Z"
   },
   {
    "duration": 0,
    "start_time": "2025-03-29T13:09:35.912Z"
   },
   {
    "duration": 0,
    "start_time": "2025-03-29T13:09:35.913Z"
   },
   {
    "duration": 0,
    "start_time": "2025-03-29T13:09:35.914Z"
   },
   {
    "duration": 0,
    "start_time": "2025-03-29T13:09:35.915Z"
   },
   {
    "duration": 0,
    "start_time": "2025-03-29T13:09:35.916Z"
   },
   {
    "duration": 0,
    "start_time": "2025-03-29T13:09:35.917Z"
   },
   {
    "duration": 0,
    "start_time": "2025-03-29T13:09:35.918Z"
   },
   {
    "duration": 13250,
    "start_time": "2025-03-29T13:10:09.108Z"
   },
   {
    "duration": 12,
    "start_time": "2025-03-29T13:10:22.360Z"
   },
   {
    "duration": 20835,
    "start_time": "2025-03-29T13:10:54.822Z"
   },
   {
    "duration": 19481,
    "start_time": "2025-03-29T13:11:47.024Z"
   },
   {
    "duration": 2361,
    "start_time": "2025-03-29T13:12:32.202Z"
   },
   {
    "duration": 3,
    "start_time": "2025-03-29T13:12:37.817Z"
   },
   {
    "duration": 1435,
    "start_time": "2025-03-29T13:12:38.200Z"
   },
   {
    "duration": 11,
    "start_time": "2025-03-29T13:12:43.350Z"
   },
   {
    "duration": 2779,
    "start_time": "2025-03-29T13:12:44.317Z"
   },
   {
    "duration": 3,
    "start_time": "2025-03-29T13:12:47.098Z"
   },
   {
    "duration": 68,
    "start_time": "2025-03-29T13:12:47.102Z"
   },
   {
    "duration": 41,
    "start_time": "2025-03-29T13:12:49.910Z"
   },
   {
    "duration": 115,
    "start_time": "2025-03-29T13:13:23.338Z"
   },
   {
    "duration": 4,
    "start_time": "2025-03-29T13:15:12.697Z"
   },
   {
    "duration": 4,
    "start_time": "2025-03-29T13:15:27.478Z"
   },
   {
    "duration": 13,
    "start_time": "2025-03-29T13:15:35.185Z"
   },
   {
    "duration": 9,
    "start_time": "2025-03-29T13:15:48.124Z"
   },
   {
    "duration": 3,
    "start_time": "2025-03-29T13:18:36.412Z"
   },
   {
    "duration": 44,
    "start_time": "2025-03-29T13:20:10.453Z"
   },
   {
    "duration": 1517,
    "start_time": "2025-03-29T13:20:21.417Z"
   },
   {
    "duration": 3,
    "start_time": "2025-03-29T13:20:23.913Z"
   },
   {
    "duration": 1295,
    "start_time": "2025-03-29T13:20:25.160Z"
   },
   {
    "duration": 10,
    "start_time": "2025-03-29T13:20:26.458Z"
   },
   {
    "duration": 2476,
    "start_time": "2025-03-29T13:20:26.469Z"
   },
   {
    "duration": 3,
    "start_time": "2025-03-29T13:20:35.166Z"
   },
   {
    "duration": 1939,
    "start_time": "2025-03-29T13:20:36.533Z"
   },
   {
    "duration": 4,
    "start_time": "2025-03-29T13:20:38.474Z"
   },
   {
    "duration": 69,
    "start_time": "2025-03-29T13:20:38.480Z"
   },
   {
    "duration": 1460,
    "start_time": "2025-03-29T13:22:11.740Z"
   },
   {
    "duration": 2,
    "start_time": "2025-03-29T13:22:13.203Z"
   },
   {
    "duration": 1371,
    "start_time": "2025-03-29T13:22:13.316Z"
   },
   {
    "duration": 11,
    "start_time": "2025-03-29T13:22:14.689Z"
   },
   {
    "duration": 4,
    "start_time": "2025-03-29T13:22:20.031Z"
   },
   {
    "duration": 2185,
    "start_time": "2025-03-29T13:22:23.272Z"
   },
   {
    "duration": 4,
    "start_time": "2025-03-29T13:22:25.904Z"
   },
   {
    "duration": 64,
    "start_time": "2025-03-29T13:22:26.194Z"
   },
   {
    "duration": 44,
    "start_time": "2025-03-29T13:22:33.576Z"
   },
   {
    "duration": 4,
    "start_time": "2025-03-29T13:25:03.439Z"
   },
   {
    "duration": 13,
    "start_time": "2025-03-29T13:25:03.687Z"
   },
   {
    "duration": 4,
    "start_time": "2025-03-29T13:25:05.689Z"
   },
   {
    "duration": 114,
    "start_time": "2025-03-29T13:25:47.539Z"
   },
   {
    "duration": 32,
    "start_time": "2025-03-29T13:27:25.876Z"
   },
   {
    "duration": 4,
    "start_time": "2025-03-29T13:27:26.259Z"
   },
   {
    "duration": 10,
    "start_time": "2025-03-29T13:27:26.620Z"
   },
   {
    "duration": 3,
    "start_time": "2025-03-29T13:27:26.991Z"
   },
   {
    "duration": 6,
    "start_time": "2025-03-29T13:27:27.377Z"
   },
   {
    "duration": 17,
    "start_time": "2025-03-29T13:27:27.723Z"
   },
   {
    "duration": 14,
    "start_time": "2025-03-29T13:28:37.110Z"
   },
   {
    "duration": 141,
    "start_time": "2025-03-29T13:33:04.742Z"
   },
   {
    "duration": 1261,
    "start_time": "2025-03-29T13:33:16.758Z"
   },
   {
    "duration": 9,
    "start_time": "2025-03-29T13:33:52.848Z"
   },
   {
    "duration": 5,
    "start_time": "2025-03-29T13:34:07.788Z"
   },
   {
    "duration": 9,
    "start_time": "2025-03-29T13:37:38.932Z"
   },
   {
    "duration": 770,
    "start_time": "2025-03-29T13:37:39.661Z"
   },
   {
    "duration": 13,
    "start_time": "2025-03-29T13:38:31.153Z"
   },
   {
    "duration": 6,
    "start_time": "2025-03-29T13:39:14.522Z"
   },
   {
    "duration": 8,
    "start_time": "2025-03-29T13:39:37.102Z"
   },
   {
    "duration": 6,
    "start_time": "2025-03-29T13:39:49.319Z"
   },
   {
    "duration": 563,
    "start_time": "2025-03-29T13:41:55.446Z"
   },
   {
    "duration": 791,
    "start_time": "2025-03-29T13:41:56.901Z"
   },
   {
    "duration": 19,
    "start_time": "2025-03-29T13:41:58.607Z"
   },
   {
    "duration": 11,
    "start_time": "2025-03-29T13:43:31.510Z"
   },
   {
    "duration": 8,
    "start_time": "2025-03-29T13:43:36.013Z"
   },
   {
    "duration": 11,
    "start_time": "2025-03-29T13:43:52.809Z"
   },
   {
    "duration": 11,
    "start_time": "2025-03-29T13:48:15.008Z"
   },
   {
    "duration": 88,
    "start_time": "2025-03-29T13:49:53.958Z"
   },
   {
    "duration": 102,
    "start_time": "2025-03-29T13:50:13.741Z"
   },
   {
    "duration": 914,
    "start_time": "2025-03-29T13:54:02.490Z"
   },
   {
    "duration": 626,
    "start_time": "2025-03-29T13:54:07.232Z"
   },
   {
    "duration": 1066,
    "start_time": "2025-03-29T13:54:10.557Z"
   },
   {
    "duration": 11,
    "start_time": "2025-03-29T14:00:42.872Z"
   },
   {
    "duration": 11,
    "start_time": "2025-03-29T14:01:19.097Z"
   },
   {
    "duration": 3,
    "start_time": "2025-03-29T14:02:34.057Z"
   },
   {
    "duration": 418,
    "start_time": "2025-03-29T14:02:34.676Z"
   },
   {
    "duration": 3,
    "start_time": "2025-03-29T14:02:52.023Z"
   },
   {
    "duration": 3,
    "start_time": "2025-03-29T14:02:52.485Z"
   },
   {
    "duration": 322,
    "start_time": "2025-03-29T14:02:52.936Z"
   },
   {
    "duration": 39,
    "start_time": "2025-03-29T14:03:38.577Z"
   },
   {
    "duration": 32,
    "start_time": "2025-03-29T14:15:25.854Z"
   },
   {
    "duration": 204,
    "start_time": "2025-03-29T14:24:03.794Z"
   },
   {
    "duration": 7,
    "start_time": "2025-03-29T14:32:16.609Z"
   },
   {
    "duration": 34,
    "start_time": "2025-03-29T14:32:36.521Z"
   },
   {
    "duration": 2,
    "start_time": "2025-03-29T14:32:50.271Z"
   },
   {
    "duration": 13,
    "start_time": "2025-03-29T14:32:51.042Z"
   },
   {
    "duration": 6,
    "start_time": "2025-03-29T14:33:52.952Z"
   },
   {
    "duration": 10,
    "start_time": "2025-03-29T14:33:58.677Z"
   },
   {
    "duration": 3,
    "start_time": "2025-03-29T14:34:58.093Z"
   },
   {
    "duration": 103,
    "start_time": "2025-03-29T14:35:50.977Z"
   },
   {
    "duration": 58,
    "start_time": "2025-03-29T14:35:58.369Z"
   },
   {
    "duration": 2,
    "start_time": "2025-03-29T14:35:58.672Z"
   },
   {
    "duration": 30,
    "start_time": "2025-03-29T14:35:59.235Z"
   },
   {
    "duration": 83,
    "start_time": "2025-03-29T14:36:29.047Z"
   },
   {
    "duration": 3,
    "start_time": "2025-03-29T14:36:53.517Z"
   },
   {
    "duration": 4519,
    "start_time": "2025-03-29T14:37:01.167Z"
   },
   {
    "duration": 12,
    "start_time": "2025-03-29T14:38:13.207Z"
   },
   {
    "duration": 6,
    "start_time": "2025-03-29T14:38:13.752Z"
   },
   {
    "duration": 19,
    "start_time": "2025-03-29T14:43:00.600Z"
   },
   {
    "duration": 18660,
    "start_time": "2025-03-29T14:43:04.141Z"
   },
   {
    "duration": 349163,
    "start_time": "2025-03-29T14:44:06.973Z"
   },
   {
    "duration": 3,
    "start_time": "2025-03-29T14:49:56.137Z"
   },
   {
    "duration": 10,
    "start_time": "2025-03-29T14:49:56.141Z"
   },
   {
    "duration": 3454,
    "start_time": "2025-03-29T14:52:08.521Z"
   },
   {
    "duration": 133,
    "start_time": "2025-03-29T14:54:20.474Z"
   },
   {
    "duration": 425,
    "start_time": "2025-03-29T14:56:45.598Z"
   },
   {
    "duration": 246,
    "start_time": "2025-03-29T14:58:01.279Z"
   },
   {
    "duration": 142,
    "start_time": "2025-03-29T14:58:04.530Z"
   },
   {
    "duration": 97,
    "start_time": "2025-03-29T14:58:04.901Z"
   },
   {
    "duration": 49,
    "start_time": "2025-03-29T14:58:05.273Z"
   },
   {
    "duration": 9,
    "start_time": "2025-03-29T14:58:13.464Z"
   },
   {
    "duration": 3,
    "start_time": "2025-03-29T14:58:25.265Z"
   },
   {
    "duration": 713,
    "start_time": "2025-03-29T14:58:26.401Z"
   },
   {
    "duration": 137,
    "start_time": "2025-03-29T14:58:28.696Z"
   },
   {
    "duration": 5,
    "start_time": "2025-03-29T14:58:31.398Z"
   },
   {
    "duration": 138,
    "start_time": "2025-03-29T14:58:31.688Z"
   },
   {
    "duration": 5,
    "start_time": "2025-03-29T14:58:36.201Z"
   },
   {
    "duration": 158,
    "start_time": "2025-03-29T14:58:38.167Z"
   },
   {
    "duration": 3,
    "start_time": "2025-03-29T15:01:21.871Z"
   },
   {
    "duration": 111964,
    "start_time": "2025-03-29T15:01:22.442Z"
   },
   {
    "duration": 98,
    "start_time": "2025-03-29T15:03:14.408Z"
   },
   {
    "duration": 12,
    "start_time": "2025-03-29T15:03:29.780Z"
   },
   {
    "duration": 126,
    "start_time": "2025-03-29T15:03:30.129Z"
   },
   {
    "duration": 173,
    "start_time": "2025-03-29T15:07:01.218Z"
   },
   {
    "duration": 169,
    "start_time": "2025-03-29T15:07:38.459Z"
   },
   {
    "duration": 173,
    "start_time": "2025-03-29T15:07:42.098Z"
   },
   {
    "duration": 170,
    "start_time": "2025-03-29T15:07:47.161Z"
   },
   {
    "duration": 152,
    "start_time": "2025-03-29T15:09:36.175Z"
   },
   {
    "duration": 3,
    "start_time": "2025-03-31T21:43:45.810Z"
   },
   {
    "duration": 69,
    "start_time": "2025-03-31T21:43:45.815Z"
   },
   {
    "duration": 7,
    "start_time": "2025-03-31T21:43:45.886Z"
   },
   {
    "duration": 2,
    "start_time": "2025-03-31T21:43:45.895Z"
   },
   {
    "duration": 2,
    "start_time": "2025-03-31T21:43:45.899Z"
   },
   {
    "duration": 1781,
    "start_time": "2025-03-31T21:43:45.903Z"
   },
   {
    "duration": 3,
    "start_time": "2025-03-31T21:43:47.686Z"
   },
   {
    "duration": 76783,
    "start_time": "2025-03-31T21:43:47.691Z"
   },
   {
    "duration": 12,
    "start_time": "2025-03-31T21:45:04.477Z"
   },
   {
    "duration": 2443,
    "start_time": "2025-03-31T21:45:04.490Z"
   },
   {
    "duration": 3,
    "start_time": "2025-03-31T21:45:06.935Z"
   },
   {
    "duration": 109,
    "start_time": "2025-03-31T21:45:06.940Z"
   },
   {
    "duration": 67,
    "start_time": "2025-03-31T21:45:07.050Z"
   },
   {
    "duration": 5,
    "start_time": "2025-03-31T21:45:07.118Z"
   },
   {
    "duration": 13,
    "start_time": "2025-03-31T21:45:07.124Z"
   },
   {
    "duration": 11,
    "start_time": "2025-03-31T21:45:07.139Z"
   },
   {
    "duration": 44,
    "start_time": "2025-03-31T21:45:07.152Z"
   },
   {
    "duration": 4,
    "start_time": "2025-03-31T21:45:07.204Z"
   },
   {
    "duration": 18,
    "start_time": "2025-03-31T21:45:07.210Z"
   },
   {
    "duration": 11,
    "start_time": "2025-03-31T21:45:07.230Z"
   },
   {
    "duration": 8,
    "start_time": "2025-03-31T21:45:07.242Z"
   },
   {
    "duration": 24,
    "start_time": "2025-03-31T21:45:07.251Z"
   },
   {
    "duration": 772,
    "start_time": "2025-03-31T21:45:07.276Z"
   },
   {
    "duration": 928,
    "start_time": "2025-03-31T21:45:08.051Z"
   },
   {
    "duration": 26,
    "start_time": "2025-03-31T21:45:08.980Z"
   },
   {
    "duration": 7,
    "start_time": "2025-03-31T21:45:09.007Z"
   },
   {
    "duration": 16,
    "start_time": "2025-03-31T21:45:09.015Z"
   },
   {
    "duration": 33,
    "start_time": "2025-03-31T21:45:09.033Z"
   },
   {
    "duration": 129,
    "start_time": "2025-03-31T21:45:09.067Z"
   },
   {
    "duration": 917,
    "start_time": "2025-03-31T21:45:09.197Z"
   },
   {
    "duration": 646,
    "start_time": "2025-03-31T21:45:10.116Z"
   },
   {
    "duration": 1288,
    "start_time": "2025-03-31T21:45:10.764Z"
   },
   {
    "duration": 13,
    "start_time": "2025-03-31T21:45:12.054Z"
   },
   {
    "duration": 3,
    "start_time": "2025-03-31T21:45:12.068Z"
   },
   {
    "duration": 6,
    "start_time": "2025-03-31T21:45:12.073Z"
   },
   {
    "duration": 456,
    "start_time": "2025-03-31T21:45:12.080Z"
   },
   {
    "duration": 41,
    "start_time": "2025-03-31T21:45:12.538Z"
   },
   {
    "duration": 6,
    "start_time": "2025-03-31T21:45:12.580Z"
   },
   {
    "duration": 52,
    "start_time": "2025-03-31T21:45:12.587Z"
   },
   {
    "duration": 2,
    "start_time": "2025-03-31T21:45:12.640Z"
   },
   {
    "duration": 8,
    "start_time": "2025-03-31T21:45:12.644Z"
   },
   {
    "duration": 19,
    "start_time": "2025-03-31T21:45:12.654Z"
   },
   {
    "duration": 140,
    "start_time": "2025-03-31T21:45:12.674Z"
   },
   {
    "duration": 0,
    "start_time": "2025-03-31T21:45:12.816Z"
   },
   {
    "duration": 1,
    "start_time": "2025-03-31T21:45:12.817Z"
   },
   {
    "duration": 0,
    "start_time": "2025-03-31T21:45:12.819Z"
   },
   {
    "duration": 0,
    "start_time": "2025-03-31T21:45:12.820Z"
   },
   {
    "duration": 0,
    "start_time": "2025-03-31T21:45:12.821Z"
   },
   {
    "duration": 0,
    "start_time": "2025-03-31T21:45:12.823Z"
   },
   {
    "duration": 0,
    "start_time": "2025-03-31T21:45:12.824Z"
   },
   {
    "duration": 0,
    "start_time": "2025-03-31T21:45:12.825Z"
   },
   {
    "duration": 0,
    "start_time": "2025-03-31T21:45:12.826Z"
   },
   {
    "duration": 0,
    "start_time": "2025-03-31T21:45:12.828Z"
   },
   {
    "duration": 0,
    "start_time": "2025-03-31T21:45:12.829Z"
   },
   {
    "duration": 1,
    "start_time": "2025-03-31T21:45:12.830Z"
   },
   {
    "duration": 0,
    "start_time": "2025-03-31T21:45:12.832Z"
   },
   {
    "duration": 0,
    "start_time": "2025-03-31T21:45:12.833Z"
   },
   {
    "duration": 0,
    "start_time": "2025-03-31T21:45:12.835Z"
   },
   {
    "duration": 0,
    "start_time": "2025-03-31T21:45:12.836Z"
   },
   {
    "duration": 0,
    "start_time": "2025-03-31T21:45:12.837Z"
   },
   {
    "duration": 0,
    "start_time": "2025-03-31T21:45:12.839Z"
   },
   {
    "duration": 0,
    "start_time": "2025-03-31T21:45:12.840Z"
   },
   {
    "duration": 1,
    "start_time": "2025-03-31T21:45:12.841Z"
   },
   {
    "duration": 0,
    "start_time": "2025-03-31T21:45:12.843Z"
   },
   {
    "duration": 0,
    "start_time": "2025-03-31T21:45:12.844Z"
   },
   {
    "duration": 0,
    "start_time": "2025-03-31T21:45:12.845Z"
   },
   {
    "duration": 0,
    "start_time": "2025-03-31T21:45:12.847Z"
   },
   {
    "duration": 0,
    "start_time": "2025-03-31T21:45:12.848Z"
   },
   {
    "duration": 0,
    "start_time": "2025-03-31T21:45:12.850Z"
   },
   {
    "duration": 0,
    "start_time": "2025-03-31T21:45:12.905Z"
   },
   {
    "duration": 0,
    "start_time": "2025-03-31T21:45:12.907Z"
   },
   {
    "duration": 0,
    "start_time": "2025-03-31T21:45:12.908Z"
   },
   {
    "duration": 0,
    "start_time": "2025-03-31T21:45:12.909Z"
   },
   {
    "duration": 0,
    "start_time": "2025-03-31T21:45:12.910Z"
   },
   {
    "duration": 0,
    "start_time": "2025-03-31T21:45:12.912Z"
   },
   {
    "duration": 0,
    "start_time": "2025-03-31T21:45:12.913Z"
   },
   {
    "duration": 0,
    "start_time": "2025-03-31T21:45:12.914Z"
   },
   {
    "duration": 0,
    "start_time": "2025-03-31T21:45:12.915Z"
   },
   {
    "duration": 0,
    "start_time": "2025-03-31T21:45:12.916Z"
   },
   {
    "duration": 0,
    "start_time": "2025-03-31T21:45:12.918Z"
   },
   {
    "duration": 10,
    "start_time": "2025-03-31T21:48:18.820Z"
   },
   {
    "duration": 12,
    "start_time": "2025-03-31T21:48:53.380Z"
   },
   {
    "duration": 11,
    "start_time": "2025-03-31T21:48:54.438Z"
   },
   {
    "duration": 1541,
    "start_time": "2025-03-31T21:49:58.299Z"
   },
   {
    "duration": 2,
    "start_time": "2025-03-31T21:50:02.440Z"
   },
   {
    "duration": 1523,
    "start_time": "2025-03-31T21:50:03.248Z"
   },
   {
    "duration": 12,
    "start_time": "2025-03-31T21:50:04.774Z"
   },
   {
    "duration": 2935,
    "start_time": "2025-03-31T21:50:06.108Z"
   },
   {
    "duration": 5,
    "start_time": "2025-03-31T21:50:09.044Z"
   },
   {
    "duration": 72,
    "start_time": "2025-03-31T21:50:09.050Z"
   },
   {
    "duration": 38,
    "start_time": "2025-03-31T21:50:09.124Z"
   },
   {
    "duration": 4,
    "start_time": "2025-03-31T21:50:09.164Z"
   },
   {
    "duration": 43,
    "start_time": "2025-03-31T21:50:09.169Z"
   },
   {
    "duration": 3,
    "start_time": "2025-03-31T21:50:09.213Z"
   },
   {
    "duration": 33,
    "start_time": "2025-03-31T21:50:11.483Z"
   },
   {
    "duration": 5,
    "start_time": "2025-03-31T21:50:11.641Z"
   },
   {
    "duration": 11,
    "start_time": "2025-03-31T21:50:11.788Z"
   },
   {
    "duration": 3,
    "start_time": "2025-03-31T21:50:11.956Z"
   },
   {
    "duration": 5,
    "start_time": "2025-03-31T21:50:12.114Z"
   },
   {
    "duration": 24,
    "start_time": "2025-03-31T21:50:12.274Z"
   },
   {
    "duration": 675,
    "start_time": "2025-03-31T21:50:12.609Z"
   },
   {
    "duration": 882,
    "start_time": "2025-03-31T21:50:13.286Z"
   },
   {
    "duration": 16,
    "start_time": "2025-03-31T21:50:14.170Z"
   },
   {
    "duration": 21,
    "start_time": "2025-03-31T21:50:14.188Z"
   },
   {
    "duration": 5,
    "start_time": "2025-03-31T21:50:14.211Z"
   },
   {
    "duration": 6,
    "start_time": "2025-03-31T21:50:14.218Z"
   },
   {
    "duration": 122,
    "start_time": "2025-03-31T21:50:14.531Z"
   },
   {
    "duration": 968,
    "start_time": "2025-03-31T21:50:16.152Z"
   },
   {
    "duration": 668,
    "start_time": "2025-03-31T21:50:17.121Z"
   },
   {
    "duration": 1256,
    "start_time": "2025-03-31T21:50:17.791Z"
   },
   {
    "duration": 13,
    "start_time": "2025-03-31T21:50:19.049Z"
   },
   {
    "duration": 3,
    "start_time": "2025-03-31T21:50:19.063Z"
   },
   {
    "duration": 10,
    "start_time": "2025-03-31T21:50:19.067Z"
   },
   {
    "duration": 464,
    "start_time": "2025-03-31T21:50:19.079Z"
   },
   {
    "duration": 41,
    "start_time": "2025-03-31T21:50:20.370Z"
   },
   {
    "duration": 7,
    "start_time": "2025-03-31T21:50:20.696Z"
   },
   {
    "duration": 36,
    "start_time": "2025-03-31T21:50:20.855Z"
   },
   {
    "duration": 2,
    "start_time": "2025-03-31T21:50:22.464Z"
   },
   {
    "duration": 6,
    "start_time": "2025-03-31T21:50:22.610Z"
   },
   {
    "duration": 10,
    "start_time": "2025-03-31T21:50:22.768Z"
   },
   {
    "duration": 124,
    "start_time": "2025-03-31T21:50:22.924Z"
   },
   {
    "duration": 2,
    "start_time": "2025-03-31T21:51:41.171Z"
   },
   {
    "duration": 3,
    "start_time": "2025-03-31T21:52:17.734Z"
   },
   {
    "duration": 24,
    "start_time": "2025-03-31T21:52:26.724Z"
   },
   {
    "duration": 4,
    "start_time": "2025-03-31T21:55:44.083Z"
   },
   {
    "duration": 61,
    "start_time": "2025-03-31T21:55:47.528Z"
   },
   {
    "duration": 10,
    "start_time": "2025-03-31T21:56:04.925Z"
   },
   {
    "duration": 4,
    "start_time": "2025-03-31T21:57:21.839Z"
   },
   {
    "duration": 28,
    "start_time": "2025-03-31T21:57:41.391Z"
   },
   {
    "duration": 3,
    "start_time": "2025-03-31T21:57:46.453Z"
   },
   {
    "duration": 3567,
    "start_time": "2025-03-31T21:57:47.039Z"
   },
   {
    "duration": 3,
    "start_time": "2025-03-31T21:57:50.608Z"
   },
   {
    "duration": 788,
    "start_time": "2025-03-31T21:57:50.613Z"
   },
   {
    "duration": 647,
    "start_time": "2025-03-31T21:57:51.405Z"
   },
   {
    "duration": 82,
    "start_time": "2025-03-31T21:59:07.782Z"
   },
   {
    "duration": 3,
    "start_time": "2025-03-31T22:00:06.159Z"
   },
   {
    "duration": 1578,
    "start_time": "2025-03-31T22:01:58.181Z"
   },
   {
    "duration": 2,
    "start_time": "2025-03-31T22:01:59.761Z"
   },
   {
    "duration": 1525,
    "start_time": "2025-03-31T22:01:59.764Z"
   },
   {
    "duration": 12,
    "start_time": "2025-03-31T22:02:01.291Z"
   },
   {
    "duration": 2578,
    "start_time": "2025-03-31T22:02:01.305Z"
   },
   {
    "duration": 3,
    "start_time": "2025-03-31T22:02:03.885Z"
   },
   {
    "duration": 151,
    "start_time": "2025-03-31T22:02:03.890Z"
   },
   {
    "duration": 71,
    "start_time": "2025-03-31T22:02:04.042Z"
   },
   {
    "duration": 5,
    "start_time": "2025-03-31T22:02:04.115Z"
   },
   {
    "duration": 21,
    "start_time": "2025-03-31T22:02:04.122Z"
   },
   {
    "duration": 30,
    "start_time": "2025-03-31T22:02:04.145Z"
   },
   {
    "duration": 48,
    "start_time": "2025-03-31T22:02:04.177Z"
   },
   {
    "duration": 5,
    "start_time": "2025-03-31T22:02:04.227Z"
   },
   {
    "duration": 40,
    "start_time": "2025-03-31T22:02:04.233Z"
   },
   {
    "duration": 20,
    "start_time": "2025-03-31T22:02:04.274Z"
   },
   {
    "duration": 19,
    "start_time": "2025-03-31T22:02:04.295Z"
   },
   {
    "duration": 31,
    "start_time": "2025-03-31T22:02:04.316Z"
   },
   {
    "duration": 790,
    "start_time": "2025-03-31T22:02:04.349Z"
   },
   {
    "duration": 868,
    "start_time": "2025-03-31T22:02:05.141Z"
   },
   {
    "duration": 17,
    "start_time": "2025-03-31T22:02:06.011Z"
   },
   {
    "duration": 65,
    "start_time": "2025-03-31T22:02:06.029Z"
   },
   {
    "duration": 14,
    "start_time": "2025-03-31T22:02:06.098Z"
   },
   {
    "duration": 17,
    "start_time": "2025-03-31T22:02:06.114Z"
   },
   {
    "duration": 126,
    "start_time": "2025-03-31T22:02:06.133Z"
   },
   {
    "duration": 900,
    "start_time": "2025-03-31T22:02:06.260Z"
   },
   {
    "duration": 638,
    "start_time": "2025-03-31T22:02:07.161Z"
   },
   {
    "duration": 1333,
    "start_time": "2025-03-31T22:02:07.801Z"
   },
   {
    "duration": 15,
    "start_time": "2025-03-31T22:02:09.135Z"
   },
   {
    "duration": 3,
    "start_time": "2025-03-31T22:02:09.152Z"
   },
   {
    "duration": 6,
    "start_time": "2025-03-31T22:02:09.156Z"
   },
   {
    "duration": 476,
    "start_time": "2025-03-31T22:02:09.164Z"
   },
   {
    "duration": 41,
    "start_time": "2025-03-31T22:02:09.642Z"
   },
   {
    "duration": 7,
    "start_time": "2025-03-31T22:02:09.706Z"
   },
   {
    "duration": 145,
    "start_time": "2025-03-31T22:02:09.714Z"
   },
   {
    "duration": 3,
    "start_time": "2025-03-31T22:02:11.769Z"
   },
   {
    "duration": 6,
    "start_time": "2025-03-31T22:02:11.940Z"
   },
   {
    "duration": 13,
    "start_time": "2025-03-31T22:02:12.118Z"
   },
   {
    "duration": 3,
    "start_time": "2025-03-31T22:02:12.287Z"
   },
   {
    "duration": 2,
    "start_time": "2025-03-31T22:02:12.467Z"
   },
   {
    "duration": 3,
    "start_time": "2025-03-31T22:02:12.648Z"
   },
   {
    "duration": 63,
    "start_time": "2025-03-31T22:02:16.540Z"
   },
   {
    "duration": 2,
    "start_time": "2025-03-31T22:02:16.732Z"
   },
   {
    "duration": 27,
    "start_time": "2025-03-31T22:02:16.912Z"
   },
   {
    "duration": 3,
    "start_time": "2025-03-31T22:02:20.960Z"
   },
   {
    "duration": 3545,
    "start_time": "2025-03-31T22:02:21.142Z"
   },
   {
    "duration": 4,
    "start_time": "2025-03-31T22:02:24.689Z"
   },
   {
    "duration": 789,
    "start_time": "2025-03-31T22:02:24.694Z"
   },
   {
    "duration": 696,
    "start_time": "2025-03-31T22:02:25.485Z"
   },
   {
    "duration": 3,
    "start_time": "2025-03-31T22:02:37.106Z"
   },
   {
    "duration": 623374,
    "start_time": "2025-03-31T22:02:37.330Z"
   },
   {
    "duration": 4,
    "start_time": "2025-03-31T22:13:00.708Z"
   },
   {
    "duration": 149692,
    "start_time": "2025-03-31T22:13:00.714Z"
   },
   {
    "duration": 187,
    "start_time": "2025-03-31T22:15:30.504Z"
   },
   {
    "duration": 3,
    "start_time": "2025-03-31T22:15:30.693Z"
   },
   {
    "duration": 7613,
    "start_time": "2025-03-31T22:15:30.697Z"
   },
   {
    "duration": 3,
    "start_time": "2025-03-31T22:15:38.312Z"
   },
   {
    "duration": 1790,
    "start_time": "2025-03-31T22:15:38.316Z"
   },
   {
    "duration": 560,
    "start_time": "2025-03-31T22:15:40.108Z"
   },
   {
    "duration": 3,
    "start_time": "2025-03-31T22:15:40.669Z"
   },
   {
    "duration": 46,
    "start_time": "2025-03-31T22:15:40.675Z"
   },
   {
    "duration": 22266,
    "start_time": "2025-03-31T22:15:40.722Z"
   },
   {
    "duration": 3,
    "start_time": "2025-03-31T22:16:02.990Z"
   },
   {
    "duration": 103,
    "start_time": "2025-03-31T22:16:02.995Z"
   },
   {
    "duration": 21,
    "start_time": "2025-03-31T22:16:03.099Z"
   },
   {
    "duration": 399853,
    "start_time": "2025-03-31T22:16:03.122Z"
   },
   {
    "duration": 3,
    "start_time": "2025-03-31T22:22:42.977Z"
   },
   {
    "duration": 10,
    "start_time": "2025-03-31T22:22:42.981Z"
   },
   {
    "duration": 3937,
    "start_time": "2025-03-31T22:22:42.993Z"
   },
   {
    "duration": 18,
    "start_time": "2025-03-31T22:22:46.931Z"
   },
   {
    "duration": 94,
    "start_time": "2025-03-31T22:22:46.950Z"
   },
   {
    "duration": 210,
    "start_time": "2025-03-31T22:22:47.046Z"
   },
   {
    "duration": 364,
    "start_time": "2025-03-31T22:22:47.257Z"
   },
   {
    "duration": 312,
    "start_time": "2025-03-31T22:22:47.622Z"
   },
   {
    "duration": 128,
    "start_time": "2025-03-31T22:22:47.935Z"
   },
   {
    "duration": 0,
    "start_time": "2025-03-31T22:22:48.064Z"
   },
   {
    "duration": 0,
    "start_time": "2025-03-31T22:22:48.065Z"
   },
   {
    "duration": 0,
    "start_time": "2025-03-31T22:22:48.067Z"
   },
   {
    "duration": 6,
    "start_time": "2025-03-31T22:28:10.767Z"
   },
   {
    "duration": 14,
    "start_time": "2025-03-31T22:28:17.383Z"
   },
   {
    "duration": 12,
    "start_time": "2025-03-31T22:28:51.403Z"
   },
   {
    "duration": 246,
    "start_time": "2025-03-31T22:29:52.333Z"
   },
   {
    "duration": 97,
    "start_time": "2025-03-31T22:30:04.450Z"
   },
   {
    "duration": 44,
    "start_time": "2025-03-31T22:30:05.439Z"
   },
   {
    "duration": 30,
    "start_time": "2025-03-31T22:30:05.675Z"
   },
   {
    "duration": 1862,
    "start_time": "2025-04-01T19:33:13.739Z"
   },
   {
    "duration": 2,
    "start_time": "2025-04-01T19:33:15.603Z"
   },
   {
    "duration": 1590,
    "start_time": "2025-04-01T19:33:15.607Z"
   },
   {
    "duration": 12,
    "start_time": "2025-04-01T19:33:17.199Z"
   },
   {
    "duration": 2076,
    "start_time": "2025-04-01T19:33:17.212Z"
   },
   {
    "duration": 3,
    "start_time": "2025-04-01T19:33:19.290Z"
   },
   {
    "duration": 93,
    "start_time": "2025-04-01T19:33:19.295Z"
   },
   {
    "duration": 67,
    "start_time": "2025-04-01T19:33:19.390Z"
   },
   {
    "duration": 4,
    "start_time": "2025-04-01T19:33:19.459Z"
   },
   {
    "duration": 14,
    "start_time": "2025-04-01T19:33:19.465Z"
   },
   {
    "duration": 3,
    "start_time": "2025-04-01T19:33:19.480Z"
   },
   {
    "duration": 33,
    "start_time": "2025-04-01T19:33:19.485Z"
   },
   {
    "duration": 5,
    "start_time": "2025-04-01T19:33:19.519Z"
   },
   {
    "duration": 12,
    "start_time": "2025-04-01T19:33:19.554Z"
   },
   {
    "duration": 3,
    "start_time": "2025-04-01T19:33:19.567Z"
   },
   {
    "duration": 7,
    "start_time": "2025-04-01T19:33:19.572Z"
   },
   {
    "duration": 23,
    "start_time": "2025-04-01T19:33:19.656Z"
   },
   {
    "duration": 738,
    "start_time": "2025-04-01T19:33:19.937Z"
   },
   {
    "duration": 882,
    "start_time": "2025-04-01T19:33:20.677Z"
   },
   {
    "duration": 18,
    "start_time": "2025-04-01T19:33:21.560Z"
   },
   {
    "duration": 7,
    "start_time": "2025-04-01T19:33:21.580Z"
   },
   {
    "duration": 5,
    "start_time": "2025-04-01T19:33:21.589Z"
   },
   {
    "duration": 6,
    "start_time": "2025-04-01T19:33:21.596Z"
   },
   {
    "duration": 107,
    "start_time": "2025-04-01T19:33:21.943Z"
   },
   {
    "duration": 884,
    "start_time": "2025-04-01T19:33:22.792Z"
   },
   {
    "duration": 639,
    "start_time": "2025-04-01T19:33:23.678Z"
   },
   {
    "duration": 1281,
    "start_time": "2025-04-01T19:33:24.318Z"
   },
   {
    "duration": 12,
    "start_time": "2025-04-01T19:33:25.602Z"
   },
   {
    "duration": 16,
    "start_time": "2025-04-01T19:33:25.616Z"
   },
   {
    "duration": 4,
    "start_time": "2025-04-01T19:33:25.634Z"
   },
   {
    "duration": 447,
    "start_time": "2025-04-01T19:33:25.640Z"
   },
   {
    "duration": 40,
    "start_time": "2025-04-01T19:33:26.089Z"
   },
   {
    "duration": 24,
    "start_time": "2025-04-01T19:33:26.131Z"
   },
   {
    "duration": 35,
    "start_time": "2025-04-01T19:33:26.157Z"
   },
   {
    "duration": 3,
    "start_time": "2025-04-01T19:33:26.193Z"
   },
   {
    "duration": 6,
    "start_time": "2025-04-01T19:33:26.319Z"
   },
   {
    "duration": 11,
    "start_time": "2025-04-01T19:33:26.486Z"
   },
   {
    "duration": 3,
    "start_time": "2025-04-01T19:33:26.652Z"
   },
   {
    "duration": 2,
    "start_time": "2025-04-01T19:33:26.826Z"
   },
   {
    "duration": 3,
    "start_time": "2025-04-01T19:33:27.002Z"
   },
   {
    "duration": 63,
    "start_time": "2025-04-01T19:33:28.042Z"
   },
   {
    "duration": 2,
    "start_time": "2025-04-01T19:33:28.212Z"
   },
   {
    "duration": 29,
    "start_time": "2025-04-01T19:33:28.342Z"
   },
   {
    "duration": 3,
    "start_time": "2025-04-01T19:33:29.727Z"
   },
   {
    "duration": 3500,
    "start_time": "2025-04-01T19:33:29.897Z"
   },
   {
    "duration": 3,
    "start_time": "2025-04-01T19:33:33.399Z"
   },
   {
    "duration": 759,
    "start_time": "2025-04-01T19:33:33.404Z"
   },
   {
    "duration": 432,
    "start_time": "2025-04-01T19:33:34.165Z"
   },
   {
    "duration": 3,
    "start_time": "2025-04-01T19:33:34.599Z"
   },
   {
    "duration": 579356,
    "start_time": "2025-04-01T19:33:34.604Z"
   },
   {
    "duration": 93,
    "start_time": "2025-04-01T19:43:13.963Z"
   },
   {
    "duration": 144397,
    "start_time": "2025-04-01T19:43:14.059Z"
   },
   {
    "duration": 177,
    "start_time": "2025-04-01T19:45:38.469Z"
   },
   {
    "duration": 3,
    "start_time": "2025-04-01T19:45:38.648Z"
   },
   {
    "duration": 6908,
    "start_time": "2025-04-01T19:45:38.652Z"
   },
   {
    "duration": 3,
    "start_time": "2025-04-01T19:45:45.562Z"
   },
   {
    "duration": 1390,
    "start_time": "2025-04-01T19:45:45.567Z"
   },
   {
    "duration": 77,
    "start_time": "2025-04-01T19:45:46.959Z"
   },
   {
    "duration": 3,
    "start_time": "2025-04-01T19:45:47.037Z"
   },
   {
    "duration": 33,
    "start_time": "2025-04-01T19:45:47.042Z"
   },
   {
    "duration": 20029,
    "start_time": "2025-04-01T19:45:47.076Z"
   },
   {
    "duration": 2,
    "start_time": "2025-04-01T19:46:07.107Z"
   },
   {
    "duration": 13,
    "start_time": "2025-04-01T19:46:07.111Z"
   },
   {
    "duration": 10,
    "start_time": "2025-04-01T19:46:07.125Z"
   },
   {
    "duration": 12,
    "start_time": "2025-04-01T19:46:07.136Z"
   },
   {
    "duration": 390102,
    "start_time": "2025-04-01T19:46:21.241Z"
   },
   {
    "duration": 117,
    "start_time": "2025-04-01T19:54:09.387Z"
   },
   {
    "duration": 3,
    "start_time": "2025-04-01T19:57:22.573Z"
   },
   {
    "duration": 21628,
    "start_time": "2025-04-01T19:58:16.992Z"
   },
   {
    "duration": 3,
    "start_time": "2025-04-01T19:58:38.622Z"
   },
   {
    "duration": 4,
    "start_time": "2025-04-01T19:59:40.793Z"
   },
   {
    "duration": 22180,
    "start_time": "2025-04-01T20:00:00.536Z"
   },
   {
    "duration": 3,
    "start_time": "2025-04-01T20:00:22.718Z"
   },
   {
    "duration": 4,
    "start_time": "2025-04-01T20:02:27.446Z"
   },
   {
    "duration": 4999,
    "start_time": "2025-04-01T20:02:27.887Z"
   },
   {
    "duration": 17,
    "start_time": "2025-04-01T20:02:32.888Z"
   },
   {
    "duration": 29,
    "start_time": "2025-04-01T20:02:32.907Z"
   },
   {
    "duration": 6,
    "start_time": "2025-04-01T20:02:41.993Z"
   },
   {
    "duration": 153,
    "start_time": "2025-04-01T20:03:00.126Z"
   },
   {
    "duration": 393,
    "start_time": "2025-04-01T20:05:01.266Z"
   },
   {
    "duration": 325,
    "start_time": "2025-04-01T20:05:06.374Z"
   },
   {
    "duration": 261,
    "start_time": "2025-04-01T20:05:09.983Z"
   },
   {
    "duration": 165,
    "start_time": "2025-04-01T20:13:15.934Z"
   },
   {
    "duration": 65,
    "start_time": "2025-04-01T20:13:16.213Z"
   },
   {
    "duration": 47,
    "start_time": "2025-04-01T20:13:19.795Z"
   }
  ],
  "celltoolbar": "Raw Cell Format",
  "colab": {
   "provenance": [],
   "toc_visible": true
  },
  "kernelspec": {
   "display_name": "Python 3 (ipykernel)",
   "language": "python",
   "name": "python3"
  },
  "language_info": {
   "codemirror_mode": {
    "name": "ipython",
    "version": 3
   },
   "file_extension": ".py",
   "mimetype": "text/x-python",
   "name": "python",
   "nbconvert_exporter": "python",
   "pygments_lexer": "ipython3",
   "version": "3.11.11"
  },
  "toc": {
   "base_numbering": 1,
   "nav_menu": {
    "height": "460px",
    "width": "298px"
   },
   "number_sections": true,
   "sideBar": true,
   "skip_h1_title": true,
   "title_cell": "Table of Contents",
   "title_sidebar": "Contents",
   "toc_cell": false,
   "toc_position": {},
   "toc_section_display": true,
   "toc_window_display": false
  }
 },
 "nbformat": 4,
 "nbformat_minor": 4
}
